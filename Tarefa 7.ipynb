{
 "cells": [
  {
   "cell_type": "markdown",
   "id": "44ed0c9f",
   "metadata": {},
   "source": [
    "## Polinômio de Taylor\n",
    "### Tn(x) = $\\sum_{k=0}^{n} \\frac{f^n(a)(x-a)^n}{n!}$"
   ]
  },
  {
   "cell_type": "code",
   "execution_count": 2,
   "id": "61b0e524",
   "metadata": {},
   "outputs": [],
   "source": [
    "using Plots\n",
    "using LinearAlgebra"
   ]
  },
  {
   "cell_type": "markdown",
   "id": "0f243aa0",
   "metadata": {},
   "source": [
    "Algumas funções foram definidas antes de seus testes no intuito de facilitar a resolução de problemas anteriores. "
   ]
  },
  {
   "cell_type": "code",
   "execution_count": 3,
   "id": "8ca3af33",
   "metadata": {},
   "outputs": [
    {
     "data": {
      "text/plain": [
       "taylor_ordem_zero (generic function with 1 method)"
      ]
     },
     "execution_count": 3,
     "metadata": {},
     "output_type": "execute_result"
    }
   ],
   "source": [
    "function taylor_ordem_zero(x,a,f_a, m)\n",
    "    # Dado um valor de x, um valor de a,f(a), e o maior valor \n",
    "    #que f'(t) assume no intervalo [a,x], retorna um y e um E tal que\n",
    "    #|y - f(x)|<= E\n",
    "    #No caso, o erro máximo com a aproximação usada é dado por\n",
    "    #M * (x-a)\n",
    "     y =  f_a  # (f(a) * (x-a)^0)/0!\n",
    "     E = m*(x-a)\n",
    "    return (y,E)\n",
    "    \n",
    "end"
   ]
  },
  {
   "cell_type": "code",
   "execution_count": 4,
   "id": "369f32fb",
   "metadata": {},
   "outputs": [
    {
     "data": {
      "text/plain": [
       "(4, 2.5)"
      ]
     },
     "execution_count": 4,
     "metadata": {},
     "output_type": "execute_result"
    }
   ],
   "source": [
    "#exemplo 1: f(x) = x^2 + 2x + 1;  f'(x) = 2x +2\n",
    "a =1\n",
    "x = 1.5\n",
    "f_x = x^2 + 2*x + 1  #valor correto de f(x)\n",
    "f_a = a^2 + 2*a + 1 #f(a) = 4\n",
    "m = 2*1.5 + 2 #valor maximo da derivada entre 1 e 1.5\n",
    "y,E = taylor_ordem_zero(x,a,f_a,m)"
   ]
  },
  {
   "cell_type": "code",
   "execution_count": 5,
   "id": "fac39ed8",
   "metadata": {},
   "outputs": [
    {
     "data": {
      "text/plain": [
       "2.25"
      ]
     },
     "execution_count": 5,
     "metadata": {},
     "output_type": "execute_result"
    }
   ],
   "source": [
    "abs(y - f_x) #espera-se que y - f(x) seja menor ou igual a 2.5"
   ]
  },
  {
   "cell_type": "code",
   "execution_count": 6,
   "id": "a3b483da",
   "metadata": {},
   "outputs": [
    {
     "data": {
      "text/plain": [
       "taylor_ordem_um (generic function with 1 method)"
      ]
     },
     "execution_count": 6,
     "metadata": {},
     "output_type": "execute_result"
    }
   ],
   "source": [
    "function taylor_ordem_um(x,a,f_a, f_linha_a, m)\n",
    "    # Dado um valor de x, um valor de a,f(a),f'(a), e o maior valor \n",
    "    #que f''(t) assume no intervalo [a,x], retorna um y e um E tal que\n",
    "    #|y - f(x)|<= E\n",
    "    #No caso, o erro máximo com a aproximação usada é dado por\n",
    "    #(M * (x-a)^2)/2\n",
    "     y =  f_a + f_linha_a*(x-a) #(f(a)*(x-a)^0)/0! + (f'(a)*(x-a)^1)/1! \n",
    "     E = (m*(x-a)^2)/2  \n",
    "    return (y,E)\n",
    "    \n",
    "end"
   ]
  },
  {
   "cell_type": "code",
   "execution_count": 7,
   "id": "8adca29c",
   "metadata": {},
   "outputs": [
    {
     "data": {
      "text/plain": [
       "(6.0, 0.25)"
      ]
     },
     "execution_count": 7,
     "metadata": {},
     "output_type": "execute_result"
    }
   ],
   "source": [
    "#exemplo 1: f(x) = x^2 + 2x + 1;  f'(x) = 2x +2; f'' = 2\n",
    "a =1\n",
    "x = 1.5\n",
    "f_x = x^2 + 2*x + 1  #valor correto de f(x)\n",
    "f_a = a^2 + 2*a + 1 #f(a) = 4\n",
    "f_linha_a = 2*a + 2\n",
    "m = 2\n",
    "y,E = taylor_ordem_um(x,a,f_a,f_linha_a,m)"
   ]
  },
  {
   "cell_type": "code",
   "execution_count": 8,
   "id": "c66c4fe6",
   "metadata": {},
   "outputs": [
    {
     "data": {
      "text/plain": [
       "0.25"
      ]
     },
     "execution_count": 8,
     "metadata": {},
     "output_type": "execute_result"
    }
   ],
   "source": [
    "abs(y - f_x) #espera-se que y - f(x) seja menor ou igual a 0.25"
   ]
  },
  {
   "cell_type": "code",
   "execution_count": 9,
   "id": "6b5dfa4a",
   "metadata": {},
   "outputs": [
    {
     "data": {
      "text/plain": [
       "taylor_ordem_dois (generic function with 1 method)"
      ]
     },
     "execution_count": 9,
     "metadata": {},
     "output_type": "execute_result"
    }
   ],
   "source": [
    "function taylor_ordem_dois(x,a,f_a, f_linha_a,f_duas_linhas_a, m)\n",
    "    # Dado um valor de x, um valor de a,f(a),f'(a),f''(a), e o maior valor \n",
    "    #que f'''(t) assume no intervalo [a,x], retorna um y e um E tal que\n",
    "    #|y - f(x)|<= E\n",
    "    #No caso, o erro máximo com a aproximação usada é dado por\n",
    "    #(M * (x-a)^3)/3!\n",
    "     y =  f_a + f_linha_a*(x-a) + (f_duas_linhas_a*(x-a)^2)/2 #(f(a)*(x-a)^0)/0! + (f'(a)*(x-a)^1)/1!\n",
    "                                                              # + (f''(a)*(x-a)^2)/2!\n",
    "     E = (m*(x-a)^3)/6  #(M * (x-a)^3)/3!    \n",
    "    return (y,E)\n",
    "    \n",
    "end"
   ]
  },
  {
   "cell_type": "code",
   "execution_count": 10,
   "id": "e5d06d0d",
   "metadata": {},
   "outputs": [
    {
     "data": {
      "text/plain": [
       "(6.25, 0.0)"
      ]
     },
     "execution_count": 10,
     "metadata": {},
     "output_type": "execute_result"
    }
   ],
   "source": [
    "#exemplo 1: f(x) = x^2 + 2x + 1;  f'(x) = 2x +2; f'' = 2; f'''(x) = 0\n",
    "a =1\n",
    "x = 1.5\n",
    "f_x = x^2 + 2*x + 1  #valor correto de f(x)\n",
    "f_a = a^2 + 2*a + 1 #f(a) = 4\n",
    "f_linha_a = 2*a + 2\n",
    "f_duas_linhas_a = 2\n",
    "m = 0 #como f'''(x) = 0, esperamos nenhum erro!!\n",
    "y,E = taylor_ordem_dois(x,a,f_a,f_linha_a,f_duas_linhas_a,m)"
   ]
  },
  {
   "cell_type": "code",
   "execution_count": 11,
   "id": "ec13c2e2",
   "metadata": {},
   "outputs": [
    {
     "data": {
      "text/plain": [
       "6.25"
      ]
     },
     "execution_count": 11,
     "metadata": {},
     "output_type": "execute_result"
    }
   ],
   "source": [
    "f_x  "
   ]
  },
  {
   "cell_type": "code",
   "execution_count": 12,
   "id": "d6201ea2",
   "metadata": {},
   "outputs": [
    {
     "data": {
      "text/plain": [
       "taylor_ordem_n (generic function with 1 method)"
      ]
     },
     "execution_count": 12,
     "metadata": {},
     "output_type": "execute_result"
    }
   ],
   "source": [
    "function taylor_ordem_n(x,a,derivadas, m, ordem)\n",
    "    #entradas: x, a, informações sobre f(a) e as derivadas em a,\n",
    "    #e o maior valor da derivada f^(ordem+1)(t) no intervalo [a,x]\n",
    "    #saída: y e E, onde\n",
    "    #(especificação): |y - f(x)|<= E\n",
    "    #y é o somatorio de k=0 até k=ordem de (f^(k)(a) * (x-a)^k )/k!, onde\n",
    "    #f^(k)(a) é a k-ésima derivada\n",
    "    #O erro E é dado por:\n",
    "    # (m *(x-a)^(ordem+1))(ordem+1)!\n",
    "    y = 0\n",
    "    E = 1   #E = (m*(x-a)^(ordem+1))/(ordem+1)!\n",
    "    quociente = 1 #é a parte do ((x-a)^k)/k!\n",
    "    for k=1:ordem\n",
    "        E*= (x-a)/(k) #calculando o erro por partes para evitar overflow\n",
    "        y += derivadas[k]*quociente  #f^k(a)* ((x-a)^k)/k! \n",
    "        \n",
    "        quociente *= (x-a)/k #atualizando o quociente por partes para evitar overflow\n",
    "         \n",
    "    end\n",
    "    \n",
    "    E *= m*((x-a)/(ordem+1))\n",
    "    return (y,E)\n",
    "end"
   ]
  },
  {
   "cell_type": "code",
   "execution_count": 13,
   "id": "54f24998",
   "metadata": {},
   "outputs": [
    {
     "data": {
      "text/plain": [
       "(6.0, 0.0)"
      ]
     },
     "execution_count": 13,
     "metadata": {},
     "output_type": "execute_result"
    }
   ],
   "source": [
    "#exemplo 1: f(x) = x^2 + 2x + 1;  f'(x) = 2x +2; f'' = 2; f'''(x) = 0\n",
    "a =1\n",
    "x = 1.5\n",
    "f_x = x^2 + 2*x + 1  #valor correto de f(x)\n",
    "f_a = a^2 + 2*a + 1 #f(a) = 4\n",
    "f_linha_a = 2*a + 2\n",
    "f_duas_linhas_a = 2\n",
    "m = 0 #como f'''(x) = 0, esperamos nenhum erro!!\n",
    "y,E = taylor_ordem_n(x,a,[f_a,f_linha_a,f_duas_linhas_a],m,2)"
   ]
  },
  {
   "cell_type": "code",
   "execution_count": 14,
   "id": "4ccd0526",
   "metadata": {},
   "outputs": [],
   "source": [
    "#exemplo 2: seno To-Do!!!!"
   ]
  },
  {
   "cell_type": "code",
   "execution_count": 15,
   "id": "6b0aa400",
   "metadata": {},
   "outputs": [],
   "source": [
    "#exemplo 3: e^x To-Do!!!!"
   ]
  },
  {
   "cell_type": "markdown",
   "id": "c8fe79ef",
   "metadata": {},
   "source": [
    "## Encontrando raiz aproximadamente\n",
    "### 1 - Método da bisseção"
   ]
  },
  {
   "cell_type": "code",
   "execution_count": 16,
   "id": "6443b53a",
   "metadata": {},
   "outputs": [
    {
     "data": {
      "text/plain": [
       "bissecao (generic function with 1 method)"
      ]
     },
     "execution_count": 16,
     "metadata": {},
     "output_type": "execute_result"
    }
   ],
   "source": [
    "function bissecao(f,a,b,erro) \n",
    "#especificação: dado a e b tal que f(a) e f(b) tem sinais opostos \n",
    "#retorna x_final tal que |x_final - x_c| <= erro com f(x_c)=0 \n",
    "    \n",
    "    if é_raiz(f,a)  \n",
    "        return a\n",
    "    end\n",
    "    if é_raiz(f,b)\n",
    "        return b\n",
    "    end\n",
    "    if !(tem_sinais_opostos(f,a,b))\n",
    "        return \"Não tem sinais opostos\"   \n",
    "    end\n",
    "    \n",
    "    iterações = ceil(log2((b-a)/erro))-1   #isso porque o intervalo cai pela metade a cada iteração \n",
    "    for i=1:iterações\n",
    "        m=média(a,b)\n",
    "        if é_raiz(f,m)\n",
    "            return m\n",
    "        end\n",
    "        \n",
    "        if tem_sinais_opostos(f,a,m)\n",
    "            b=m\n",
    "        else\n",
    "            a=m\n",
    "        end\n",
    "    end\n",
    "    \n",
    "    x_final=média(a,b)\n",
    "    return x_final\n",
    "end"
   ]
  },
  {
   "cell_type": "code",
   "execution_count": 17,
   "id": "e5a7e5e7",
   "metadata": {},
   "outputs": [],
   "source": [
    "#exemplos: ToDo!!!"
   ]
  },
  {
   "cell_type": "markdown",
   "id": "78b3f29a",
   "metadata": {},
   "source": [
    "### 2 - Método de Newton"
   ]
  },
  {
   "cell_type": "code",
   "execution_count": 18,
   "id": "b1fec46d",
   "metadata": {},
   "outputs": [
    {
     "data": {
      "text/plain": [
       "newton (generic function with 1 method)"
      ]
     },
     "execution_count": 18,
     "metadata": {},
     "output_type": "execute_result"
    }
   ],
   "source": [
    "function newton(f, derivada, chute, n_de_iteracoes) #recebe uma função, sua derivada, um chute inicial e o\n",
    "    #número de iterações.\n",
    "    #Aplica o método de newton à função recebida:\n",
    "    #X_n+1 = f(X_n)/f'(X_n)\n",
    "    #. Se por ventura achamos uma raiz, a retornamos\n",
    "    \n",
    "    \n",
    "    for i=1:n_de_iteracoes\n",
    "        if (f(chute) == 0) #significa que já temos a raiz\n",
    "          return chute\n",
    "        end\n",
    "        \n",
    "        chute = chute - (f(chute)/(derivada(chute)) ) #Efetivamente o método de newton\n",
    "    end\n",
    "    \n",
    "    return chute\n",
    "end"
   ]
  },
  {
   "cell_type": "code",
   "execution_count": 19,
   "id": "d1a497be",
   "metadata": {},
   "outputs": [],
   "source": [
    "#exemplos: ToDo!!!!"
   ]
  },
  {
   "cell_type": "markdown",
   "id": "9d679e0c",
   "metadata": {},
   "source": [
    "## Interpolação polinomial\n",
    "### 1- Lagrange"
   ]
  },
  {
   "cell_type": "code",
   "execution_count": 20,
   "id": "3d0e9b02",
   "metadata": {},
   "outputs": [
    {
     "data": {
      "text/plain": [
       "lagrange (generic function with 1 method)"
      ]
     },
     "execution_count": 20,
     "metadata": {},
     "output_type": "execute_result"
    }
   ],
   "source": [
    "function lagrange(X,Y)\n",
    "    #entrada: um vetor de valores de x, e um vetor de valores de y, que\n",
    "    #representam os pontos (Xi, Yi) = (X[i], Y[i])\n",
    "    #saída: um polinômio L(x) de grau n-1\n",
    "    #especificação: para todo i entre 1 e n, L(X[i]) = Y[i]\n",
    "    # 'n' é o número de pontos\n",
    "    n = length(X)\n",
    "    function L(x) #note que aqui o x é minúsculo, é apenas um número\n",
    "        #a formula geral é \n",
    "        #L(x) = [y1 * ((x-x2)*(x-x3)*...*(x-xn))/(x1 - x2)*(x1-x3)*...*(x1-xn) ]  +\n",
    "        #[y2 * ((x-x1)*(x-x3)*...*(x-xn))/(x2 - x1)*(x2-x3)*...*(x2-xn) ]+...+\n",
    "        #[yn * ((x-x1)*(x-x2)*...*(x-x(n-1))/(xn - x1)*(xn-x2)*...*(xn-x(n-1)) ]\n",
    "        #note que no termo com y1, o x_i não aparece no numerador, e também \n",
    "        #não é subtraido do proprio x_i no denominador, porque o objetivo é que\n",
    "        #L(x) = y_i * 1 + 0 + 0... = y_i quando x = x_i\n",
    "        y = 0\n",
    "        for i=1:n \n",
    "            termo = Y[i]\n",
    "            for j=1:n\n",
    "                if (j!=i) \n",
    "                    termo *= (x - X[j])/(X[i] - X[j])\n",
    "                end\n",
    "            end\n",
    "            y += termo\n",
    "        end\n",
    "        return y    \n",
    "    end\n",
    "    \n",
    "    return L\n",
    "end"
   ]
  },
  {
   "cell_type": "code",
   "execution_count": 21,
   "id": "b3a55ed5",
   "metadata": {},
   "outputs": [
    {
     "name": "stdout",
     "output_type": "stream",
     "text": [
      "[5, 11, 19]\n",
      "[5.0, 11.0, 19.0]"
     ]
    }
   ],
   "source": [
    "#exemplo: f(x) = ax^2 + bx + c\n",
    "function f(x)\n",
    "    return x^2 + 3x + 1\n",
    "end\n",
    "\n",
    "X = [1,2,3]\n",
    "Y = [f(1), f(2), f(3)]\n",
    "polinomio = lagrange(X,Y)\n",
    "resultado = [polinomio(1), polinomio(2), polinomio(3)]\n",
    "print(Y)\n",
    "print(\"\\n\", resultado)"
   ]
  },
  {
   "cell_type": "code",
   "execution_count": 22,
   "id": "0aa3907d",
   "metadata": {},
   "outputs": [],
   "source": [
    "#exemplo 2: ToDo!!!"
   ]
  },
  {
   "cell_type": "code",
   "execution_count": 23,
   "id": "66eb4cb9",
   "metadata": {},
   "outputs": [],
   "source": [
    "#exemplo 3: ToDo!!!"
   ]
  },
  {
   "cell_type": "markdown",
   "id": "1183581b",
   "metadata": {},
   "source": [
    "### 2- Vandermonde"
   ]
  },
  {
   "cell_type": "code",
   "execution_count": 24,
   "id": "5f9bb864",
   "metadata": {},
   "outputs": [
    {
     "data": {
      "text/plain": [
       "resolve_triangular_superior"
      ]
     },
     "execution_count": 24,
     "metadata": {},
     "output_type": "execute_result"
    }
   ],
   "source": [
    "\"\"\"\n",
    "Função que resolve e retorna Ax = b, quando A é uma matriz quadrada triangular superior.\n",
    "Entradas: Matriz A, uma matriz quadrada triangular superior; Vetor B, uma matriz coluna.\n",
    "Saídas: Vetor x, cujo elementos respeitam a equação Ax = b.\n",
    "Complexidade: O(n^2)\n",
    "\"\"\"\n",
    "function resolve_triangular_superior(A, b)\n",
    "    n = length(b) # Obtém o tamanho de b e armazena em n\n",
    "    x = zeros(n) # Cria um vetor x de tamanho n\n",
    "    for i = n:-1:1 # Faz i, que começa com valor n e diminui até 1\n",
    "        x[i] = b[i] # Armazena em x_i o valor b_i\n",
    "        for j = i+1:n # Dentro do for, faz o b_i menos o somatório de A_i,j * x_j, e armazenar em x_i,\n",
    "                      # Com j que começa com valor i+1 e cresce até n\n",
    "            x[i] = x[i] - (A[i,j]*x[j])\n",
    "        end\n",
    "        x[i] = x[i]/A[i, i] # Por fim, dividir o o x_i atual por A_i,i, e armazenar em x_i\n",
    "    end\n",
    "    return x # Retorna o vetor x\n",
    "end"
   ]
  },
  {
   "cell_type": "code",
   "execution_count": 25,
   "id": "694d00c3",
   "metadata": {},
   "outputs": [
    {
     "data": {
      "text/plain": [
       "resolve_triangular_inferior"
      ]
     },
     "execution_count": 25,
     "metadata": {},
     "output_type": "execute_result"
    }
   ],
   "source": [
    "\"\"\"\n",
    "Função que resolve e retorna Ax = b, quando A é uma matriz quadrada triangular inferior.\n",
    "Entradas: Matriz A, uma matriz quadrada triangular inferior; Vetor B, uma matriz coluna.\n",
    "Saídas: Vetor x, cujo elementos respeitam a equação Ax = b.\n",
    "Complexidade: O(n^2)\n",
    "\"\"\"\n",
    "function resolve_triangular_inferior(A, b)\n",
    "    n = length(b) # Obtém o tamanho de b e armazena em n\n",
    "    x = zeros(n) # Cria um vetor x de tamanho n\n",
    "    for i = 1:n # Faz i, que começa com valor 1 e cresce até n\n",
    "        x[i] = b[i] # Armazenda em x_i o valor b_i\n",
    "        for j = 1:(i - 1)# Dentro do for, faz o b_i menos o somatório de A_i,j * x_j, e armazenar em x_i,\n",
    "                         # Com j que começa com valor 1 e cresce até i - 1\n",
    "            x[i] = x[i] - (A[i,j]*x[j])\n",
    "        end\n",
    "        \n",
    "        x[i] = x[i]/A[i, i] # Por fim, dividir o o x_i atual por A_i,i, e armazenar em x_i\n",
    "    end \n",
    "    return x # Retorna o vetor x\n",
    "end"
   ]
  },
  {
   "cell_type": "code",
   "execution_count": 26,
   "id": "61033cb5",
   "metadata": {},
   "outputs": [
    {
     "data": {
      "text/plain": [
       "decomposicao_LU"
      ]
     },
     "execution_count": 26,
     "metadata": {},
     "output_type": "execute_result"
    }
   ],
   "source": [
    "\"\"\"\n",
    "Função que recebe uma matriz A e retorna duas matrizes: L, uma matriz quadrada triangular inferior,\n",
    "e U, uma matriz quadrada triangular superior. Essas, quando multiplicadas, equivalem a A (L*U = A)\n",
    "Entradas: Matriz A, uma matriz quadrada;\n",
    "Saídas: Uma matriz quadrada triangular inferior, L; Uma matriz quadrada triangular superior, U.\n",
    "Complexidade: O(n^3)\n",
    "\"\"\"\n",
    "function decomposicao_LU(A)\n",
    "    n, = size(A) # Obtém o número de linhas e colunas em A e armazena em n\n",
    "    L = zeros(n, n) # Cria uma matriz quadrada L de tamanho nxn vazia\n",
    "    U = copy(A) # Copia a matriz A em U\n",
    "    v = 0 # Variável auxiliar\n",
    "    for i = 1:n # Preenche a diagonal principal da matriz L com o número 1\n",
    "        L[i,i] = 1\n",
    "    end\n",
    "    for i = 1:(n - 1) # For que seleciona o 'pivo' para realiza a eliminação de Gauss, e formular valores de L\n",
    "        pivo = U[i,i] # Salva o pivo retirado da matriz A\n",
    "        for j = i + 1:n # Realiza o for, com j representando as linhas abaixo da linha do pivo, até n\n",
    "            v = U[j, i]/pivo # Atualiza a variável auxiliar v para zerar os elementos em A de mesma coluna do pivo\n",
    "            for k = 1:n # Realiza o for, passando por todos os itens da linha para realizar a eliminação gaussiana\n",
    "                U[j,k] = U[j,k] - U[i,k]*(v) # Realiza a eliminação gaussiana, zerando sempre os elementos da coluna do pivo\n",
    "            end\n",
    "            L[j, i] = v # Armazena o valor calculado para a eliminação gaussiana \n",
    "        end\n",
    "    end\n",
    "    return L, U # Retorna L, como uma matriz quadrada triangular inferior,\n",
    "                # e U, como uma matriz quadrada triangular superior\n",
    "end"
   ]
  },
  {
   "cell_type": "code",
   "execution_count": 27,
   "id": "8bfb1a30",
   "metadata": {},
   "outputs": [
    {
     "data": {
      "text/plain": [
       "inversa_LU (generic function with 1 method)"
      ]
     },
     "execution_count": 27,
     "metadata": {},
     "output_type": "execute_result"
    }
   ],
   "source": [
    "\"\"\"\n",
    "Função que recebe uma matriz A e retorna A invertida. \n",
    "(Utiliza o método A*A^(-1) = I <-> L*U*A^(-1) = I, onde temos U*A^(-1) = y)\n",
    "Entradas: Matriz A, uma matriz quadrada;\n",
    "Saídas: A_inv, Uma matriz quadrada que é a inversa de A.\n",
    "Complexidade: O(n^3)\n",
    "\"\"\"\n",
    "\n",
    "function inversa_LU(A)\n",
    "    L, U = decomposicao_LU(A)# 'Desmonta' a matriz A em duas matrizes, \n",
    "                           # L (quadrada triangular inferior) e U (quadrada triangular superior)\n",
    "    n, = size(A) # Obtém o número de linhas e colunas em A e armazena em n\n",
    "    y = zeros(n, n) # Cria uma matiz y, que será intermediária, e a preenche com zeros\n",
    "    A_inv = zeros(n, n) # Cria a matriz que sera retornada, a inversa de A, e preenche com zeros\n",
    "    ident = zeros(n, n) # Cria uma matriz identidade, e a preenche com zeros\n",
    "    for i = 1:n # For para preencher a diagonal da matriz identidade com 1's\n",
    "        ident[i,i] = 1\n",
    "    end\n",
    "    for i = 1:n # For que completa a matriz A invertida, das colunas 1 a n\n",
    "        y[:,i] = resolve_triangular_inferior(L, ident[:,i]) # Resolve o triangular inferior com a coluna i da matriz identidade,\n",
    "                                                            # no molde L*y_:,i = I_:,i\n",
    "        A_inv[:, i] = resolve_triangular_superior(U, y[:,i])# Resolve o triangular superior com a coluna i da matriz y,\n",
    "                                                            # no molde U*A_:,i = y_:,i\n",
    "    end\n",
    "    return A_inv # Retorna a matriz A invertida\n",
    "end"
   ]
  },
  {
   "cell_type": "code",
   "execution_count": 28,
   "id": "6ee10e84",
   "metadata": {},
   "outputs": [
    {
     "data": {
      "text/plain": [
       "vandermonde (generic function with 1 method)"
      ]
     },
     "execution_count": 28,
     "metadata": {},
     "output_type": "execute_result"
    }
   ],
   "source": [
    "function vandermonde(x,y,grau) \n",
    "    #função auxiliar para afunção de interpolação/regressão\n",
    "    #monta a matriz de vandermonde\n",
    "    n,=size(y)\n",
    "    V=zeros(n,grau+1)\n",
    "    for i=1:n #linhas\n",
    "        for j=1:(grau+1)\n",
    "            V[i,j]=x[i]^(j-1)\n",
    "        end\n",
    "    end\n",
    "    return V\n",
    "end"
   ]
  },
  {
   "cell_type": "code",
   "execution_count": 29,
   "id": "25312afd",
   "metadata": {},
   "outputs": [
    {
     "data": {
      "text/plain": [
       "interpolacao_vandermonde (generic function with 1 method)"
      ]
     },
     "execution_count": 29,
     "metadata": {},
     "output_type": "execute_result"
    }
   ],
   "source": [
    "function interpolacao_vandermonde(x,y)\n",
    "    #entrada: n pontos (x_1,y_1)...(x_n,y_n).\n",
    "    #saída: uma função f(x) de grau n-1\n",
    "    #especificação: f(x_i) = y_i, para todo i, 1<=i<=n\n",
    "    grau = length(x) - 1 #para interpolar n pontos precisamos de um polinômio de grau n-1\n",
    "    V=vandermonde(x,y,grau)\n",
    "    c = inversa_LU(V)*y\n",
    "    n = length(x)\n",
    "    function f(x)\n",
    "        resultado = 0\n",
    "        for i=1:n\n",
    "            resultado += c[i]*(x^(i-1))\n",
    "        end\n",
    "        return resultado\n",
    "    end\n",
    "    \n",
    "    return f\n",
    "end"
   ]
  },
  {
   "cell_type": "code",
   "execution_count": 30,
   "id": "382c3025",
   "metadata": {},
   "outputs": [
    {
     "name": "stdout",
     "output_type": "stream",
     "text": [
      "[5, 11, 19]\n",
      "[5.0, 11.0, 19.0]"
     ]
    }
   ],
   "source": [
    "#exemplo 1: f(x) = ax^2 + bx + c\n",
    "function f(x)\n",
    "    return x^2 + 3x + 1\n",
    "end\n",
    "\n",
    "X = [1,2,3]\n",
    "Y = [f(1), f(2), f(3)]\n",
    "polinomio = interpolacao_vandermonde(X,Y)\n",
    "resultado = [polinomio(1), polinomio(2), polinomio(3)]\n",
    "print(Y)\n",
    "print(\"\\n\", resultado)"
   ]
  },
  {
   "cell_type": "code",
   "execution_count": 31,
   "id": "0db2e83b",
   "metadata": {},
   "outputs": [],
   "source": [
    "#exemplo 2: ToDo!!!"
   ]
  },
  {
   "cell_type": "code",
   "execution_count": 32,
   "id": "76bc5e27",
   "metadata": {},
   "outputs": [],
   "source": [
    "#exemplo 3: ToDo!!"
   ]
  },
  {
   "cell_type": "markdown",
   "id": "06d497f7",
   "metadata": {},
   "source": [
    "## Regressão Polinomial"
   ]
  },
  {
   "cell_type": "code",
   "execution_count": 33,
   "id": "b28ebc98",
   "metadata": {},
   "outputs": [
    {
     "data": {
      "text/plain": [
       "transposta (generic function with 1 method)"
      ]
     },
     "execution_count": 33,
     "metadata": {},
     "output_type": "execute_result"
    }
   ],
   "source": [
    "function transposta(A)\n",
    "    #função auxiliar\n",
    "    #recebe uma matriz A e retorna sua transposta\n",
    "    #transposta[j,i] = A[i,j]\n",
    "    \n",
    "\n",
    "    m = length(A[1, :]) #o numero de colunas é o tamanho do vetor que corresponde \n",
    "                        #a uma linha\n",
    "    n = length(A[: , 1])\n",
    "    \n",
    "    trans = zeros(m,n) #m linhas, n colunas, porque é a transposta\n",
    "    for i=1:n\n",
    "        for j=1:m\n",
    "            trans[j,i] = A[i,j]\n",
    "        end\n",
    "    end\n",
    "    \n",
    "    return trans\n",
    "    \n",
    "end"
   ]
  },
  {
   "cell_type": "code",
   "execution_count": 34,
   "id": "a1b9cec9",
   "metadata": {},
   "outputs": [
    {
     "data": {
      "text/plain": [
       "minimos_quadrados (generic function with 1 method)"
      ]
     },
     "execution_count": 34,
     "metadata": {},
     "output_type": "execute_result"
    }
   ],
   "source": [
    "function minimos_quadrados(A, y)\n",
    "    #Entrada: uma matriz A e um vetor y\n",
    "    #saída: um vetor x\n",
    "    #resolve aproximadamente o sistema linear Ax = y\n",
    "    #a formula é dada por: \n",
    "    #(A^t)*A*x = (A^t)*y  => x = inv((A^t)*A))*((A^t)*y)  \n",
    "    #(A^t é a transposta de A)\n",
    "    #Podemos resolver com LU\n",
    "    trans = transposta(A)\n",
    "    m1 = trans*A\n",
    "    m2 = trans*y\n",
    "    x = inversa_LU(m1)*m2\n",
    "    return x\n",
    "    \n",
    "end"
   ]
  },
  {
   "cell_type": "code",
   "execution_count": 35,
   "id": "e177a582",
   "metadata": {},
   "outputs": [
    {
     "data": {
      "text/plain": [
       "regressão (generic function with 1 method)"
      ]
     },
     "execution_count": 35,
     "metadata": {},
     "output_type": "execute_result"
    }
   ],
   "source": [
    "function regressão(x,y,grau) \n",
    "    V=vandermonde(x,y,grau)\n",
    "    c = minimos_quadrados(V,y)\n",
    "    #c=V\\y #mínimos quadrados\n",
    "    \n",
    "    function f(x)\n",
    "        resultado = 0\n",
    "        for i=1:(grau+1)\n",
    "            resultado += c[i]*(x^(i-1))\n",
    "        end\n",
    "        return resultado\n",
    "    end\n",
    "    \n",
    "    return f\n",
    "    \n",
    "end"
   ]
  },
  {
   "cell_type": "code",
   "execution_count": 36,
   "id": "38166722",
   "metadata": {},
   "outputs": [
    {
     "data": {
      "image/svg+xml": [
       "<?xml version=\"1.0\" encoding=\"utf-8\"?>\n",
       "<svg xmlns=\"http://www.w3.org/2000/svg\" xmlns:xlink=\"http://www.w3.org/1999/xlink\" width=\"600\" height=\"400\" viewBox=\"0 0 2400 1600\">\n",
       "<defs>\n",
       "  <clipPath id=\"clip660\">\n",
       "    <rect x=\"0\" y=\"0\" width=\"2400\" height=\"1600\"/>\n",
       "  </clipPath>\n",
       "</defs>\n",
       "<path clip-path=\"url(#clip660)\" d=\"\n",
       "M0 1600 L2400 1600 L2400 0 L0 0  Z\n",
       "  \" fill=\"#ffffff\" fill-rule=\"evenodd\" fill-opacity=\"1\"/>\n",
       "<defs>\n",
       "  <clipPath id=\"clip661\">\n",
       "    <rect x=\"480\" y=\"0\" width=\"1681\" height=\"1600\"/>\n",
       "  </clipPath>\n",
       "</defs>\n",
       "<path clip-path=\"url(#clip660)\" d=\"\n",
       "M202.177 1486.45 L2352.76 1486.45 L2352.76 47.2441 L202.177 47.2441  Z\n",
       "  \" fill=\"#ffffff\" fill-rule=\"evenodd\" fill-opacity=\"1\"/>\n",
       "<defs>\n",
       "  <clipPath id=\"clip662\">\n",
       "    <rect x=\"202\" y=\"47\" width=\"2152\" height=\"1440\"/>\n",
       "  </clipPath>\n",
       "</defs>\n",
       "<polyline clip-path=\"url(#clip662)\" style=\"stroke:#000000; stroke-linecap:butt; stroke-linejoin:round; stroke-width:2; stroke-opacity:0.1; fill:none\" points=\"\n",
       "  263.042,1486.45 263.042,47.2441 \n",
       "  \"/>\n",
       "<polyline clip-path=\"url(#clip662)\" style=\"stroke:#000000; stroke-linecap:butt; stroke-linejoin:round; stroke-width:2; stroke-opacity:0.1; fill:none\" points=\"\n",
       "  668.812,1486.45 668.812,47.2441 \n",
       "  \"/>\n",
       "<polyline clip-path=\"url(#clip662)\" style=\"stroke:#000000; stroke-linecap:butt; stroke-linejoin:round; stroke-width:2; stroke-opacity:0.1; fill:none\" points=\"\n",
       "  1074.58,1486.45 1074.58,47.2441 \n",
       "  \"/>\n",
       "<polyline clip-path=\"url(#clip662)\" style=\"stroke:#000000; stroke-linecap:butt; stroke-linejoin:round; stroke-width:2; stroke-opacity:0.1; fill:none\" points=\"\n",
       "  1480.35,1486.45 1480.35,47.2441 \n",
       "  \"/>\n",
       "<polyline clip-path=\"url(#clip662)\" style=\"stroke:#000000; stroke-linecap:butt; stroke-linejoin:round; stroke-width:2; stroke-opacity:0.1; fill:none\" points=\"\n",
       "  1886.12,1486.45 1886.12,47.2441 \n",
       "  \"/>\n",
       "<polyline clip-path=\"url(#clip662)\" style=\"stroke:#000000; stroke-linecap:butt; stroke-linejoin:round; stroke-width:2; stroke-opacity:0.1; fill:none\" points=\"\n",
       "  2291.89,1486.45 2291.89,47.2441 \n",
       "  \"/>\n",
       "<polyline clip-path=\"url(#clip660)\" style=\"stroke:#000000; stroke-linecap:butt; stroke-linejoin:round; stroke-width:4; stroke-opacity:1; fill:none\" points=\"\n",
       "  202.177,1486.45 2352.76,1486.45 \n",
       "  \"/>\n",
       "<polyline clip-path=\"url(#clip660)\" style=\"stroke:#000000; stroke-linecap:butt; stroke-linejoin:round; stroke-width:4; stroke-opacity:1; fill:none\" points=\"\n",
       "  263.042,1486.45 263.042,1467.55 \n",
       "  \"/>\n",
       "<polyline clip-path=\"url(#clip660)\" style=\"stroke:#000000; stroke-linecap:butt; stroke-linejoin:round; stroke-width:4; stroke-opacity:1; fill:none\" points=\"\n",
       "  668.812,1486.45 668.812,1467.55 \n",
       "  \"/>\n",
       "<polyline clip-path=\"url(#clip660)\" style=\"stroke:#000000; stroke-linecap:butt; stroke-linejoin:round; stroke-width:4; stroke-opacity:1; fill:none\" points=\"\n",
       "  1074.58,1486.45 1074.58,1467.55 \n",
       "  \"/>\n",
       "<polyline clip-path=\"url(#clip660)\" style=\"stroke:#000000; stroke-linecap:butt; stroke-linejoin:round; stroke-width:4; stroke-opacity:1; fill:none\" points=\"\n",
       "  1480.35,1486.45 1480.35,1467.55 \n",
       "  \"/>\n",
       "<polyline clip-path=\"url(#clip660)\" style=\"stroke:#000000; stroke-linecap:butt; stroke-linejoin:round; stroke-width:4; stroke-opacity:1; fill:none\" points=\"\n",
       "  1886.12,1486.45 1886.12,1467.55 \n",
       "  \"/>\n",
       "<polyline clip-path=\"url(#clip660)\" style=\"stroke:#000000; stroke-linecap:butt; stroke-linejoin:round; stroke-width:4; stroke-opacity:1; fill:none\" points=\"\n",
       "  2291.89,1486.45 2291.89,1467.55 \n",
       "  \"/>\n",
       "<path clip-path=\"url(#clip660)\" d=\"M253.424 1544.91 L261.063 1544.91 L261.063 1518.55 L252.753 1520.21 L252.753 1515.95 L261.017 1514.29 L265.693 1514.29 L265.693 1544.91 L273.331 1544.91 L273.331 1548.85 L253.424 1548.85 L253.424 1544.91 Z\" fill=\"#000000\" fill-rule=\"evenodd\" fill-opacity=\"1\" /><path clip-path=\"url(#clip660)\" d=\"M663.465 1544.91 L679.784 1544.91 L679.784 1548.85 L657.84 1548.85 L657.84 1544.91 Q660.502 1542.16 665.085 1537.53 Q669.691 1532.88 670.872 1531.53 Q673.117 1529.01 673.997 1527.27 Q674.9 1525.51 674.9 1523.82 Q674.9 1521.07 672.955 1519.33 Q671.034 1517.6 667.932 1517.6 Q665.733 1517.6 663.279 1518.36 Q660.849 1519.13 658.071 1520.68 L658.071 1515.95 Q660.895 1514.82 663.349 1514.24 Q665.803 1513.66 667.84 1513.66 Q673.21 1513.66 676.404 1516.35 Q679.599 1519.03 679.599 1523.52 Q679.599 1525.65 678.789 1527.57 Q678.002 1529.47 675.895 1532.07 Q675.316 1532.74 672.215 1535.95 Q669.113 1539.15 663.465 1544.91 Z\" fill=\"#000000\" fill-rule=\"evenodd\" fill-opacity=\"1\" /><path clip-path=\"url(#clip660)\" d=\"M1078.83 1530.21 Q1082.19 1530.93 1084.06 1533.2 Q1085.96 1535.47 1085.96 1538.8 Q1085.96 1543.92 1082.44 1546.72 Q1078.92 1549.52 1072.44 1549.52 Q1070.26 1549.52 1067.95 1549.08 Q1065.66 1548.66 1063.2 1547.81 L1063.2 1543.29 Q1065.15 1544.43 1067.46 1545.01 Q1069.78 1545.58 1072.3 1545.58 Q1076.7 1545.58 1078.99 1543.85 Q1081.31 1542.11 1081.31 1538.8 Q1081.31 1535.75 1079.15 1534.03 Q1077.02 1532.3 1073.2 1532.3 L1069.18 1532.3 L1069.18 1528.45 L1073.39 1528.45 Q1076.84 1528.45 1078.67 1527.09 Q1080.5 1525.7 1080.5 1523.11 Q1080.5 1520.45 1078.6 1519.03 Q1076.72 1517.6 1073.2 1517.6 Q1071.28 1517.6 1069.08 1518.01 Q1066.88 1518.43 1064.25 1519.31 L1064.25 1515.14 Q1066.91 1514.4 1069.22 1514.03 Q1071.56 1513.66 1073.62 1513.66 Q1078.94 1513.66 1082.05 1516.09 Q1085.15 1518.5 1085.15 1522.62 Q1085.15 1525.49 1083.51 1527.48 Q1081.86 1529.45 1078.83 1530.21 Z\" fill=\"#000000\" fill-rule=\"evenodd\" fill-opacity=\"1\" /><path clip-path=\"url(#clip660)\" d=\"M1483.36 1518.36 L1471.55 1536.81 L1483.36 1536.81 L1483.36 1518.36 M1482.13 1514.29 L1488.01 1514.29 L1488.01 1536.81 L1492.94 1536.81 L1492.94 1540.7 L1488.01 1540.7 L1488.01 1548.85 L1483.36 1548.85 L1483.36 1540.7 L1467.76 1540.7 L1467.76 1536.19 L1482.13 1514.29 Z\" fill=\"#000000\" fill-rule=\"evenodd\" fill-opacity=\"1\" /><path clip-path=\"url(#clip660)\" d=\"M1876.4 1514.29 L1894.76 1514.29 L1894.76 1518.22 L1880.68 1518.22 L1880.68 1526.7 Q1881.7 1526.35 1882.72 1526.19 Q1883.74 1526 1884.76 1526 Q1890.54 1526 1893.92 1529.17 Q1897.3 1532.34 1897.3 1537.76 Q1897.3 1543.34 1893.83 1546.44 Q1890.36 1549.52 1884.04 1549.52 Q1881.86 1549.52 1879.59 1549.15 Q1877.35 1548.78 1874.94 1548.04 L1874.94 1543.34 Q1877.02 1544.47 1879.25 1545.03 Q1881.47 1545.58 1883.94 1545.58 Q1887.95 1545.58 1890.29 1543.48 Q1892.63 1541.37 1892.63 1537.76 Q1892.63 1534.15 1890.29 1532.04 Q1887.95 1529.94 1883.94 1529.94 Q1882.07 1529.94 1880.19 1530.35 Q1878.34 1530.77 1876.4 1531.65 L1876.4 1514.29 Z\" fill=\"#000000\" fill-rule=\"evenodd\" fill-opacity=\"1\" /><path clip-path=\"url(#clip660)\" d=\"M2292.3 1529.7 Q2289.15 1529.7 2287.3 1531.86 Q2285.47 1534.01 2285.47 1537.76 Q2285.47 1541.49 2287.3 1543.66 Q2289.15 1545.82 2292.3 1545.82 Q2295.44 1545.82 2297.27 1543.66 Q2299.12 1541.49 2299.12 1537.76 Q2299.12 1534.01 2297.27 1531.86 Q2295.44 1529.7 2292.3 1529.7 M2301.58 1515.05 L2301.58 1519.31 Q2299.82 1518.48 2298.01 1518.04 Q2296.23 1517.6 2294.47 1517.6 Q2289.84 1517.6 2287.39 1520.72 Q2284.96 1523.85 2284.61 1530.17 Q2285.98 1528.15 2288.04 1527.09 Q2290.1 1526 2292.57 1526 Q2297.78 1526 2300.79 1529.17 Q2303.82 1532.32 2303.82 1537.76 Q2303.82 1543.08 2300.68 1546.3 Q2297.53 1549.52 2292.3 1549.52 Q2286.3 1549.52 2283.13 1544.94 Q2279.96 1540.33 2279.96 1531.6 Q2279.96 1523.41 2283.85 1518.55 Q2287.74 1513.66 2294.29 1513.66 Q2296.05 1513.66 2297.83 1514.01 Q2299.63 1514.36 2301.58 1515.05 Z\" fill=\"#000000\" fill-rule=\"evenodd\" fill-opacity=\"1\" /><polyline clip-path=\"url(#clip662)\" style=\"stroke:#000000; stroke-linecap:butt; stroke-linejoin:round; stroke-width:2; stroke-opacity:0.1; fill:none\" points=\"\n",
       "  202.177,1439.36 2352.76,1439.36 \n",
       "  \"/>\n",
       "<polyline clip-path=\"url(#clip662)\" style=\"stroke:#000000; stroke-linecap:butt; stroke-linejoin:round; stroke-width:2; stroke-opacity:0.1; fill:none\" points=\"\n",
       "  202.177,1204.91 2352.76,1204.91 \n",
       "  \"/>\n",
       "<polyline clip-path=\"url(#clip662)\" style=\"stroke:#000000; stroke-linecap:butt; stroke-linejoin:round; stroke-width:2; stroke-opacity:0.1; fill:none\" points=\"\n",
       "  202.177,970.457 2352.76,970.457 \n",
       "  \"/>\n",
       "<polyline clip-path=\"url(#clip662)\" style=\"stroke:#000000; stroke-linecap:butt; stroke-linejoin:round; stroke-width:2; stroke-opacity:0.1; fill:none\" points=\"\n",
       "  202.177,736.004 2352.76,736.004 \n",
       "  \"/>\n",
       "<polyline clip-path=\"url(#clip662)\" style=\"stroke:#000000; stroke-linecap:butt; stroke-linejoin:round; stroke-width:2; stroke-opacity:0.1; fill:none\" points=\"\n",
       "  202.177,501.551 2352.76,501.551 \n",
       "  \"/>\n",
       "<polyline clip-path=\"url(#clip662)\" style=\"stroke:#000000; stroke-linecap:butt; stroke-linejoin:round; stroke-width:2; stroke-opacity:0.1; fill:none\" points=\"\n",
       "  202.177,267.098 2352.76,267.098 \n",
       "  \"/>\n",
       "<polyline clip-path=\"url(#clip660)\" style=\"stroke:#000000; stroke-linecap:butt; stroke-linejoin:round; stroke-width:4; stroke-opacity:1; fill:none\" points=\"\n",
       "  202.177,1486.45 202.177,47.2441 \n",
       "  \"/>\n",
       "<polyline clip-path=\"url(#clip660)\" style=\"stroke:#000000; stroke-linecap:butt; stroke-linejoin:round; stroke-width:4; stroke-opacity:1; fill:none\" points=\"\n",
       "  202.177,1439.36 221.074,1439.36 \n",
       "  \"/>\n",
       "<polyline clip-path=\"url(#clip660)\" style=\"stroke:#000000; stroke-linecap:butt; stroke-linejoin:round; stroke-width:4; stroke-opacity:1; fill:none\" points=\"\n",
       "  202.177,1204.91 221.074,1204.91 \n",
       "  \"/>\n",
       "<polyline clip-path=\"url(#clip660)\" style=\"stroke:#000000; stroke-linecap:butt; stroke-linejoin:round; stroke-width:4; stroke-opacity:1; fill:none\" points=\"\n",
       "  202.177,970.457 221.074,970.457 \n",
       "  \"/>\n",
       "<polyline clip-path=\"url(#clip660)\" style=\"stroke:#000000; stroke-linecap:butt; stroke-linejoin:round; stroke-width:4; stroke-opacity:1; fill:none\" points=\"\n",
       "  202.177,736.004 221.074,736.004 \n",
       "  \"/>\n",
       "<polyline clip-path=\"url(#clip660)\" style=\"stroke:#000000; stroke-linecap:butt; stroke-linejoin:round; stroke-width:4; stroke-opacity:1; fill:none\" points=\"\n",
       "  202.177,501.551 221.074,501.551 \n",
       "  \"/>\n",
       "<polyline clip-path=\"url(#clip660)\" style=\"stroke:#000000; stroke-linecap:butt; stroke-linejoin:round; stroke-width:4; stroke-opacity:1; fill:none\" points=\"\n",
       "  202.177,267.098 221.074,267.098 \n",
       "  \"/>\n",
       "<path clip-path=\"url(#clip660)\" d=\"M154.232 1425.16 Q150.621 1425.16 148.793 1428.73 Q146.987 1432.27 146.987 1439.4 Q146.987 1446.5 148.793 1450.07 Q150.621 1453.61 154.232 1453.61 Q157.867 1453.61 159.672 1450.07 Q161.501 1446.5 161.501 1439.4 Q161.501 1432.27 159.672 1428.73 Q157.867 1425.16 154.232 1425.16 M154.232 1421.46 Q160.042 1421.46 163.098 1426.06 Q166.177 1430.65 166.177 1439.4 Q166.177 1448.12 163.098 1452.73 Q160.042 1457.31 154.232 1457.31 Q148.422 1457.31 145.343 1452.73 Q142.288 1448.12 142.288 1439.4 Q142.288 1430.65 145.343 1426.06 Q148.422 1421.46 154.232 1421.46 Z\" fill=\"#000000\" fill-rule=\"evenodd\" fill-opacity=\"1\" /><path clip-path=\"url(#clip660)\" d=\"M54.5569 1218.26 L62.1958 1218.26 L62.1958 1191.89 L53.8856 1193.56 L53.8856 1189.3 L62.1495 1187.63 L66.8254 1187.63 L66.8254 1218.26 L74.4642 1218.26 L74.4642 1222.19 L54.5569 1222.19 L54.5569 1218.26 Z\" fill=\"#000000\" fill-rule=\"evenodd\" fill-opacity=\"1\" /><path clip-path=\"url(#clip660)\" d=\"M93.9086 1190.71 Q90.2975 1190.71 88.4688 1194.27 Q86.6632 1197.82 86.6632 1204.94 Q86.6632 1212.05 88.4688 1215.62 Q90.2975 1219.16 93.9086 1219.16 Q97.5428 1219.16 99.3483 1215.62 Q101.177 1212.05 101.177 1204.94 Q101.177 1197.82 99.3483 1194.27 Q97.5428 1190.71 93.9086 1190.71 M93.9086 1187.01 Q99.7187 1187.01 102.774 1191.61 Q105.853 1196.19 105.853 1204.94 Q105.853 1213.67 102.774 1218.28 Q99.7187 1222.86 93.9086 1222.86 Q88.0984 1222.86 85.0197 1218.28 Q81.9642 1213.67 81.9642 1204.94 Q81.9642 1196.19 85.0197 1191.61 Q88.0984 1187.01 93.9086 1187.01 Z\" fill=\"#000000\" fill-rule=\"evenodd\" fill-opacity=\"1\" /><path clip-path=\"url(#clip660)\" d=\"M124.07 1190.71 Q120.459 1190.71 118.631 1194.27 Q116.825 1197.82 116.825 1204.94 Q116.825 1212.05 118.631 1215.62 Q120.459 1219.16 124.07 1219.16 Q127.705 1219.16 129.51 1215.62 Q131.339 1212.05 131.339 1204.94 Q131.339 1197.82 129.51 1194.27 Q127.705 1190.71 124.07 1190.71 M124.07 1187.01 Q129.881 1187.01 132.936 1191.61 Q136.015 1196.19 136.015 1204.94 Q136.015 1213.67 132.936 1218.28 Q129.881 1222.86 124.07 1222.86 Q118.26 1222.86 115.182 1218.28 Q112.126 1213.67 112.126 1204.94 Q112.126 1196.19 115.182 1191.61 Q118.26 1187.01 124.07 1187.01 Z\" fill=\"#000000\" fill-rule=\"evenodd\" fill-opacity=\"1\" /><path clip-path=\"url(#clip660)\" d=\"M154.232 1190.71 Q150.621 1190.71 148.793 1194.27 Q146.987 1197.82 146.987 1204.94 Q146.987 1212.05 148.793 1215.62 Q150.621 1219.16 154.232 1219.16 Q157.867 1219.16 159.672 1215.62 Q161.501 1212.05 161.501 1204.94 Q161.501 1197.82 159.672 1194.27 Q157.867 1190.71 154.232 1190.71 M154.232 1187.01 Q160.042 1187.01 163.098 1191.61 Q166.177 1196.19 166.177 1204.94 Q166.177 1213.67 163.098 1218.28 Q160.042 1222.86 154.232 1222.86 Q148.422 1222.86 145.343 1218.28 Q142.288 1213.67 142.288 1204.94 Q142.288 1196.19 145.343 1191.61 Q148.422 1187.01 154.232 1187.01 Z\" fill=\"#000000\" fill-rule=\"evenodd\" fill-opacity=\"1\" /><path clip-path=\"url(#clip660)\" d=\"M57.7745 983.802 L74.0939 983.802 L74.0939 987.737 L52.1495 987.737 L52.1495 983.802 Q54.8115 981.047 59.3949 976.418 Q64.0013 971.765 65.1819 970.422 Q67.4272 967.899 68.3068 966.163 Q69.2096 964.404 69.2096 962.714 Q69.2096 959.96 67.2652 958.223 Q65.3439 956.487 62.2421 956.487 Q60.043 956.487 57.5893 957.251 Q55.1588 958.015 52.381 959.566 L52.381 954.844 Q55.2051 953.71 57.6588 953.131 Q60.1124 952.552 62.1495 952.552 Q67.5198 952.552 70.7142 955.237 Q73.9087 957.923 73.9087 962.413 Q73.9087 964.543 73.0985 966.464 Q72.3115 968.362 70.205 970.955 Q69.6263 971.626 66.5245 974.844 Q63.4226 978.038 57.7745 983.802 Z\" fill=\"#000000\" fill-rule=\"evenodd\" fill-opacity=\"1\" /><path clip-path=\"url(#clip660)\" d=\"M93.9086 956.256 Q90.2975 956.256 88.4688 959.821 Q86.6632 963.362 86.6632 970.492 Q86.6632 977.598 88.4688 981.163 Q90.2975 984.705 93.9086 984.705 Q97.5428 984.705 99.3483 981.163 Q101.177 977.598 101.177 970.492 Q101.177 963.362 99.3483 959.821 Q97.5428 956.256 93.9086 956.256 M93.9086 952.552 Q99.7187 952.552 102.774 957.159 Q105.853 961.742 105.853 970.492 Q105.853 979.219 102.774 983.825 Q99.7187 988.409 93.9086 988.409 Q88.0984 988.409 85.0197 983.825 Q81.9642 979.219 81.9642 970.492 Q81.9642 961.742 85.0197 957.159 Q88.0984 952.552 93.9086 952.552 Z\" fill=\"#000000\" fill-rule=\"evenodd\" fill-opacity=\"1\" /><path clip-path=\"url(#clip660)\" d=\"M124.07 956.256 Q120.459 956.256 118.631 959.821 Q116.825 963.362 116.825 970.492 Q116.825 977.598 118.631 981.163 Q120.459 984.705 124.07 984.705 Q127.705 984.705 129.51 981.163 Q131.339 977.598 131.339 970.492 Q131.339 963.362 129.51 959.821 Q127.705 956.256 124.07 956.256 M124.07 952.552 Q129.881 952.552 132.936 957.159 Q136.015 961.742 136.015 970.492 Q136.015 979.219 132.936 983.825 Q129.881 988.409 124.07 988.409 Q118.26 988.409 115.182 983.825 Q112.126 979.219 112.126 970.492 Q112.126 961.742 115.182 957.159 Q118.26 952.552 124.07 952.552 Z\" fill=\"#000000\" fill-rule=\"evenodd\" fill-opacity=\"1\" /><path clip-path=\"url(#clip660)\" d=\"M154.232 956.256 Q150.621 956.256 148.793 959.821 Q146.987 963.362 146.987 970.492 Q146.987 977.598 148.793 981.163 Q150.621 984.705 154.232 984.705 Q157.867 984.705 159.672 981.163 Q161.501 977.598 161.501 970.492 Q161.501 963.362 159.672 959.821 Q157.867 956.256 154.232 956.256 M154.232 952.552 Q160.042 952.552 163.098 957.159 Q166.177 961.742 166.177 970.492 Q166.177 979.219 163.098 983.825 Q160.042 988.409 154.232 988.409 Q148.422 988.409 145.343 983.825 Q142.288 979.219 142.288 970.492 Q142.288 961.742 145.343 957.159 Q148.422 952.552 154.232 952.552 Z\" fill=\"#000000\" fill-rule=\"evenodd\" fill-opacity=\"1\" /><path clip-path=\"url(#clip660)\" d=\"M67.9133 734.65 Q71.2698 735.368 73.1448 737.636 Q75.0429 739.905 75.0429 743.238 Q75.0429 748.354 71.5244 751.155 Q68.0059 753.956 61.5245 753.956 Q59.3486 753.956 57.0338 753.516 Q54.7421 753.099 52.2884 752.243 L52.2884 747.729 Q54.2328 748.863 56.5477 749.442 Q58.8625 750.02 61.3856 750.02 Q65.7837 750.02 68.0754 748.284 Q70.3902 746.548 70.3902 743.238 Q70.3902 740.182 68.2374 738.47 Q66.1078 736.733 62.2884 736.733 L58.2606 736.733 L58.2606 732.891 L62.4735 732.891 Q65.9226 732.891 67.7513 731.525 Q69.58 730.136 69.58 727.544 Q69.58 724.882 67.6819 723.47 Q65.8069 722.034 62.2884 722.034 Q60.3671 722.034 58.168 722.451 Q55.969 722.868 53.3301 723.747 L53.3301 719.581 Q55.9921 718.84 58.3069 718.47 Q60.6449 718.099 62.705 718.099 Q68.0291 718.099 71.1309 720.53 Q74.2327 722.937 74.2327 727.058 Q74.2327 729.928 72.5892 731.919 Q70.9457 733.886 67.9133 734.65 Z\" fill=\"#000000\" fill-rule=\"evenodd\" fill-opacity=\"1\" /><path clip-path=\"url(#clip660)\" d=\"M93.9086 721.803 Q90.2975 721.803 88.4688 725.368 Q86.6632 728.909 86.6632 736.039 Q86.6632 743.145 88.4688 746.71 Q90.2975 750.252 93.9086 750.252 Q97.5428 750.252 99.3483 746.71 Q101.177 743.145 101.177 736.039 Q101.177 728.909 99.3483 725.368 Q97.5428 721.803 93.9086 721.803 M93.9086 718.099 Q99.7187 718.099 102.774 722.706 Q105.853 727.289 105.853 736.039 Q105.853 744.766 102.774 749.372 Q99.7187 753.956 93.9086 753.956 Q88.0984 753.956 85.0197 749.372 Q81.9642 744.766 81.9642 736.039 Q81.9642 727.289 85.0197 722.706 Q88.0984 718.099 93.9086 718.099 Z\" fill=\"#000000\" fill-rule=\"evenodd\" fill-opacity=\"1\" /><path clip-path=\"url(#clip660)\" d=\"M124.07 721.803 Q120.459 721.803 118.631 725.368 Q116.825 728.909 116.825 736.039 Q116.825 743.145 118.631 746.71 Q120.459 750.252 124.07 750.252 Q127.705 750.252 129.51 746.71 Q131.339 743.145 131.339 736.039 Q131.339 728.909 129.51 725.368 Q127.705 721.803 124.07 721.803 M124.07 718.099 Q129.881 718.099 132.936 722.706 Q136.015 727.289 136.015 736.039 Q136.015 744.766 132.936 749.372 Q129.881 753.956 124.07 753.956 Q118.26 753.956 115.182 749.372 Q112.126 744.766 112.126 736.039 Q112.126 727.289 115.182 722.706 Q118.26 718.099 124.07 718.099 Z\" fill=\"#000000\" fill-rule=\"evenodd\" fill-opacity=\"1\" /><path clip-path=\"url(#clip660)\" d=\"M154.232 721.803 Q150.621 721.803 148.793 725.368 Q146.987 728.909 146.987 736.039 Q146.987 743.145 148.793 746.71 Q150.621 750.252 154.232 750.252 Q157.867 750.252 159.672 746.71 Q161.501 743.145 161.501 736.039 Q161.501 728.909 159.672 725.368 Q157.867 721.803 154.232 721.803 M154.232 718.099 Q160.042 718.099 163.098 722.706 Q166.177 727.289 166.177 736.039 Q166.177 744.766 163.098 749.372 Q160.042 753.956 154.232 753.956 Q148.422 753.956 145.343 749.372 Q142.288 744.766 142.288 736.039 Q142.288 727.289 145.343 722.706 Q148.422 718.099 154.232 718.099 Z\" fill=\"#000000\" fill-rule=\"evenodd\" fill-opacity=\"1\" /><path clip-path=\"url(#clip660)\" d=\"M66.5939 488.345 L54.7884 506.794 L66.5939 506.794 L66.5939 488.345 M65.367 484.271 L71.2466 484.271 L71.2466 506.794 L76.1772 506.794 L76.1772 510.683 L71.2466 510.683 L71.2466 518.831 L66.5939 518.831 L66.5939 510.683 L50.9921 510.683 L50.9921 506.169 L65.367 484.271 Z\" fill=\"#000000\" fill-rule=\"evenodd\" fill-opacity=\"1\" /><path clip-path=\"url(#clip660)\" d=\"M93.9086 487.35 Q90.2975 487.35 88.4688 490.915 Q86.6632 494.456 86.6632 501.586 Q86.6632 508.692 88.4688 512.257 Q90.2975 515.799 93.9086 515.799 Q97.5428 515.799 99.3483 512.257 Q101.177 508.692 101.177 501.586 Q101.177 494.456 99.3483 490.915 Q97.5428 487.35 93.9086 487.35 M93.9086 483.646 Q99.7187 483.646 102.774 488.253 Q105.853 492.836 105.853 501.586 Q105.853 510.313 102.774 514.919 Q99.7187 519.503 93.9086 519.503 Q88.0984 519.503 85.0197 514.919 Q81.9642 510.313 81.9642 501.586 Q81.9642 492.836 85.0197 488.253 Q88.0984 483.646 93.9086 483.646 Z\" fill=\"#000000\" fill-rule=\"evenodd\" fill-opacity=\"1\" /><path clip-path=\"url(#clip660)\" d=\"M124.07 487.35 Q120.459 487.35 118.631 490.915 Q116.825 494.456 116.825 501.586 Q116.825 508.692 118.631 512.257 Q120.459 515.799 124.07 515.799 Q127.705 515.799 129.51 512.257 Q131.339 508.692 131.339 501.586 Q131.339 494.456 129.51 490.915 Q127.705 487.35 124.07 487.35 M124.07 483.646 Q129.881 483.646 132.936 488.253 Q136.015 492.836 136.015 501.586 Q136.015 510.313 132.936 514.919 Q129.881 519.503 124.07 519.503 Q118.26 519.503 115.182 514.919 Q112.126 510.313 112.126 501.586 Q112.126 492.836 115.182 488.253 Q118.26 483.646 124.07 483.646 Z\" fill=\"#000000\" fill-rule=\"evenodd\" fill-opacity=\"1\" /><path clip-path=\"url(#clip660)\" d=\"M154.232 487.35 Q150.621 487.35 148.793 490.915 Q146.987 494.456 146.987 501.586 Q146.987 508.692 148.793 512.257 Q150.621 515.799 154.232 515.799 Q157.867 515.799 159.672 512.257 Q161.501 508.692 161.501 501.586 Q161.501 494.456 159.672 490.915 Q157.867 487.35 154.232 487.35 M154.232 483.646 Q160.042 483.646 163.098 488.253 Q166.177 492.836 166.177 501.586 Q166.177 510.313 163.098 514.919 Q160.042 519.503 154.232 519.503 Q148.422 519.503 145.343 514.919 Q142.288 510.313 142.288 501.586 Q142.288 492.836 145.343 488.253 Q148.422 483.646 154.232 483.646 Z\" fill=\"#000000\" fill-rule=\"evenodd\" fill-opacity=\"1\" /><path clip-path=\"url(#clip660)\" d=\"M53.793 249.818 L72.1494 249.818 L72.1494 253.754 L58.0754 253.754 L58.0754 262.226 Q59.0939 261.878 60.1124 261.716 Q61.131 261.531 62.1495 261.531 Q67.9365 261.531 71.3161 264.703 Q74.6957 267.874 74.6957 273.29 Q74.6957 278.869 71.2235 281.971 Q67.7513 285.05 61.4319 285.05 Q59.256 285.05 56.9875 284.679 Q54.7421 284.309 52.3347 283.568 L52.3347 278.869 Q54.418 280.003 56.6402 280.559 Q58.8625 281.114 61.3393 281.114 Q65.3439 281.114 67.6819 279.008 Q70.0198 276.902 70.0198 273.29 Q70.0198 269.679 67.6819 267.573 Q65.3439 265.466 61.3393 265.466 Q59.4643 265.466 57.5893 265.883 Q55.7375 266.3 53.793 267.179 L53.793 249.818 Z\" fill=\"#000000\" fill-rule=\"evenodd\" fill-opacity=\"1\" /><path clip-path=\"url(#clip660)\" d=\"M93.9086 252.897 Q90.2975 252.897 88.4688 256.462 Q86.6632 260.003 86.6632 267.133 Q86.6632 274.24 88.4688 277.804 Q90.2975 281.346 93.9086 281.346 Q97.5428 281.346 99.3483 277.804 Q101.177 274.24 101.177 267.133 Q101.177 260.003 99.3483 256.462 Q97.5428 252.897 93.9086 252.897 M93.9086 249.193 Q99.7187 249.193 102.774 253.8 Q105.853 258.383 105.853 267.133 Q105.853 275.86 102.774 280.466 Q99.7187 285.05 93.9086 285.05 Q88.0984 285.05 85.0197 280.466 Q81.9642 275.86 81.9642 267.133 Q81.9642 258.383 85.0197 253.8 Q88.0984 249.193 93.9086 249.193 Z\" fill=\"#000000\" fill-rule=\"evenodd\" fill-opacity=\"1\" /><path clip-path=\"url(#clip660)\" d=\"M124.07 252.897 Q120.459 252.897 118.631 256.462 Q116.825 260.003 116.825 267.133 Q116.825 274.24 118.631 277.804 Q120.459 281.346 124.07 281.346 Q127.705 281.346 129.51 277.804 Q131.339 274.24 131.339 267.133 Q131.339 260.003 129.51 256.462 Q127.705 252.897 124.07 252.897 M124.07 249.193 Q129.881 249.193 132.936 253.8 Q136.015 258.383 136.015 267.133 Q136.015 275.86 132.936 280.466 Q129.881 285.05 124.07 285.05 Q118.26 285.05 115.182 280.466 Q112.126 275.86 112.126 267.133 Q112.126 258.383 115.182 253.8 Q118.26 249.193 124.07 249.193 Z\" fill=\"#000000\" fill-rule=\"evenodd\" fill-opacity=\"1\" /><path clip-path=\"url(#clip660)\" d=\"M154.232 252.897 Q150.621 252.897 148.793 256.462 Q146.987 260.003 146.987 267.133 Q146.987 274.24 148.793 277.804 Q150.621 281.346 154.232 281.346 Q157.867 281.346 159.672 277.804 Q161.501 274.24 161.501 267.133 Q161.501 260.003 159.672 256.462 Q157.867 252.897 154.232 252.897 M154.232 249.193 Q160.042 249.193 163.098 253.8 Q166.177 258.383 166.177 267.133 Q166.177 275.86 163.098 280.466 Q160.042 285.05 154.232 285.05 Q148.422 285.05 145.343 280.466 Q142.288 275.86 142.288 267.133 Q142.288 258.383 145.343 253.8 Q148.422 249.193 154.232 249.193 Z\" fill=\"#000000\" fill-rule=\"evenodd\" fill-opacity=\"1\" /><polyline clip-path=\"url(#clip662)\" style=\"stroke:#009af9; stroke-linecap:butt; stroke-linejoin:round; stroke-width:4; stroke-opacity:1; fill:none\" points=\"\n",
       "  263.042,1439.6 668.812,1435.61 1074.58,1405.37 1480.35,1281.34 1886.12,922.863 2291.89,87.9763 \n",
       "  \"/>\n",
       "<polyline clip-path=\"url(#clip662)\" style=\"stroke:#e26f46; stroke-linecap:butt; stroke-linejoin:round; stroke-width:4; stroke-opacity:1; fill:none\" points=\"\n",
       "  263.042,1445.72 668.812,1417.48 1074.58,1416.71 1480.35,1294.92 1886.12,903.616 2291.89,94.3177 \n",
       "  \"/>\n",
       "<path clip-path=\"url(#clip660)\" d=\"\n",
       "M1989.69 250.738 L2281.07 250.738 L2281.07 95.2176 L1989.69 95.2176  Z\n",
       "  \" fill=\"#ffffff\" fill-rule=\"evenodd\" fill-opacity=\"1\"/>\n",
       "<polyline clip-path=\"url(#clip660)\" style=\"stroke:#000000; stroke-linecap:butt; stroke-linejoin:round; stroke-width:4; stroke-opacity:1; fill:none\" points=\"\n",
       "  1989.69,250.738 2281.07,250.738 2281.07,95.2176 1989.69,95.2176 1989.69,250.738 \n",
       "  \"/>\n",
       "<polyline clip-path=\"url(#clip660)\" style=\"stroke:#009af9; stroke-linecap:butt; stroke-linejoin:round; stroke-width:4; stroke-opacity:1; fill:none\" points=\"\n",
       "  2013.58,147.058 2156.95,147.058 \n",
       "  \"/>\n",
       "<path clip-path=\"url(#clip660)\" d=\"M2194.69 166.745 Q2192.89 171.375 2191.17 172.787 Q2189.46 174.199 2186.59 174.199 L2183.19 174.199 L2183.19 170.634 L2185.69 170.634 Q2187.45 170.634 2188.42 169.8 Q2189.39 168.967 2190.57 165.865 L2191.34 163.921 L2180.85 138.412 L2185.36 138.412 L2193.46 158.689 L2201.57 138.412 L2206.08 138.412 L2194.69 166.745 Z\" fill=\"#000000\" fill-rule=\"evenodd\" fill-opacity=\"1\" /><path clip-path=\"url(#clip660)\" d=\"M2213.37 160.402 L2221.01 160.402 L2221.01 134.037 L2212.7 135.703 L2212.7 131.444 L2220.96 129.778 L2225.64 129.778 L2225.64 160.402 L2233.28 160.402 L2233.28 164.338 L2213.37 164.338 L2213.37 160.402 Z\" fill=\"#000000\" fill-rule=\"evenodd\" fill-opacity=\"1\" /><polyline clip-path=\"url(#clip660)\" style=\"stroke:#e26f46; stroke-linecap:butt; stroke-linejoin:round; stroke-width:4; stroke-opacity:1; fill:none\" points=\"\n",
       "  2013.58,198.898 2156.95,198.898 \n",
       "  \"/>\n",
       "<path clip-path=\"url(#clip660)\" d=\"M2194.69 218.585 Q2192.89 223.215 2191.17 224.627 Q2189.46 226.039 2186.59 226.039 L2183.19 226.039 L2183.19 222.474 L2185.69 222.474 Q2187.45 222.474 2188.42 221.64 Q2189.39 220.807 2190.57 217.705 L2191.34 215.761 L2180.85 190.252 L2185.36 190.252 L2193.46 210.529 L2201.57 190.252 L2206.08 190.252 L2194.69 218.585 Z\" fill=\"#000000\" fill-rule=\"evenodd\" fill-opacity=\"1\" /><path clip-path=\"url(#clip660)\" d=\"M2216.59 212.242 L2232.91 212.242 L2232.91 216.178 L2210.96 216.178 L2210.96 212.242 Q2213.63 209.488 2218.21 204.858 Q2222.82 200.205 2224 198.863 Q2226.24 196.34 2227.12 194.604 Q2228.02 192.844 2228.02 191.155 Q2228.02 188.4 2226.08 186.664 Q2224.16 184.928 2221.06 184.928 Q2218.86 184.928 2216.4 185.692 Q2213.97 186.455 2211.2 188.006 L2211.2 183.284 Q2214.02 182.15 2216.47 181.571 Q2218.93 180.993 2220.96 180.993 Q2226.33 180.993 2229.53 183.678 Q2232.72 186.363 2232.72 190.854 Q2232.72 192.983 2231.91 194.905 Q2231.13 196.803 2229.02 199.395 Q2228.44 200.067 2225.34 203.284 Q2222.24 206.479 2216.59 212.242 Z\" fill=\"#000000\" fill-rule=\"evenodd\" fill-opacity=\"1\" /></svg>\n"
      ]
     },
     "execution_count": 36,
     "metadata": {},
     "output_type": "execute_result"
    }
   ],
   "source": [
    "#exemplo 1: polinomio de grau 5 aproximado por grau 3\n",
    "function grau_5(x)\n",
    "    return x^5 - 2x^4 + 3x^3 - 2x^2 +x -2\n",
    "end\n",
    "x = [1,2,3,4,5,6]\n",
    "y = [grau_5(1), grau_5(2), grau_5(3), grau_5(4), grau_5(5), grau_5(6)]\n",
    "g = regressão(x,y,3)\n",
    "y2 = [g(1), g(2), g(3), g(4), g(5), g(6)]\n",
    "plot(x,y)\n",
    "plot!(x,y2)"
   ]
  },
  {
   "cell_type": "code",
   "execution_count": 37,
   "id": "2f799b85",
   "metadata": {},
   "outputs": [],
   "source": [
    "#exemplo 2: ToDo!!!\n"
   ]
  },
  {
   "cell_type": "code",
   "execution_count": 38,
   "id": "8ba43f39",
   "metadata": {},
   "outputs": [],
   "source": [
    "#exemplo 3: ToDo!!"
   ]
  },
  {
   "cell_type": "markdown",
   "id": "2abeefba",
   "metadata": {},
   "source": [
    "## Regressão com coeficientes lineares\n"
   ]
  },
  {
   "cell_type": "code",
   "execution_count": 39,
   "id": "dbf9bcf3",
   "metadata": {},
   "outputs": [
    {
     "data": {
      "text/plain": [
       "vandermonde_funcoes (generic function with 1 method)"
      ]
     },
     "execution_count": 39,
     "metadata": {},
     "output_type": "execute_result"
    }
   ],
   "source": [
    "function vandermonde_funcoes(x,y,funcoes)\n",
    "    #função auxiliar\n",
    "    #monta a matriz de vandermonde, dessa vez com os diferentes f(x) na matriz,\n",
    "    #que não precisam mais ser obrigatoriamente x^p \n",
    "    n,=size(y)\n",
    "    V=zeros(n,length(funcoes))\n",
    "    for i=1:n #linhas\n",
    "        for j=1:length(funcoes)\n",
    "            V[i,j]=funcoes[j](x[i]) #montando cada linha com f_1(x_i), f_2(x_i)...f_k(x_i)\n",
    "        end\n",
    "    end\n",
    "    return V\n",
    "end"
   ]
  },
  {
   "cell_type": "code",
   "execution_count": 40,
   "id": "910ee3bb",
   "metadata": {},
   "outputs": [
    {
     "data": {
      "text/plain": [
       "regressão_coef_lineares (generic function with 1 method)"
      ]
     },
     "execution_count": 40,
     "metadata": {},
     "output_type": "execute_result"
    }
   ],
   "source": [
    "function regressão_coef_lineares(x,y,funcoes) \n",
    "    #entrada: um vetor x e um vetor y, representando n pontos (x[i], y[i]), e\n",
    "    #um vetor de funções\n",
    "    #saída: uma função f(x) = c1*funcoes[1](x) + c2*funcoes[2](x)...\n",
    "    #...+ c_k*funcoes[k](x)\n",
    "    #especificação: f(x[i]) ≈ y[i]\n",
    "    V=vandermonde_funcoes(x,y,funcoes)\n",
    "    c = minimos_quadrados(V,y)\n",
    "    #c=V\\y #mínimos quadrados\n",
    "    \n",
    "    function f(x)\n",
    "        resultado = 0\n",
    "        for i=1:length(funcoes)\n",
    "            resultado += c[i]*(funcoes[i](x)) #f(x) = c1*f1(x) + c2*f2(x) ... + cn*fn(x)\n",
    "        end\n",
    "        return resultado\n",
    "    end\n",
    "    \n",
    "    return f\n",
    "    \n",
    "end"
   ]
  },
  {
   "cell_type": "code",
   "execution_count": 41,
   "id": "ff679dd4",
   "metadata": {},
   "outputs": [
    {
     "data": {
      "text/plain": [
       "regressão_coef_lineares_coeficientes (generic function with 1 method)"
      ]
     },
     "execution_count": 41,
     "metadata": {},
     "output_type": "execute_result"
    }
   ],
   "source": [
    "function regressão_coef_lineares_coeficientes(x,y,funcoes) #!!! mudar o nome?\n",
    "    #entrada: um vetor x e um vetor y, representando n pontos (x[i], y[i]), e\n",
    "    #um vetor de funções\n",
    "    #saída: um vetor de números reais (coeficientes)\n",
    "    #especificação: c[1]*funcoes[1](x[i]) + c[2]*funcoes[2](x[i])...\n",
    "    #...+ c[k]*funcoes[k](x[i]) ≈ y[i]\n",
    "    \n",
    "    V=vandermonde_funcoes(x,y,funcoes)\n",
    "    c = minimos_quadrados(V,y)\n",
    "    #c=V\\y #mínimos quadrados\n",
    "    \n",
    "    #function f(x)\n",
    "     #   resultado = 0\n",
    "      #  for i=1:length(funcoes)\n",
    "       #     resultado += c[i]*(funcoes[i](x)) #f(x) = c1*f1(x) + c2*f2(x) ... + cn*fn(x)\n",
    "        #end\n",
    "        #return resultado\n",
    "    #end\n",
    "    \n",
    "    #return f\n",
    "    return c\n",
    "end"
   ]
  },
  {
   "cell_type": "code",
   "execution_count": 42,
   "id": "88f19475",
   "metadata": {},
   "outputs": [
    {
     "name": "stdout",
     "output_type": "stream",
     "text": [
      "[244.5351364539756, 597.8823408231119, 22.599578894314675]"
     ]
    },
    {
     "data": {
      "image/svg+xml": [
       "<?xml version=\"1.0\" encoding=\"utf-8\"?>\n",
       "<svg xmlns=\"http://www.w3.org/2000/svg\" xmlns:xlink=\"http://www.w3.org/1999/xlink\" width=\"600\" height=\"400\" viewBox=\"0 0 2400 1600\">\n",
       "<defs>\n",
       "  <clipPath id=\"clip700\">\n",
       "    <rect x=\"0\" y=\"0\" width=\"2400\" height=\"1600\"/>\n",
       "  </clipPath>\n",
       "</defs>\n",
       "<path clip-path=\"url(#clip700)\" d=\"\n",
       "M0 1600 L2400 1600 L2400 0 L0 0  Z\n",
       "  \" fill=\"#ffffff\" fill-rule=\"evenodd\" fill-opacity=\"1\"/>\n",
       "<defs>\n",
       "  <clipPath id=\"clip701\">\n",
       "    <rect x=\"480\" y=\"0\" width=\"1681\" height=\"1600\"/>\n",
       "  </clipPath>\n",
       "</defs>\n",
       "<path clip-path=\"url(#clip700)\" d=\"\n",
       "M202.177 1486.45 L2352.76 1486.45 L2352.76 47.2441 L202.177 47.2441  Z\n",
       "  \" fill=\"#ffffff\" fill-rule=\"evenodd\" fill-opacity=\"1\"/>\n",
       "<defs>\n",
       "  <clipPath id=\"clip702\">\n",
       "    <rect x=\"202\" y=\"47\" width=\"2152\" height=\"1440\"/>\n",
       "  </clipPath>\n",
       "</defs>\n",
       "<polyline clip-path=\"url(#clip702)\" style=\"stroke:#000000; stroke-linecap:butt; stroke-linejoin:round; stroke-width:2; stroke-opacity:0.1; fill:none\" points=\"\n",
       "  263.042,1486.45 263.042,47.2441 \n",
       "  \"/>\n",
       "<polyline clip-path=\"url(#clip702)\" style=\"stroke:#000000; stroke-linecap:butt; stroke-linejoin:round; stroke-width:2; stroke-opacity:0.1; fill:none\" points=\"\n",
       "  668.812,1486.45 668.812,47.2441 \n",
       "  \"/>\n",
       "<polyline clip-path=\"url(#clip702)\" style=\"stroke:#000000; stroke-linecap:butt; stroke-linejoin:round; stroke-width:2; stroke-opacity:0.1; fill:none\" points=\"\n",
       "  1074.58,1486.45 1074.58,47.2441 \n",
       "  \"/>\n",
       "<polyline clip-path=\"url(#clip702)\" style=\"stroke:#000000; stroke-linecap:butt; stroke-linejoin:round; stroke-width:2; stroke-opacity:0.1; fill:none\" points=\"\n",
       "  1480.35,1486.45 1480.35,47.2441 \n",
       "  \"/>\n",
       "<polyline clip-path=\"url(#clip702)\" style=\"stroke:#000000; stroke-linecap:butt; stroke-linejoin:round; stroke-width:2; stroke-opacity:0.1; fill:none\" points=\"\n",
       "  1886.12,1486.45 1886.12,47.2441 \n",
       "  \"/>\n",
       "<polyline clip-path=\"url(#clip702)\" style=\"stroke:#000000; stroke-linecap:butt; stroke-linejoin:round; stroke-width:2; stroke-opacity:0.1; fill:none\" points=\"\n",
       "  2291.89,1486.45 2291.89,47.2441 \n",
       "  \"/>\n",
       "<polyline clip-path=\"url(#clip700)\" style=\"stroke:#000000; stroke-linecap:butt; stroke-linejoin:round; stroke-width:4; stroke-opacity:1; fill:none\" points=\"\n",
       "  202.177,1486.45 2352.76,1486.45 \n",
       "  \"/>\n",
       "<polyline clip-path=\"url(#clip700)\" style=\"stroke:#000000; stroke-linecap:butt; stroke-linejoin:round; stroke-width:4; stroke-opacity:1; fill:none\" points=\"\n",
       "  263.042,1486.45 263.042,1467.55 \n",
       "  \"/>\n",
       "<polyline clip-path=\"url(#clip700)\" style=\"stroke:#000000; stroke-linecap:butt; stroke-linejoin:round; stroke-width:4; stroke-opacity:1; fill:none\" points=\"\n",
       "  668.812,1486.45 668.812,1467.55 \n",
       "  \"/>\n",
       "<polyline clip-path=\"url(#clip700)\" style=\"stroke:#000000; stroke-linecap:butt; stroke-linejoin:round; stroke-width:4; stroke-opacity:1; fill:none\" points=\"\n",
       "  1074.58,1486.45 1074.58,1467.55 \n",
       "  \"/>\n",
       "<polyline clip-path=\"url(#clip700)\" style=\"stroke:#000000; stroke-linecap:butt; stroke-linejoin:round; stroke-width:4; stroke-opacity:1; fill:none\" points=\"\n",
       "  1480.35,1486.45 1480.35,1467.55 \n",
       "  \"/>\n",
       "<polyline clip-path=\"url(#clip700)\" style=\"stroke:#000000; stroke-linecap:butt; stroke-linejoin:round; stroke-width:4; stroke-opacity:1; fill:none\" points=\"\n",
       "  1886.12,1486.45 1886.12,1467.55 \n",
       "  \"/>\n",
       "<polyline clip-path=\"url(#clip700)\" style=\"stroke:#000000; stroke-linecap:butt; stroke-linejoin:round; stroke-width:4; stroke-opacity:1; fill:none\" points=\"\n",
       "  2291.89,1486.45 2291.89,1467.55 \n",
       "  \"/>\n",
       "<path clip-path=\"url(#clip700)\" d=\"M253.424 1544.91 L261.063 1544.91 L261.063 1518.55 L252.753 1520.21 L252.753 1515.95 L261.017 1514.29 L265.693 1514.29 L265.693 1544.91 L273.331 1544.91 L273.331 1548.85 L253.424 1548.85 L253.424 1544.91 Z\" fill=\"#000000\" fill-rule=\"evenodd\" fill-opacity=\"1\" /><path clip-path=\"url(#clip700)\" d=\"M663.465 1544.91 L679.784 1544.91 L679.784 1548.85 L657.84 1548.85 L657.84 1544.91 Q660.502 1542.16 665.085 1537.53 Q669.691 1532.88 670.872 1531.53 Q673.117 1529.01 673.997 1527.27 Q674.9 1525.51 674.9 1523.82 Q674.9 1521.07 672.955 1519.33 Q671.034 1517.6 667.932 1517.6 Q665.733 1517.6 663.279 1518.36 Q660.849 1519.13 658.071 1520.68 L658.071 1515.95 Q660.895 1514.82 663.349 1514.24 Q665.803 1513.66 667.84 1513.66 Q673.21 1513.66 676.404 1516.35 Q679.599 1519.03 679.599 1523.52 Q679.599 1525.65 678.789 1527.57 Q678.002 1529.47 675.895 1532.07 Q675.316 1532.74 672.215 1535.95 Q669.113 1539.15 663.465 1544.91 Z\" fill=\"#000000\" fill-rule=\"evenodd\" fill-opacity=\"1\" /><path clip-path=\"url(#clip700)\" d=\"M1078.83 1530.21 Q1082.19 1530.93 1084.06 1533.2 Q1085.96 1535.47 1085.96 1538.8 Q1085.96 1543.92 1082.44 1546.72 Q1078.92 1549.52 1072.44 1549.52 Q1070.26 1549.52 1067.95 1549.08 Q1065.66 1548.66 1063.2 1547.81 L1063.2 1543.29 Q1065.15 1544.43 1067.46 1545.01 Q1069.78 1545.58 1072.3 1545.58 Q1076.7 1545.58 1078.99 1543.85 Q1081.31 1542.11 1081.31 1538.8 Q1081.31 1535.75 1079.15 1534.03 Q1077.02 1532.3 1073.2 1532.3 L1069.18 1532.3 L1069.18 1528.45 L1073.39 1528.45 Q1076.84 1528.45 1078.67 1527.09 Q1080.5 1525.7 1080.5 1523.11 Q1080.5 1520.45 1078.6 1519.03 Q1076.72 1517.6 1073.2 1517.6 Q1071.28 1517.6 1069.08 1518.01 Q1066.88 1518.43 1064.25 1519.31 L1064.25 1515.14 Q1066.91 1514.4 1069.22 1514.03 Q1071.56 1513.66 1073.62 1513.66 Q1078.94 1513.66 1082.05 1516.09 Q1085.15 1518.5 1085.15 1522.62 Q1085.15 1525.49 1083.51 1527.48 Q1081.86 1529.45 1078.83 1530.21 Z\" fill=\"#000000\" fill-rule=\"evenodd\" fill-opacity=\"1\" /><path clip-path=\"url(#clip700)\" d=\"M1483.36 1518.36 L1471.55 1536.81 L1483.36 1536.81 L1483.36 1518.36 M1482.13 1514.29 L1488.01 1514.29 L1488.01 1536.81 L1492.94 1536.81 L1492.94 1540.7 L1488.01 1540.7 L1488.01 1548.85 L1483.36 1548.85 L1483.36 1540.7 L1467.76 1540.7 L1467.76 1536.19 L1482.13 1514.29 Z\" fill=\"#000000\" fill-rule=\"evenodd\" fill-opacity=\"1\" /><path clip-path=\"url(#clip700)\" d=\"M1876.4 1514.29 L1894.76 1514.29 L1894.76 1518.22 L1880.68 1518.22 L1880.68 1526.7 Q1881.7 1526.35 1882.72 1526.19 Q1883.74 1526 1884.76 1526 Q1890.54 1526 1893.92 1529.17 Q1897.3 1532.34 1897.3 1537.76 Q1897.3 1543.34 1893.83 1546.44 Q1890.36 1549.52 1884.04 1549.52 Q1881.86 1549.52 1879.59 1549.15 Q1877.35 1548.78 1874.94 1548.04 L1874.94 1543.34 Q1877.02 1544.47 1879.25 1545.03 Q1881.47 1545.58 1883.94 1545.58 Q1887.95 1545.58 1890.29 1543.48 Q1892.63 1541.37 1892.63 1537.76 Q1892.63 1534.15 1890.29 1532.04 Q1887.95 1529.94 1883.94 1529.94 Q1882.07 1529.94 1880.19 1530.35 Q1878.34 1530.77 1876.4 1531.65 L1876.4 1514.29 Z\" fill=\"#000000\" fill-rule=\"evenodd\" fill-opacity=\"1\" /><path clip-path=\"url(#clip700)\" d=\"M2292.3 1529.7 Q2289.15 1529.7 2287.3 1531.86 Q2285.47 1534.01 2285.47 1537.76 Q2285.47 1541.49 2287.3 1543.66 Q2289.15 1545.82 2292.3 1545.82 Q2295.44 1545.82 2297.27 1543.66 Q2299.12 1541.49 2299.12 1537.76 Q2299.12 1534.01 2297.27 1531.86 Q2295.44 1529.7 2292.3 1529.7 M2301.58 1515.05 L2301.58 1519.31 Q2299.82 1518.48 2298.01 1518.04 Q2296.23 1517.6 2294.47 1517.6 Q2289.84 1517.6 2287.39 1520.72 Q2284.96 1523.85 2284.61 1530.17 Q2285.98 1528.15 2288.04 1527.09 Q2290.1 1526 2292.57 1526 Q2297.78 1526 2300.79 1529.17 Q2303.82 1532.32 2303.82 1537.76 Q2303.82 1543.08 2300.68 1546.3 Q2297.53 1549.52 2292.3 1549.52 Q2286.3 1549.52 2283.13 1544.94 Q2279.96 1540.33 2279.96 1531.6 Q2279.96 1523.41 2283.85 1518.55 Q2287.74 1513.66 2294.29 1513.66 Q2296.05 1513.66 2297.83 1514.01 Q2299.63 1514.36 2301.58 1515.05 Z\" fill=\"#000000\" fill-rule=\"evenodd\" fill-opacity=\"1\" /><polyline clip-path=\"url(#clip702)\" style=\"stroke:#000000; stroke-linecap:butt; stroke-linejoin:round; stroke-width:2; stroke-opacity:0.1; fill:none\" points=\"\n",
       "  202.177,1445.48 2352.76,1445.48 \n",
       "  \"/>\n",
       "<polyline clip-path=\"url(#clip702)\" style=\"stroke:#000000; stroke-linecap:butt; stroke-linejoin:round; stroke-width:2; stroke-opacity:0.1; fill:none\" points=\"\n",
       "  202.177,1209.97 2352.76,1209.97 \n",
       "  \"/>\n",
       "<polyline clip-path=\"url(#clip702)\" style=\"stroke:#000000; stroke-linecap:butt; stroke-linejoin:round; stroke-width:2; stroke-opacity:0.1; fill:none\" points=\"\n",
       "  202.177,974.452 2352.76,974.452 \n",
       "  \"/>\n",
       "<polyline clip-path=\"url(#clip702)\" style=\"stroke:#000000; stroke-linecap:butt; stroke-linejoin:round; stroke-width:2; stroke-opacity:0.1; fill:none\" points=\"\n",
       "  202.177,738.938 2352.76,738.938 \n",
       "  \"/>\n",
       "<polyline clip-path=\"url(#clip702)\" style=\"stroke:#000000; stroke-linecap:butt; stroke-linejoin:round; stroke-width:2; stroke-opacity:0.1; fill:none\" points=\"\n",
       "  202.177,503.423 2352.76,503.423 \n",
       "  \"/>\n",
       "<polyline clip-path=\"url(#clip702)\" style=\"stroke:#000000; stroke-linecap:butt; stroke-linejoin:round; stroke-width:2; stroke-opacity:0.1; fill:none\" points=\"\n",
       "  202.177,267.909 2352.76,267.909 \n",
       "  \"/>\n",
       "<polyline clip-path=\"url(#clip700)\" style=\"stroke:#000000; stroke-linecap:butt; stroke-linejoin:round; stroke-width:4; stroke-opacity:1; fill:none\" points=\"\n",
       "  202.177,1486.45 202.177,47.2441 \n",
       "  \"/>\n",
       "<polyline clip-path=\"url(#clip700)\" style=\"stroke:#000000; stroke-linecap:butt; stroke-linejoin:round; stroke-width:4; stroke-opacity:1; fill:none\" points=\"\n",
       "  202.177,1445.48 221.074,1445.48 \n",
       "  \"/>\n",
       "<polyline clip-path=\"url(#clip700)\" style=\"stroke:#000000; stroke-linecap:butt; stroke-linejoin:round; stroke-width:4; stroke-opacity:1; fill:none\" points=\"\n",
       "  202.177,1209.97 221.074,1209.97 \n",
       "  \"/>\n",
       "<polyline clip-path=\"url(#clip700)\" style=\"stroke:#000000; stroke-linecap:butt; stroke-linejoin:round; stroke-width:4; stroke-opacity:1; fill:none\" points=\"\n",
       "  202.177,974.452 221.074,974.452 \n",
       "  \"/>\n",
       "<polyline clip-path=\"url(#clip700)\" style=\"stroke:#000000; stroke-linecap:butt; stroke-linejoin:round; stroke-width:4; stroke-opacity:1; fill:none\" points=\"\n",
       "  202.177,738.938 221.074,738.938 \n",
       "  \"/>\n",
       "<polyline clip-path=\"url(#clip700)\" style=\"stroke:#000000; stroke-linecap:butt; stroke-linejoin:round; stroke-width:4; stroke-opacity:1; fill:none\" points=\"\n",
       "  202.177,503.423 221.074,503.423 \n",
       "  \"/>\n",
       "<polyline clip-path=\"url(#clip700)\" style=\"stroke:#000000; stroke-linecap:butt; stroke-linejoin:round; stroke-width:4; stroke-opacity:1; fill:none\" points=\"\n",
       "  202.177,267.909 221.074,267.909 \n",
       "  \"/>\n",
       "<path clip-path=\"url(#clip700)\" d=\"M154.232 1431.28 Q150.621 1431.28 148.793 1434.84 Q146.987 1438.39 146.987 1445.51 Q146.987 1452.62 148.793 1456.19 Q150.621 1459.73 154.232 1459.73 Q157.867 1459.73 159.672 1456.19 Q161.501 1452.62 161.501 1445.51 Q161.501 1438.39 159.672 1434.84 Q157.867 1431.28 154.232 1431.28 M154.232 1427.58 Q160.042 1427.58 163.098 1432.18 Q166.177 1436.76 166.177 1445.51 Q166.177 1454.24 163.098 1458.85 Q160.042 1463.43 154.232 1463.43 Q148.422 1463.43 145.343 1458.85 Q142.288 1454.24 142.288 1445.51 Q142.288 1436.76 145.343 1432.18 Q148.422 1427.58 154.232 1427.58 Z\" fill=\"#000000\" fill-rule=\"evenodd\" fill-opacity=\"1\" /><path clip-path=\"url(#clip700)\" d=\"M54.5569 1223.31 L62.1958 1223.31 L62.1958 1196.95 L53.8856 1198.61 L53.8856 1194.35 L62.1495 1192.69 L66.8254 1192.69 L66.8254 1223.31 L74.4642 1223.31 L74.4642 1227.25 L54.5569 1227.25 L54.5569 1223.31 Z\" fill=\"#000000\" fill-rule=\"evenodd\" fill-opacity=\"1\" /><path clip-path=\"url(#clip700)\" d=\"M93.9086 1195.76 Q90.2975 1195.76 88.4688 1199.33 Q86.6632 1202.87 86.6632 1210 Q86.6632 1217.11 88.4688 1220.67 Q90.2975 1224.21 93.9086 1224.21 Q97.5428 1224.21 99.3483 1220.67 Q101.177 1217.11 101.177 1210 Q101.177 1202.87 99.3483 1199.33 Q97.5428 1195.76 93.9086 1195.76 M93.9086 1192.06 Q99.7187 1192.06 102.774 1196.67 Q105.853 1201.25 105.853 1210 Q105.853 1218.73 102.774 1223.33 Q99.7187 1227.92 93.9086 1227.92 Q88.0984 1227.92 85.0197 1223.33 Q81.9642 1218.73 81.9642 1210 Q81.9642 1201.25 85.0197 1196.67 Q88.0984 1192.06 93.9086 1192.06 Z\" fill=\"#000000\" fill-rule=\"evenodd\" fill-opacity=\"1\" /><path clip-path=\"url(#clip700)\" d=\"M124.07 1195.76 Q120.459 1195.76 118.631 1199.33 Q116.825 1202.87 116.825 1210 Q116.825 1217.11 118.631 1220.67 Q120.459 1224.21 124.07 1224.21 Q127.705 1224.21 129.51 1220.67 Q131.339 1217.11 131.339 1210 Q131.339 1202.87 129.51 1199.33 Q127.705 1195.76 124.07 1195.76 M124.07 1192.06 Q129.881 1192.06 132.936 1196.67 Q136.015 1201.25 136.015 1210 Q136.015 1218.73 132.936 1223.33 Q129.881 1227.92 124.07 1227.92 Q118.26 1227.92 115.182 1223.33 Q112.126 1218.73 112.126 1210 Q112.126 1201.25 115.182 1196.67 Q118.26 1192.06 124.07 1192.06 Z\" fill=\"#000000\" fill-rule=\"evenodd\" fill-opacity=\"1\" /><path clip-path=\"url(#clip700)\" d=\"M154.232 1195.76 Q150.621 1195.76 148.793 1199.33 Q146.987 1202.87 146.987 1210 Q146.987 1217.11 148.793 1220.67 Q150.621 1224.21 154.232 1224.21 Q157.867 1224.21 159.672 1220.67 Q161.501 1217.11 161.501 1210 Q161.501 1202.87 159.672 1199.33 Q157.867 1195.76 154.232 1195.76 M154.232 1192.06 Q160.042 1192.06 163.098 1196.67 Q166.177 1201.25 166.177 1210 Q166.177 1218.73 163.098 1223.33 Q160.042 1227.92 154.232 1227.92 Q148.422 1227.92 145.343 1223.33 Q142.288 1218.73 142.288 1210 Q142.288 1201.25 145.343 1196.67 Q148.422 1192.06 154.232 1192.06 Z\" fill=\"#000000\" fill-rule=\"evenodd\" fill-opacity=\"1\" /><path clip-path=\"url(#clip700)\" d=\"M57.7745 987.797 L74.0939 987.797 L74.0939 991.732 L52.1495 991.732 L52.1495 987.797 Q54.8115 985.042 59.3949 980.412 Q64.0013 975.76 65.1819 974.417 Q67.4272 971.894 68.3068 970.158 Q69.2096 968.399 69.2096 966.709 Q69.2096 963.954 67.2652 962.218 Q65.3439 960.482 62.2421 960.482 Q60.043 960.482 57.5893 961.246 Q55.1588 962.01 52.381 963.561 L52.381 958.838 Q55.2051 957.704 57.6588 957.125 Q60.1124 956.547 62.1495 956.547 Q67.5198 956.547 70.7142 959.232 Q73.9087 961.917 73.9087 966.408 Q73.9087 968.537 73.0985 970.459 Q72.3115 972.357 70.205 974.949 Q69.6263 975.621 66.5245 978.838 Q63.4226 982.033 57.7745 987.797 Z\" fill=\"#000000\" fill-rule=\"evenodd\" fill-opacity=\"1\" /><path clip-path=\"url(#clip700)\" d=\"M93.9086 960.25 Q90.2975 960.25 88.4688 963.815 Q86.6632 967.357 86.6632 974.486 Q86.6632 981.593 88.4688 985.158 Q90.2975 988.699 93.9086 988.699 Q97.5428 988.699 99.3483 985.158 Q101.177 981.593 101.177 974.486 Q101.177 967.357 99.3483 963.815 Q97.5428 960.25 93.9086 960.25 M93.9086 956.547 Q99.7187 956.547 102.774 961.153 Q105.853 965.737 105.853 974.486 Q105.853 983.213 102.774 987.82 Q99.7187 992.403 93.9086 992.403 Q88.0984 992.403 85.0197 987.82 Q81.9642 983.213 81.9642 974.486 Q81.9642 965.737 85.0197 961.153 Q88.0984 956.547 93.9086 956.547 Z\" fill=\"#000000\" fill-rule=\"evenodd\" fill-opacity=\"1\" /><path clip-path=\"url(#clip700)\" d=\"M124.07 960.25 Q120.459 960.25 118.631 963.815 Q116.825 967.357 116.825 974.486 Q116.825 981.593 118.631 985.158 Q120.459 988.699 124.07 988.699 Q127.705 988.699 129.51 985.158 Q131.339 981.593 131.339 974.486 Q131.339 967.357 129.51 963.815 Q127.705 960.25 124.07 960.25 M124.07 956.547 Q129.881 956.547 132.936 961.153 Q136.015 965.737 136.015 974.486 Q136.015 983.213 132.936 987.82 Q129.881 992.403 124.07 992.403 Q118.26 992.403 115.182 987.82 Q112.126 983.213 112.126 974.486 Q112.126 965.737 115.182 961.153 Q118.26 956.547 124.07 956.547 Z\" fill=\"#000000\" fill-rule=\"evenodd\" fill-opacity=\"1\" /><path clip-path=\"url(#clip700)\" d=\"M154.232 960.25 Q150.621 960.25 148.793 963.815 Q146.987 967.357 146.987 974.486 Q146.987 981.593 148.793 985.158 Q150.621 988.699 154.232 988.699 Q157.867 988.699 159.672 985.158 Q161.501 981.593 161.501 974.486 Q161.501 967.357 159.672 963.815 Q157.867 960.25 154.232 960.25 M154.232 956.547 Q160.042 956.547 163.098 961.153 Q166.177 965.737 166.177 974.486 Q166.177 983.213 163.098 987.82 Q160.042 992.403 154.232 992.403 Q148.422 992.403 145.343 987.82 Q142.288 983.213 142.288 974.486 Q142.288 965.737 145.343 961.153 Q148.422 956.547 154.232 956.547 Z\" fill=\"#000000\" fill-rule=\"evenodd\" fill-opacity=\"1\" /><path clip-path=\"url(#clip700)\" d=\"M67.9133 737.583 Q71.2698 738.301 73.1448 740.569 Q75.0429 742.838 75.0429 746.171 Q75.0429 751.287 71.5244 754.088 Q68.0059 756.889 61.5245 756.889 Q59.3486 756.889 57.0338 756.449 Q54.7421 756.032 52.2884 755.176 L52.2884 750.662 Q54.2328 751.796 56.5477 752.375 Q58.8625 752.954 61.3856 752.954 Q65.7837 752.954 68.0754 751.218 Q70.3902 749.481 70.3902 746.171 Q70.3902 743.116 68.2374 741.403 Q66.1078 739.667 62.2884 739.667 L58.2606 739.667 L58.2606 735.824 L62.4735 735.824 Q65.9226 735.824 67.7513 734.458 Q69.58 733.07 69.58 730.477 Q69.58 727.815 67.6819 726.403 Q65.8069 724.968 62.2884 724.968 Q60.3671 724.968 58.168 725.384 Q55.969 725.801 53.3301 726.681 L53.3301 722.514 Q55.9921 721.773 58.3069 721.403 Q60.6449 721.033 62.705 721.033 Q68.0291 721.033 71.1309 723.463 Q74.2327 725.87 74.2327 729.991 Q74.2327 732.861 72.5892 734.852 Q70.9457 736.82 67.9133 737.583 Z\" fill=\"#000000\" fill-rule=\"evenodd\" fill-opacity=\"1\" /><path clip-path=\"url(#clip700)\" d=\"M93.9086 724.736 Q90.2975 724.736 88.4688 728.301 Q86.6632 731.843 86.6632 738.972 Q86.6632 746.079 88.4688 749.644 Q90.2975 753.185 93.9086 753.185 Q97.5428 753.185 99.3483 749.644 Q101.177 746.079 101.177 738.972 Q101.177 731.843 99.3483 728.301 Q97.5428 724.736 93.9086 724.736 M93.9086 721.033 Q99.7187 721.033 102.774 725.639 Q105.853 730.222 105.853 738.972 Q105.853 747.699 102.774 752.306 Q99.7187 756.889 93.9086 756.889 Q88.0984 756.889 85.0197 752.306 Q81.9642 747.699 81.9642 738.972 Q81.9642 730.222 85.0197 725.639 Q88.0984 721.033 93.9086 721.033 Z\" fill=\"#000000\" fill-rule=\"evenodd\" fill-opacity=\"1\" /><path clip-path=\"url(#clip700)\" d=\"M124.07 724.736 Q120.459 724.736 118.631 728.301 Q116.825 731.843 116.825 738.972 Q116.825 746.079 118.631 749.644 Q120.459 753.185 124.07 753.185 Q127.705 753.185 129.51 749.644 Q131.339 746.079 131.339 738.972 Q131.339 731.843 129.51 728.301 Q127.705 724.736 124.07 724.736 M124.07 721.033 Q129.881 721.033 132.936 725.639 Q136.015 730.222 136.015 738.972 Q136.015 747.699 132.936 752.306 Q129.881 756.889 124.07 756.889 Q118.26 756.889 115.182 752.306 Q112.126 747.699 112.126 738.972 Q112.126 730.222 115.182 725.639 Q118.26 721.033 124.07 721.033 Z\" fill=\"#000000\" fill-rule=\"evenodd\" fill-opacity=\"1\" /><path clip-path=\"url(#clip700)\" d=\"M154.232 724.736 Q150.621 724.736 148.793 728.301 Q146.987 731.843 146.987 738.972 Q146.987 746.079 148.793 749.644 Q150.621 753.185 154.232 753.185 Q157.867 753.185 159.672 749.644 Q161.501 746.079 161.501 738.972 Q161.501 731.843 159.672 728.301 Q157.867 724.736 154.232 724.736 M154.232 721.033 Q160.042 721.033 163.098 725.639 Q166.177 730.222 166.177 738.972 Q166.177 747.699 163.098 752.306 Q160.042 756.889 154.232 756.889 Q148.422 756.889 145.343 752.306 Q142.288 747.699 142.288 738.972 Q142.288 730.222 145.343 725.639 Q148.422 721.033 154.232 721.033 Z\" fill=\"#000000\" fill-rule=\"evenodd\" fill-opacity=\"1\" /><path clip-path=\"url(#clip700)\" d=\"M66.5939 490.217 L54.7884 508.666 L66.5939 508.666 L66.5939 490.217 M65.367 486.143 L71.2466 486.143 L71.2466 508.666 L76.1772 508.666 L76.1772 512.555 L71.2466 512.555 L71.2466 520.703 L66.5939 520.703 L66.5939 512.555 L50.9921 512.555 L50.9921 508.041 L65.367 486.143 Z\" fill=\"#000000\" fill-rule=\"evenodd\" fill-opacity=\"1\" /><path clip-path=\"url(#clip700)\" d=\"M93.9086 489.222 Q90.2975 489.222 88.4688 492.787 Q86.6632 496.328 86.6632 503.458 Q86.6632 510.565 88.4688 514.129 Q90.2975 517.671 93.9086 517.671 Q97.5428 517.671 99.3483 514.129 Q101.177 510.565 101.177 503.458 Q101.177 496.328 99.3483 492.787 Q97.5428 489.222 93.9086 489.222 M93.9086 485.518 Q99.7187 485.518 102.774 490.125 Q105.853 494.708 105.853 503.458 Q105.853 512.185 102.774 516.791 Q99.7187 521.375 93.9086 521.375 Q88.0984 521.375 85.0197 516.791 Q81.9642 512.185 81.9642 503.458 Q81.9642 494.708 85.0197 490.125 Q88.0984 485.518 93.9086 485.518 Z\" fill=\"#000000\" fill-rule=\"evenodd\" fill-opacity=\"1\" /><path clip-path=\"url(#clip700)\" d=\"M124.07 489.222 Q120.459 489.222 118.631 492.787 Q116.825 496.328 116.825 503.458 Q116.825 510.565 118.631 514.129 Q120.459 517.671 124.07 517.671 Q127.705 517.671 129.51 514.129 Q131.339 510.565 131.339 503.458 Q131.339 496.328 129.51 492.787 Q127.705 489.222 124.07 489.222 M124.07 485.518 Q129.881 485.518 132.936 490.125 Q136.015 494.708 136.015 503.458 Q136.015 512.185 132.936 516.791 Q129.881 521.375 124.07 521.375 Q118.26 521.375 115.182 516.791 Q112.126 512.185 112.126 503.458 Q112.126 494.708 115.182 490.125 Q118.26 485.518 124.07 485.518 Z\" fill=\"#000000\" fill-rule=\"evenodd\" fill-opacity=\"1\" /><path clip-path=\"url(#clip700)\" d=\"M154.232 489.222 Q150.621 489.222 148.793 492.787 Q146.987 496.328 146.987 503.458 Q146.987 510.565 148.793 514.129 Q150.621 517.671 154.232 517.671 Q157.867 517.671 159.672 514.129 Q161.501 510.565 161.501 503.458 Q161.501 496.328 159.672 492.787 Q157.867 489.222 154.232 489.222 M154.232 485.518 Q160.042 485.518 163.098 490.125 Q166.177 494.708 166.177 503.458 Q166.177 512.185 163.098 516.791 Q160.042 521.375 154.232 521.375 Q148.422 521.375 145.343 516.791 Q142.288 512.185 142.288 503.458 Q142.288 494.708 145.343 490.125 Q148.422 485.518 154.232 485.518 Z\" fill=\"#000000\" fill-rule=\"evenodd\" fill-opacity=\"1\" /><path clip-path=\"url(#clip700)\" d=\"M53.793 250.629 L72.1494 250.629 L72.1494 254.564 L58.0754 254.564 L58.0754 263.036 Q59.0939 262.689 60.1124 262.527 Q61.131 262.342 62.1495 262.342 Q67.9365 262.342 71.3161 265.513 Q74.6957 268.685 74.6957 274.101 Q74.6957 279.68 71.2235 282.782 Q67.7513 285.86 61.4319 285.86 Q59.256 285.86 56.9875 285.49 Q54.7421 285.12 52.3347 284.379 L52.3347 279.68 Q54.418 280.814 56.6402 281.37 Q58.8625 281.925 61.3393 281.925 Q65.3439 281.925 67.6819 279.819 Q70.0198 277.712 70.0198 274.101 Q70.0198 270.49 67.6819 268.384 Q65.3439 266.277 61.3393 266.277 Q59.4643 266.277 57.5893 266.694 Q55.7375 267.111 53.793 267.99 L53.793 250.629 Z\" fill=\"#000000\" fill-rule=\"evenodd\" fill-opacity=\"1\" /><path clip-path=\"url(#clip700)\" d=\"M93.9086 253.708 Q90.2975 253.708 88.4688 257.273 Q86.6632 260.814 86.6632 267.944 Q86.6632 275.05 88.4688 278.615 Q90.2975 282.157 93.9086 282.157 Q97.5428 282.157 99.3483 278.615 Q101.177 275.05 101.177 267.944 Q101.177 260.814 99.3483 257.273 Q97.5428 253.708 93.9086 253.708 M93.9086 250.004 Q99.7187 250.004 102.774 254.611 Q105.853 259.194 105.853 267.944 Q105.853 276.671 102.774 281.277 Q99.7187 285.86 93.9086 285.86 Q88.0984 285.86 85.0197 281.277 Q81.9642 276.671 81.9642 267.944 Q81.9642 259.194 85.0197 254.611 Q88.0984 250.004 93.9086 250.004 Z\" fill=\"#000000\" fill-rule=\"evenodd\" fill-opacity=\"1\" /><path clip-path=\"url(#clip700)\" d=\"M124.07 253.708 Q120.459 253.708 118.631 257.273 Q116.825 260.814 116.825 267.944 Q116.825 275.05 118.631 278.615 Q120.459 282.157 124.07 282.157 Q127.705 282.157 129.51 278.615 Q131.339 275.05 131.339 267.944 Q131.339 260.814 129.51 257.273 Q127.705 253.708 124.07 253.708 M124.07 250.004 Q129.881 250.004 132.936 254.611 Q136.015 259.194 136.015 267.944 Q136.015 276.671 132.936 281.277 Q129.881 285.86 124.07 285.86 Q118.26 285.86 115.182 281.277 Q112.126 276.671 112.126 267.944 Q112.126 259.194 115.182 254.611 Q118.26 250.004 124.07 250.004 Z\" fill=\"#000000\" fill-rule=\"evenodd\" fill-opacity=\"1\" /><path clip-path=\"url(#clip700)\" d=\"M154.232 253.708 Q150.621 253.708 148.793 257.273 Q146.987 260.814 146.987 267.944 Q146.987 275.05 148.793 278.615 Q150.621 282.157 154.232 282.157 Q157.867 282.157 159.672 278.615 Q161.501 275.05 161.501 267.944 Q161.501 260.814 159.672 257.273 Q157.867 253.708 154.232 253.708 M154.232 250.004 Q160.042 250.004 163.098 254.611 Q166.177 259.194 166.177 267.944 Q166.177 276.671 163.098 281.277 Q160.042 285.86 154.232 285.86 Q148.422 285.86 145.343 281.277 Q142.288 276.671 142.288 267.944 Q142.288 259.194 145.343 254.611 Q148.422 250.004 154.232 250.004 Z\" fill=\"#000000\" fill-rule=\"evenodd\" fill-opacity=\"1\" /><polyline clip-path=\"url(#clip702)\" style=\"stroke:#009af9; stroke-linecap:butt; stroke-linejoin:round; stroke-width:4; stroke-opacity:1; fill:none\" points=\"\n",
       "  263.042,1445.72 668.812,1441.71 1074.58,1411.33 1480.35,1286.74 1886.12,926.642 2291.89,87.9763 \n",
       "  \"/>\n",
       "<polyline clip-path=\"url(#clip702)\" style=\"stroke:#e26f46; stroke-linecap:butt; stroke-linejoin:round; stroke-width:4; stroke-opacity:1; fill:none\" points=\"\n",
       "  263.042,1315.62 668.812,1409.13 1074.58,1433.05 1480.35,1240.46 1886.12,795.448 2291.89,176.706 \n",
       "  \"/>\n",
       "<path clip-path=\"url(#clip700)\" d=\"\n",
       "M1989.69 250.738 L2281.07 250.738 L2281.07 95.2176 L1989.69 95.2176  Z\n",
       "  \" fill=\"#ffffff\" fill-rule=\"evenodd\" fill-opacity=\"1\"/>\n",
       "<polyline clip-path=\"url(#clip700)\" style=\"stroke:#000000; stroke-linecap:butt; stroke-linejoin:round; stroke-width:4; stroke-opacity:1; fill:none\" points=\"\n",
       "  1989.69,250.738 2281.07,250.738 2281.07,95.2176 1989.69,95.2176 1989.69,250.738 \n",
       "  \"/>\n",
       "<polyline clip-path=\"url(#clip700)\" style=\"stroke:#009af9; stroke-linecap:butt; stroke-linejoin:round; stroke-width:4; stroke-opacity:1; fill:none\" points=\"\n",
       "  2013.58,147.058 2156.95,147.058 \n",
       "  \"/>\n",
       "<path clip-path=\"url(#clip700)\" d=\"M2194.69 166.745 Q2192.89 171.375 2191.17 172.787 Q2189.46 174.199 2186.59 174.199 L2183.19 174.199 L2183.19 170.634 L2185.69 170.634 Q2187.45 170.634 2188.42 169.8 Q2189.39 168.967 2190.57 165.865 L2191.34 163.921 L2180.85 138.412 L2185.36 138.412 L2193.46 158.689 L2201.57 138.412 L2206.08 138.412 L2194.69 166.745 Z\" fill=\"#000000\" fill-rule=\"evenodd\" fill-opacity=\"1\" /><path clip-path=\"url(#clip700)\" d=\"M2213.37 160.402 L2221.01 160.402 L2221.01 134.037 L2212.7 135.703 L2212.7 131.444 L2220.96 129.778 L2225.64 129.778 L2225.64 160.402 L2233.28 160.402 L2233.28 164.338 L2213.37 164.338 L2213.37 160.402 Z\" fill=\"#000000\" fill-rule=\"evenodd\" fill-opacity=\"1\" /><polyline clip-path=\"url(#clip700)\" style=\"stroke:#e26f46; stroke-linecap:butt; stroke-linejoin:round; stroke-width:4; stroke-opacity:1; fill:none\" points=\"\n",
       "  2013.58,198.898 2156.95,198.898 \n",
       "  \"/>\n",
       "<path clip-path=\"url(#clip700)\" d=\"M2194.69 218.585 Q2192.89 223.215 2191.17 224.627 Q2189.46 226.039 2186.59 226.039 L2183.19 226.039 L2183.19 222.474 L2185.69 222.474 Q2187.45 222.474 2188.42 221.64 Q2189.39 220.807 2190.57 217.705 L2191.34 215.761 L2180.85 190.252 L2185.36 190.252 L2193.46 210.529 L2201.57 190.252 L2206.08 190.252 L2194.69 218.585 Z\" fill=\"#000000\" fill-rule=\"evenodd\" fill-opacity=\"1\" /><path clip-path=\"url(#clip700)\" d=\"M2216.59 212.242 L2232.91 212.242 L2232.91 216.178 L2210.96 216.178 L2210.96 212.242 Q2213.63 209.488 2218.21 204.858 Q2222.82 200.205 2224 198.863 Q2226.24 196.34 2227.12 194.604 Q2228.02 192.844 2228.02 191.155 Q2228.02 188.4 2226.08 186.664 Q2224.16 184.928 2221.06 184.928 Q2218.86 184.928 2216.4 185.692 Q2213.97 186.455 2211.2 188.006 L2211.2 183.284 Q2214.02 182.15 2216.47 181.571 Q2218.93 180.993 2220.96 180.993 Q2226.33 180.993 2229.53 183.678 Q2232.72 186.363 2232.72 190.854 Q2232.72 192.983 2231.91 194.905 Q2231.13 196.803 2229.02 199.395 Q2228.44 200.067 2225.34 203.284 Q2222.24 206.479 2216.59 212.242 Z\" fill=\"#000000\" fill-rule=\"evenodd\" fill-opacity=\"1\" /></svg>\n"
      ]
     },
     "execution_count": 42,
     "metadata": {},
     "output_type": "execute_result"
    }
   ],
   "source": [
    "#exemplo: f(x) = c1*sen(x) +c2*cos(x) +c3*x^3\n",
    "function seno(x)\n",
    "    return sin(x)\n",
    "end\n",
    "function cosseno(x)\n",
    "    return cos(x)\n",
    "end\n",
    "\n",
    "function potencia(x)\n",
    "    return x^3\n",
    "end\n",
    "funcoes = [seno, cosseno, potencia]\n",
    "x = [1,2,3,4,5,6]\n",
    "Y = [13,4,9,11,-1,6]\n",
    "c = regressão_coef_lineares_coeficientes(x,y,funcoes)\n",
    "print(c)\n",
    "funcao = regressão_coef_lineares(x,y,funcoes)\n",
    "y2 = [funcao(i) for i in x]\n",
    "plot(x,y)\n",
    "plot!(x,y2)"
   ]
  },
  {
   "cell_type": "markdown",
   "id": "e067bd3e",
   "metadata": {},
   "source": [
    "## Regressão com coeficientes não-lineares\n",
    "### 1 - Modelo exponencial"
   ]
  },
  {
   "cell_type": "code",
   "execution_count": 43,
   "id": "eabc6996",
   "metadata": {},
   "outputs": [
    {
     "data": {
      "text/plain": [
       "regressao_exponencial (generic function with 1 method)"
      ]
     },
     "execution_count": 43,
     "metadata": {},
     "output_type": "execute_result"
    }
   ],
   "source": [
    "function regressao_exponencial(x,y)\n",
    "    #entrada: um vetor x e um vetor y, representando n pontos (x[i], y[i])\n",
    "    #saida: uma função na forma f(x) = c1*e^(c2x)\n",
    "    #especificação: f(x[i]) ≈ y[i]\n",
    "    \n",
    "    #dicionario : c1_barra = ln(c1)\n",
    "    #c2_barra = c2\n",
    "    #yi_barra = ln(y_i)\n",
    "    #se y = c1*e^(c2*x), ln(y) = ln(c1) + c2*x\n",
    "    #vamos usar minimos quadrados para determinar c1_barra e c2_barra, usando y_barra, isto é:\n",
    "    #[1 x1\n",
    "    #1  x2  * [c1_barra, c2_barra] = [y1_barra, y2_barra, ...]\n",
    "    # ...]\n",
    "    #depois, basta fazer e^(c1_barra) para obter c1\n",
    "    \n",
    "    #montando a matriz de vandermonde\n",
    "    vandermonde = ones(length(x),2)\n",
    "    y_barra = []\n",
    "    for i=1:length(x)\n",
    "        vandermonde[i,2] = x[i]\n",
    "        #aproveitando pra montar o vetor y_barra\n",
    "        push!(y_barra, log(y[i]))\n",
    "    end\n",
    "    \n",
    "    #resolvendo aproximadamente o sistema\n",
    "    c_barra = minimos_quadrados(vandermonde, y_barra)\n",
    "    c = [exp(c_barra[1]), c_barra[2]] #transformando de volta\n",
    "    #fazendo a função\n",
    "    function f(x)\n",
    "        return c[1]*exp(c[2]*x)\n",
    "    end\n",
    "    return f\n",
    "end\n",
    "    "
   ]
  },
  {
   "cell_type": "code",
   "execution_count": 44,
   "id": "c9fc0e70",
   "metadata": {},
   "outputs": [
    {
     "data": {
      "text/plain": [
       "regressao_exponencial_coef (generic function with 1 method)"
      ]
     },
     "execution_count": 44,
     "metadata": {},
     "output_type": "execute_result"
    }
   ],
   "source": [
    "function regressao_exponencial_coef(x,y)\n",
    "    #entrada: um vetor x e um vetor y, representando n pontos (x[i], y[i])\n",
    "    #saida: coeficientes c1 e c2 de uma função na forma f(x) = c1*e^(c2x)\n",
    "    #especificação: f(x[i]) ≈ y[i]\n",
    "    \n",
    "    #dicionario : c1_barra = ln(c1)\n",
    "    #c2_barra = c2\n",
    "    #yi_barra = ln(y_i)\n",
    "    #se y = c1*e^(c2*x), ln(y) = ln(c1) + c2*x\n",
    "    #vamos usar minimos quadrados para determinar c1_barra e c2_barra, usando y_barra, isto é:\n",
    "    #[1 x1\n",
    "    #1  x2  * [c1_barra, c2_barra] = [y1_barra, y2_barra, ...]\n",
    "    # ...]\n",
    "    #depois, basta fazer e^(c1_barra) para obter c1\n",
    "    \n",
    "    #montando a matriz de vandermonde\n",
    "    vandermonde = ones(length(x),2)\n",
    "    y_barra = []\n",
    "    for i=1:length(x)\n",
    "        vandermonde[i,2] = x[i]\n",
    "        #aproveitando pra montar o vetor y_barra\n",
    "        push!(y_barra, log(y[i]))\n",
    "    end\n",
    "    \n",
    "    #resolvendo aproximadamente o sistema\n",
    "    c_barra = minimos_quadrados(vandermonde, y_barra)\n",
    "    c = [exp(c_barra[1]), c_barra[2]] #transformando de volta\n",
    "    \n",
    "    return c\n",
    "end"
   ]
  },
  {
   "cell_type": "code",
   "execution_count": 45,
   "id": "bacda0ab",
   "metadata": {},
   "outputs": [
    {
     "name": "stdout",
     "output_type": "stream",
     "text": [
      "[1.0, 1.0]"
     ]
    },
    {
     "data": {
      "image/svg+xml": [
       "<?xml version=\"1.0\" encoding=\"utf-8\"?>\n",
       "<svg xmlns=\"http://www.w3.org/2000/svg\" xmlns:xlink=\"http://www.w3.org/1999/xlink\" width=\"600\" height=\"400\" viewBox=\"0 0 2400 1600\">\n",
       "<defs>\n",
       "  <clipPath id=\"clip740\">\n",
       "    <rect x=\"0\" y=\"0\" width=\"2400\" height=\"1600\"/>\n",
       "  </clipPath>\n",
       "</defs>\n",
       "<path clip-path=\"url(#clip740)\" d=\"\n",
       "M0 1600 L2400 1600 L2400 0 L0 0  Z\n",
       "  \" fill=\"#ffffff\" fill-rule=\"evenodd\" fill-opacity=\"1\"/>\n",
       "<defs>\n",
       "  <clipPath id=\"clip741\">\n",
       "    <rect x=\"480\" y=\"0\" width=\"1681\" height=\"1600\"/>\n",
       "  </clipPath>\n",
       "</defs>\n",
       "<path clip-path=\"url(#clip740)\" d=\"\n",
       "M169.121 1486.45 L2352.76 1486.45 L2352.76 47.2441 L169.121 47.2441  Z\n",
       "  \" fill=\"#ffffff\" fill-rule=\"evenodd\" fill-opacity=\"1\"/>\n",
       "<defs>\n",
       "  <clipPath id=\"clip742\">\n",
       "    <rect x=\"169\" y=\"47\" width=\"2185\" height=\"1440\"/>\n",
       "  </clipPath>\n",
       "</defs>\n",
       "<polyline clip-path=\"url(#clip742)\" style=\"stroke:#000000; stroke-linecap:butt; stroke-linejoin:round; stroke-width:2; stroke-opacity:0.1; fill:none\" points=\"\n",
       "  230.922,1486.45 230.922,47.2441 \n",
       "  \"/>\n",
       "<polyline clip-path=\"url(#clip742)\" style=\"stroke:#000000; stroke-linecap:butt; stroke-linejoin:round; stroke-width:2; stroke-opacity:0.1; fill:none\" points=\"\n",
       "  745.93,1486.45 745.93,47.2441 \n",
       "  \"/>\n",
       "<polyline clip-path=\"url(#clip742)\" style=\"stroke:#000000; stroke-linecap:butt; stroke-linejoin:round; stroke-width:2; stroke-opacity:0.1; fill:none\" points=\"\n",
       "  1260.94,1486.45 1260.94,47.2441 \n",
       "  \"/>\n",
       "<polyline clip-path=\"url(#clip742)\" style=\"stroke:#000000; stroke-linecap:butt; stroke-linejoin:round; stroke-width:2; stroke-opacity:0.1; fill:none\" points=\"\n",
       "  1775.95,1486.45 1775.95,47.2441 \n",
       "  \"/>\n",
       "<polyline clip-path=\"url(#clip742)\" style=\"stroke:#000000; stroke-linecap:butt; stroke-linejoin:round; stroke-width:2; stroke-opacity:0.1; fill:none\" points=\"\n",
       "  2290.95,1486.45 2290.95,47.2441 \n",
       "  \"/>\n",
       "<polyline clip-path=\"url(#clip740)\" style=\"stroke:#000000; stroke-linecap:butt; stroke-linejoin:round; stroke-width:4; stroke-opacity:1; fill:none\" points=\"\n",
       "  169.121,1486.45 2352.76,1486.45 \n",
       "  \"/>\n",
       "<polyline clip-path=\"url(#clip740)\" style=\"stroke:#000000; stroke-linecap:butt; stroke-linejoin:round; stroke-width:4; stroke-opacity:1; fill:none\" points=\"\n",
       "  230.922,1486.45 230.922,1467.55 \n",
       "  \"/>\n",
       "<polyline clip-path=\"url(#clip740)\" style=\"stroke:#000000; stroke-linecap:butt; stroke-linejoin:round; stroke-width:4; stroke-opacity:1; fill:none\" points=\"\n",
       "  745.93,1486.45 745.93,1467.55 \n",
       "  \"/>\n",
       "<polyline clip-path=\"url(#clip740)\" style=\"stroke:#000000; stroke-linecap:butt; stroke-linejoin:round; stroke-width:4; stroke-opacity:1; fill:none\" points=\"\n",
       "  1260.94,1486.45 1260.94,1467.55 \n",
       "  \"/>\n",
       "<polyline clip-path=\"url(#clip740)\" style=\"stroke:#000000; stroke-linecap:butt; stroke-linejoin:round; stroke-width:4; stroke-opacity:1; fill:none\" points=\"\n",
       "  1775.95,1486.45 1775.95,1467.55 \n",
       "  \"/>\n",
       "<polyline clip-path=\"url(#clip740)\" style=\"stroke:#000000; stroke-linecap:butt; stroke-linejoin:round; stroke-width:4; stroke-opacity:1; fill:none\" points=\"\n",
       "  2290.95,1486.45 2290.95,1467.55 \n",
       "  \"/>\n",
       "<path clip-path=\"url(#clip740)\" d=\"M221.304 1544.91 L228.943 1544.91 L228.943 1518.55 L220.633 1520.21 L220.633 1515.95 L228.897 1514.29 L233.573 1514.29 L233.573 1544.91 L241.212 1544.91 L241.212 1548.85 L221.304 1548.85 L221.304 1544.91 Z\" fill=\"#000000\" fill-rule=\"evenodd\" fill-opacity=\"1\" /><path clip-path=\"url(#clip740)\" d=\"M740.583 1544.91 L756.903 1544.91 L756.903 1548.85 L734.958 1548.85 L734.958 1544.91 Q737.62 1542.16 742.204 1537.53 Q746.81 1532.88 747.991 1531.53 Q750.236 1529.01 751.116 1527.27 Q752.018 1525.51 752.018 1523.82 Q752.018 1521.07 750.074 1519.33 Q748.153 1517.6 745.051 1517.6 Q742.852 1517.6 740.398 1518.36 Q737.968 1519.13 735.19 1520.68 L735.19 1515.95 Q738.014 1514.82 740.468 1514.24 Q742.921 1513.66 744.958 1513.66 Q750.329 1513.66 753.523 1516.35 Q756.717 1519.03 756.717 1523.52 Q756.717 1525.65 755.907 1527.57 Q755.12 1529.47 753.014 1532.07 Q752.435 1532.74 749.333 1535.95 Q746.231 1539.15 740.583 1544.91 Z\" fill=\"#000000\" fill-rule=\"evenodd\" fill-opacity=\"1\" /><path clip-path=\"url(#clip740)\" d=\"M1265.19 1530.21 Q1268.54 1530.93 1270.42 1533.2 Q1272.32 1535.47 1272.32 1538.8 Q1272.32 1543.92 1268.8 1546.72 Q1265.28 1549.52 1258.8 1549.52 Q1256.62 1549.52 1254.31 1549.08 Q1252.02 1548.66 1249.56 1547.81 L1249.56 1543.29 Q1251.51 1544.43 1253.82 1545.01 Q1256.14 1545.58 1258.66 1545.58 Q1263.06 1545.58 1265.35 1543.85 Q1267.66 1542.11 1267.66 1538.8 Q1267.66 1535.75 1265.51 1534.03 Q1263.38 1532.3 1259.56 1532.3 L1255.53 1532.3 L1255.53 1528.45 L1259.75 1528.45 Q1263.2 1528.45 1265.02 1527.09 Q1266.85 1525.7 1266.85 1523.11 Q1266.85 1520.45 1264.95 1519.03 Q1263.08 1517.6 1259.56 1517.6 Q1257.64 1517.6 1255.44 1518.01 Q1253.24 1518.43 1250.6 1519.31 L1250.6 1515.14 Q1253.27 1514.4 1255.58 1514.03 Q1257.92 1513.66 1259.98 1513.66 Q1265.3 1513.66 1268.4 1516.09 Q1271.51 1518.5 1271.51 1522.62 Q1271.51 1525.49 1269.86 1527.48 Q1268.22 1529.45 1265.19 1530.21 Z\" fill=\"#000000\" fill-rule=\"evenodd\" fill-opacity=\"1\" /><path clip-path=\"url(#clip740)\" d=\"M1778.96 1518.36 L1767.15 1536.81 L1778.96 1536.81 L1778.96 1518.36 M1777.73 1514.29 L1783.61 1514.29 L1783.61 1536.81 L1788.54 1536.81 L1788.54 1540.7 L1783.61 1540.7 L1783.61 1548.85 L1778.96 1548.85 L1778.96 1540.7 L1763.35 1540.7 L1763.35 1536.19 L1777.73 1514.29 Z\" fill=\"#000000\" fill-rule=\"evenodd\" fill-opacity=\"1\" /><path clip-path=\"url(#clip740)\" d=\"M2281.23 1514.29 L2299.59 1514.29 L2299.59 1518.22 L2285.52 1518.22 L2285.52 1526.7 Q2286.53 1526.35 2287.55 1526.19 Q2288.57 1526 2289.59 1526 Q2295.38 1526 2298.76 1529.17 Q2302.14 1532.34 2302.14 1537.76 Q2302.14 1543.34 2298.66 1546.44 Q2295.19 1549.52 2288.87 1549.52 Q2286.7 1549.52 2284.43 1549.15 Q2282.18 1548.78 2279.77 1548.04 L2279.77 1543.34 Q2281.86 1544.47 2284.08 1545.03 Q2286.3 1545.58 2288.78 1545.58 Q2292.78 1545.58 2295.12 1543.48 Q2297.46 1541.37 2297.46 1537.76 Q2297.46 1534.15 2295.12 1532.04 Q2292.78 1529.94 2288.78 1529.94 Q2286.9 1529.94 2285.03 1530.35 Q2283.18 1530.77 2281.23 1531.65 L2281.23 1514.29 Z\" fill=\"#000000\" fill-rule=\"evenodd\" fill-opacity=\"1\" /><polyline clip-path=\"url(#clip742)\" style=\"stroke:#000000; stroke-linecap:butt; stroke-linejoin:round; stroke-width:2; stroke-opacity:0.1; fill:none\" points=\"\n",
       "  169.121,1471.05 2352.76,1471.05 \n",
       "  \"/>\n",
       "<polyline clip-path=\"url(#clip742)\" style=\"stroke:#000000; stroke-linecap:butt; stroke-linejoin:round; stroke-width:2; stroke-opacity:0.1; fill:none\" points=\"\n",
       "  169.121,1005.09 2352.76,1005.09 \n",
       "  \"/>\n",
       "<polyline clip-path=\"url(#clip742)\" style=\"stroke:#000000; stroke-linecap:butt; stroke-linejoin:round; stroke-width:2; stroke-opacity:0.1; fill:none\" points=\"\n",
       "  169.121,539.141 2352.76,539.141 \n",
       "  \"/>\n",
       "<polyline clip-path=\"url(#clip742)\" style=\"stroke:#000000; stroke-linecap:butt; stroke-linejoin:round; stroke-width:2; stroke-opacity:0.1; fill:none\" points=\"\n",
       "  169.121,73.1884 2352.76,73.1884 \n",
       "  \"/>\n",
       "<polyline clip-path=\"url(#clip740)\" style=\"stroke:#000000; stroke-linecap:butt; stroke-linejoin:round; stroke-width:4; stroke-opacity:1; fill:none\" points=\"\n",
       "  169.121,1486.45 169.121,47.2441 \n",
       "  \"/>\n",
       "<polyline clip-path=\"url(#clip740)\" style=\"stroke:#000000; stroke-linecap:butt; stroke-linejoin:round; stroke-width:4; stroke-opacity:1; fill:none\" points=\"\n",
       "  169.121,1471.05 188.019,1471.05 \n",
       "  \"/>\n",
       "<polyline clip-path=\"url(#clip740)\" style=\"stroke:#000000; stroke-linecap:butt; stroke-linejoin:round; stroke-width:4; stroke-opacity:1; fill:none\" points=\"\n",
       "  169.121,1005.09 188.019,1005.09 \n",
       "  \"/>\n",
       "<polyline clip-path=\"url(#clip740)\" style=\"stroke:#000000; stroke-linecap:butt; stroke-linejoin:round; stroke-width:4; stroke-opacity:1; fill:none\" points=\"\n",
       "  169.121,539.141 188.019,539.141 \n",
       "  \"/>\n",
       "<polyline clip-path=\"url(#clip740)\" style=\"stroke:#000000; stroke-linecap:butt; stroke-linejoin:round; stroke-width:4; stroke-opacity:1; fill:none\" points=\"\n",
       "  169.121,73.1884 188.019,73.1884 \n",
       "  \"/>\n",
       "<path clip-path=\"url(#clip740)\" d=\"M121.177 1456.85 Q117.566 1456.85 115.737 1460.41 Q113.932 1463.95 113.932 1471.08 Q113.932 1478.19 115.737 1481.75 Q117.566 1485.3 121.177 1485.3 Q124.811 1485.3 126.617 1481.75 Q128.445 1478.19 128.445 1471.08 Q128.445 1463.95 126.617 1460.41 Q124.811 1456.85 121.177 1456.85 M121.177 1453.14 Q126.987 1453.14 130.043 1457.75 Q133.121 1462.33 133.121 1471.08 Q133.121 1479.81 130.043 1484.42 Q126.987 1489 121.177 1489 Q115.367 1489 112.288 1484.42 Q109.233 1479.81 109.233 1471.08 Q109.233 1462.33 112.288 1457.75 Q115.367 1453.14 121.177 1453.14 Z\" fill=\"#000000\" fill-rule=\"evenodd\" fill-opacity=\"1\" /><path clip-path=\"url(#clip740)\" d=\"M81.0614 987.814 L99.4178 987.814 L99.4178 991.75 L85.3438 991.75 L85.3438 1000.22 Q86.3623 999.875 87.3808 999.713 Q88.3993 999.527 89.4178 999.527 Q95.2049 999.527 98.5845 1002.7 Q101.964 1005.87 101.964 1011.29 Q101.964 1016.87 98.4919 1019.97 Q95.0197 1023.05 88.7003 1023.05 Q86.5243 1023.05 84.2558 1022.68 Q82.0105 1022.31 79.6031 1021.56 L79.6031 1016.87 Q81.6864 1018 83.9086 1018.56 Q86.1308 1019.11 88.6077 1019.11 Q92.6123 1019.11 94.9502 1017 Q97.2882 1014.9 97.2882 1011.29 Q97.2882 1007.68 94.9502 1005.57 Q92.6123 1003.46 88.6077 1003.46 Q86.7327 1003.46 84.8577 1003.88 Q83.0058 1004.3 81.0614 1005.18 L81.0614 987.814 Z\" fill=\"#000000\" fill-rule=\"evenodd\" fill-opacity=\"1\" /><path clip-path=\"url(#clip740)\" d=\"M121.177 990.893 Q117.566 990.893 115.737 994.458 Q113.932 998 113.932 1005.13 Q113.932 1012.24 115.737 1015.8 Q117.566 1019.34 121.177 1019.34 Q124.811 1019.34 126.617 1015.8 Q128.445 1012.24 128.445 1005.13 Q128.445 998 126.617 994.458 Q124.811 990.893 121.177 990.893 M121.177 987.189 Q126.987 987.189 130.043 991.796 Q133.121 996.379 133.121 1005.13 Q133.121 1013.86 130.043 1018.46 Q126.987 1023.05 121.177 1023.05 Q115.367 1023.05 112.288 1018.46 Q109.233 1013.86 109.233 1005.13 Q109.233 996.379 112.288 991.796 Q115.367 987.189 121.177 987.189 Z\" fill=\"#000000\" fill-rule=\"evenodd\" fill-opacity=\"1\" /><path clip-path=\"url(#clip740)\" d=\"M51.6634 552.486 L59.3023 552.486 L59.3023 526.121 L50.9921 527.787 L50.9921 523.528 L59.256 521.861 L63.9319 521.861 L63.9319 552.486 L71.5707 552.486 L71.5707 556.421 L51.6634 556.421 L51.6634 552.486 Z\" fill=\"#000000\" fill-rule=\"evenodd\" fill-opacity=\"1\" /><path clip-path=\"url(#clip740)\" d=\"M91.0151 524.94 Q87.404 524.94 85.5753 528.505 Q83.7697 532.047 83.7697 539.176 Q83.7697 546.283 85.5753 549.847 Q87.404 553.389 91.0151 553.389 Q94.6493 553.389 96.4548 549.847 Q98.2835 546.283 98.2835 539.176 Q98.2835 532.047 96.4548 528.505 Q94.6493 524.94 91.0151 524.94 M91.0151 521.236 Q96.8252 521.236 99.8808 525.843 Q102.959 530.426 102.959 539.176 Q102.959 547.903 99.8808 552.509 Q96.8252 557.093 91.0151 557.093 Q85.2049 557.093 82.1262 552.509 Q79.0707 547.903 79.0707 539.176 Q79.0707 530.426 82.1262 525.843 Q85.2049 521.236 91.0151 521.236 Z\" fill=\"#000000\" fill-rule=\"evenodd\" fill-opacity=\"1\" /><path clip-path=\"url(#clip740)\" d=\"M121.177 524.94 Q117.566 524.94 115.737 528.505 Q113.932 532.047 113.932 539.176 Q113.932 546.283 115.737 549.847 Q117.566 553.389 121.177 553.389 Q124.811 553.389 126.617 549.847 Q128.445 546.283 128.445 539.176 Q128.445 532.047 126.617 528.505 Q124.811 524.94 121.177 524.94 M121.177 521.236 Q126.987 521.236 130.043 525.843 Q133.121 530.426 133.121 539.176 Q133.121 547.903 130.043 552.509 Q126.987 557.093 121.177 557.093 Q115.367 557.093 112.288 552.509 Q109.233 547.903 109.233 539.176 Q109.233 530.426 112.288 525.843 Q115.367 521.236 121.177 521.236 Z\" fill=\"#000000\" fill-rule=\"evenodd\" fill-opacity=\"1\" /><path clip-path=\"url(#clip740)\" d=\"M51.6634 86.5332 L59.3023 86.5332 L59.3023 60.1676 L50.9921 61.8343 L50.9921 57.5751 L59.256 55.9084 L63.9319 55.9084 L63.9319 86.5332 L71.5707 86.5332 L71.5707 90.4684 L51.6634 90.4684 L51.6634 86.5332 Z\" fill=\"#000000\" fill-rule=\"evenodd\" fill-opacity=\"1\" /><path clip-path=\"url(#clip740)\" d=\"M81.0614 55.9084 L99.4178 55.9084 L99.4178 59.8436 L85.3438 59.8436 L85.3438 68.3158 Q86.3623 67.9685 87.3808 67.8065 Q88.3993 67.6213 89.4178 67.6213 Q95.2049 67.6213 98.5845 70.7926 Q101.964 73.9639 101.964 79.3805 Q101.964 84.9592 98.4919 88.061 Q95.0197 91.1397 88.7003 91.1397 Q86.5243 91.1397 84.2558 90.7693 Q82.0105 90.399 79.6031 89.6582 L79.6031 84.9592 Q81.6864 86.0934 83.9086 86.649 Q86.1308 87.2045 88.6077 87.2045 Q92.6123 87.2045 94.9502 85.0981 Q97.2882 82.9916 97.2882 79.3805 Q97.2882 75.7694 94.9502 73.6629 Q92.6123 71.5565 88.6077 71.5565 Q86.7327 71.5565 84.8577 71.9731 Q83.0058 72.3898 81.0614 73.2694 L81.0614 55.9084 Z\" fill=\"#000000\" fill-rule=\"evenodd\" fill-opacity=\"1\" /><path clip-path=\"url(#clip740)\" d=\"M121.177 58.9871 Q117.566 58.9871 115.737 62.5519 Q113.932 66.0935 113.932 73.2231 Q113.932 80.3296 115.737 83.8944 Q117.566 87.436 121.177 87.436 Q124.811 87.436 126.617 83.8944 Q128.445 80.3296 128.445 73.2231 Q128.445 66.0935 126.617 62.5519 Q124.811 58.9871 121.177 58.9871 M121.177 55.2834 Q126.987 55.2834 130.043 59.8899 Q133.121 64.4732 133.121 73.2231 Q133.121 81.9499 130.043 86.5564 Q126.987 91.1397 121.177 91.1397 Q115.367 91.1397 112.288 86.5564 Q109.233 81.9499 109.233 73.2231 Q109.233 64.4732 112.288 59.8899 Q115.367 55.2834 121.177 55.2834 Z\" fill=\"#000000\" fill-rule=\"evenodd\" fill-opacity=\"1\" /><polyline clip-path=\"url(#clip742)\" style=\"stroke:#009af9; stroke-linecap:butt; stroke-linejoin:round; stroke-width:4; stroke-opacity:1; fill:none\" points=\"\n",
       "  230.922,1445.72 745.93,1402.19 1260.94,1283.87 1775.95,962.244 2290.95,87.9763 \n",
       "  \"/>\n",
       "<polyline clip-path=\"url(#clip742)\" style=\"stroke:#e26f46; stroke-linecap:butt; stroke-linejoin:round; stroke-width:4; stroke-opacity:1; fill:none\" points=\"\n",
       "  230.922,1445.72 745.93,1402.19 1260.94,1283.87 1775.95,962.244 2290.95,87.9763 \n",
       "  \"/>\n",
       "<path clip-path=\"url(#clip740)\" d=\"\n",
       "M1984.91 250.738 L2279.97 250.738 L2279.97 95.2176 L1984.91 95.2176  Z\n",
       "  \" fill=\"#ffffff\" fill-rule=\"evenodd\" fill-opacity=\"1\"/>\n",
       "<polyline clip-path=\"url(#clip740)\" style=\"stroke:#000000; stroke-linecap:butt; stroke-linejoin:round; stroke-width:4; stroke-opacity:1; fill:none\" points=\"\n",
       "  1984.91,250.738 2279.97,250.738 2279.97,95.2176 1984.91,95.2176 1984.91,250.738 \n",
       "  \"/>\n",
       "<polyline clip-path=\"url(#clip740)\" style=\"stroke:#009af9; stroke-linecap:butt; stroke-linejoin:round; stroke-width:4; stroke-opacity:1; fill:none\" points=\"\n",
       "  2009.17,147.058 2154.75,147.058 \n",
       "  \"/>\n",
       "<path clip-path=\"url(#clip740)\" d=\"M2192.86 166.745 Q2191.05 171.375 2189.34 172.787 Q2187.62 174.199 2184.75 174.199 L2181.35 174.199 L2181.35 170.634 L2183.85 170.634 Q2185.61 170.634 2186.58 169.8 Q2187.55 168.967 2188.73 165.865 L2189.5 163.921 L2179.01 138.412 L2183.53 138.412 L2191.63 158.689 L2199.73 138.412 L2204.24 138.412 L2192.86 166.745 Z\" fill=\"#000000\" fill-rule=\"evenodd\" fill-opacity=\"1\" /><path clip-path=\"url(#clip740)\" d=\"M2211.54 160.402 L2219.17 160.402 L2219.17 134.037 L2210.86 135.703 L2210.86 131.444 L2219.13 129.778 L2223.8 129.778 L2223.8 160.402 L2231.44 160.402 L2231.44 164.338 L2211.54 164.338 L2211.54 160.402 Z\" fill=\"#000000\" fill-rule=\"evenodd\" fill-opacity=\"1\" /><polyline clip-path=\"url(#clip740)\" style=\"stroke:#e26f46; stroke-linecap:butt; stroke-linejoin:round; stroke-width:4; stroke-opacity:1; fill:none\" points=\"\n",
       "  2009.17,198.898 2154.75,198.898 \n",
       "  \"/>\n",
       "<path clip-path=\"url(#clip740)\" d=\"M2192.86 218.585 Q2191.05 223.215 2189.34 224.627 Q2187.62 226.039 2184.75 226.039 L2181.35 226.039 L2181.35 222.474 L2183.85 222.474 Q2185.61 222.474 2186.58 221.64 Q2187.55 220.807 2188.73 217.705 L2189.5 215.761 L2179.01 190.252 L2183.53 190.252 L2191.63 210.529 L2199.73 190.252 L2204.24 190.252 L2192.86 218.585 Z\" fill=\"#000000\" fill-rule=\"evenodd\" fill-opacity=\"1\" /><path clip-path=\"url(#clip740)\" d=\"M2214.75 212.242 L2231.07 212.242 L2231.07 216.178 L2209.13 216.178 L2209.13 212.242 Q2211.79 209.488 2216.37 204.858 Q2220.98 200.205 2222.16 198.863 Q2224.41 196.34 2225.29 194.604 Q2226.19 192.844 2226.19 191.155 Q2226.19 188.4 2224.24 186.664 Q2222.32 184.928 2219.22 184.928 Q2217.02 184.928 2214.57 185.692 Q2212.14 186.455 2209.36 188.006 L2209.36 183.284 Q2212.18 182.15 2214.64 181.571 Q2217.09 180.993 2219.13 180.993 Q2224.5 180.993 2227.69 183.678 Q2230.89 186.363 2230.89 190.854 Q2230.89 192.983 2230.08 194.905 Q2229.29 196.803 2227.18 199.395 Q2226.6 200.067 2223.5 203.284 Q2220.4 206.479 2214.75 212.242 Z\" fill=\"#000000\" fill-rule=\"evenodd\" fill-opacity=\"1\" /></svg>\n"
      ]
     },
     "execution_count": 45,
     "metadata": {},
     "output_type": "execute_result"
    }
   ],
   "source": [
    "#exemplo1: \"sanity check\": a própria função exponencial\n",
    "x = [1,2,3,4,5]\n",
    "y = [exp(i) for i in x]\n",
    "h = regressao_exponencial(x,y)\n",
    "c = regressao_exponencial_coef(x,y)\n",
    "print(c) #deveria ser [1,1]\n",
    "y2 = [h(i) for i in x]\n",
    "plot(x,y)\n",
    "plot!(x,y2) #não deveríamos conseguir distinguir os dois no plot"
   ]
  },
  {
   "cell_type": "markdown",
   "id": "7a2e49ab",
   "metadata": {},
   "source": [
    "### 2 - Potência"
   ]
  },
  {
   "cell_type": "code",
   "execution_count": 46,
   "id": "549401a7",
   "metadata": {},
   "outputs": [],
   "source": [
    "#ToDo!!!"
   ]
  },
  {
   "cell_type": "markdown",
   "id": "c1a57bdd",
   "metadata": {},
   "source": [
    "### 3 - Geométrica"
   ]
  },
  {
   "cell_type": "code",
   "execution_count": null,
   "id": "d5725877",
   "metadata": {},
   "outputs": [],
   "source": []
  },
  {
   "cell_type": "markdown",
   "id": "192001cd",
   "metadata": {},
   "source": [
    "## Interpolação 2D"
   ]
  },
  {
   "cell_type": "markdown",
   "id": "e3ea9c08",
   "metadata": {},
   "source": [
    "Pela geometria do problema, podemos definir 4 triplas. São elas\n",
    "$$\n",
    "(x_0,y_0,z_{00})\\\\\n",
    "(x_1,y_0,z_{10})\\\\\n",
    "(x_0,y_1,z_{01})\\\\\n",
    "(x_1,y_1,z_{11})\n",
    "$$\n",
    "Dessa forma, precisamos que \n",
    "$$\n",
    "F(x_i,y_j) = z_{ij}\n",
    "$$\n",
    "O algoritmo abaixo calcula exatamente isso. A diferença entre este método e a interpolação por lagrange em 1D, é que aqui multiplicamos os termos pelos fatores\n",
    "$$\n",
    "\\frac{y-y_i}{y_j-y_i}\n",
    "$$\n",
    "devido a nova variável. "
   ]
  },
  {
   "cell_type": "code",
   "execution_count": 101,
   "id": "078e40ff",
   "metadata": {},
   "outputs": [
    {
     "data": {
      "text/plain": [
       "interpolacao2d"
      ]
     },
     "execution_count": 101,
     "metadata": {},
     "output_type": "execute_result"
    }
   ],
   "source": [
    "\"\"\"\n",
    "    interpolacao2d(x0,x1,y0,y1,z00,z10,z01,z11)\n",
    "Recebe os valores x_i,y_j e z_ij que devem obedecem a lei de formação F(x_i,y_j) = z_ij. \n",
    "A função F interpoladora é retornada\n",
    "\"\"\"\n",
    "function interpolacao2d(x0,x1,y0,y1,z00,z10,z01,z11)\n",
    "    F(x,y) = z00*(((x-x1)*(y-y1))/((x0-x1)*(y0-y1))) + z10*(((x-x0)*(y-y1))/((x1-x0)*(y0-y1))) + z01*(((x-x1)*(y-y0))/((x0-x1)*(y1-y0))) + z11*(((x-x0)*(y-y0))/((x1-x0)*(y1-y0)))\n",
    "    return F\n",
    "end"
   ]
  },
  {
   "cell_type": "markdown",
   "id": "ae10f769",
   "metadata": {},
   "source": [
    "Aqui testamos se os índices foram utilizados corretamente."
   ]
  },
  {
   "cell_type": "code",
   "execution_count": 98,
   "id": "4c30bbc0",
   "metadata": {},
   "outputs": [
    {
     "data": {
      "text/plain": [
       "true"
      ]
     },
     "execution_count": 98,
     "metadata": {},
     "output_type": "execute_result"
    }
   ],
   "source": [
    "x0 = 1\n",
    "y0 = 1\n",
    "\n",
    "x1 = 2\n",
    "y1 = 2\n",
    "\n",
    "z00 = 5\n",
    "z10 = 7\n",
    "z01 = 8\n",
    "z11 = 10\n",
    "\n",
    "p = interpolacao2d(x0,x1,y0,y1,z00,z10,z01,z11)\n",
    "z00 ≈ p(x0,y0) && z10 ≈ p(x1,y0) && z01 ≈ p(x0,y1) && z11 ≈ p(x1,y1)"
   ]
  },
  {
   "cell_type": "markdown",
   "id": "5e373276",
   "metadata": {},
   "source": [
    "Aqui testamos com uma função $f$. Verificamos se $p=f$ nos pontos dados."
   ]
  },
  {
   "cell_type": "code",
   "execution_count": 110,
   "id": "6d38cdac",
   "metadata": {},
   "outputs": [
    {
     "data": {
      "text/plain": [
       "true"
      ]
     },
     "execution_count": 110,
     "metadata": {},
     "output_type": "execute_result"
    }
   ],
   "source": [
    "f(x,y) = x*y \n",
    "\n",
    "x0 = 50\n",
    "y0 = -99\n",
    "\n",
    "x1 = 100\n",
    "y1 = -4\n",
    "\n",
    "z00 = f(x0,y0)\n",
    "z10 = f(x1,y0)\n",
    "z01 = f(x0,y1)\n",
    "z11 = f(x1,y1)\n",
    "\n",
    "p = interpolacao2d(x0,x1,y0,y1,z00,z10,z01,z11)\n",
    "f(x0,y0) ≈ p(x0,y0) && f(x1,y0) ≈ p(x1,y0) && f(x0,y1) ≈ p(x0,y1) && f(x1,y1) ≈ p(x1,y1)"
   ]
  },
  {
   "cell_type": "code",
   "execution_count": 178,
   "id": "8c4ab478",
   "metadata": {},
   "outputs": [
    {
     "data": {
      "text/plain": [
       "true"
      ]
     },
     "execution_count": 178,
     "metadata": {},
     "output_type": "execute_result"
    }
   ],
   "source": [
    "f(x,y) = 3*x*y + sqrt(2)*x + 5*y + 1\n",
    "\n",
    "x0 = 2\n",
    "y0 = -2\n",
    "\n",
    "x1 = 4\n",
    "y1 = -4\n",
    "\n",
    "z00 = f(x0,y0)\n",
    "z10 = f(x1,y0)\n",
    "z01 = f(x0,y1)\n",
    "z11 = f(x1,y1)\n",
    "\n",
    "p = interpolacao2d(x0,x1,y0,y1,z00,z10,z01,z11)\n",
    "f(x0,y0) ≈ p(x0,y0) && f(x1,y0) ≈ p(x1,y0) && f(x0,y1) ≈ p(x0,y1) && f(x1,y1) ≈ p(x1,y1)"
   ]
  },
  {
   "cell_type": "markdown",
   "id": "d07185d2",
   "metadata": {},
   "source": [
    "## Norma de um vetor v"
   ]
  },
  {
   "cell_type": "markdown",
   "id": "9a5a97bd",
   "metadata": {},
   "source": [
    "A norma de um vetor $v$ pode ser calculada como\n",
    "$$\n",
    "\\|v\\| = \\sqrt{\n",
    "v^tv\n",
    "}\n",
    "$$\n",
    "onde $v$ é uma matriz coluna."
   ]
  },
  {
   "cell_type": "code",
   "execution_count": 51,
   "id": "9fd95e5e",
   "metadata": {},
   "outputs": [
    {
     "data": {
      "text/plain": [
       "norma (generic function with 1 method)"
      ]
     },
     "execution_count": 51,
     "metadata": {},
     "output_type": "execute_result"
    }
   ],
   "source": [
    "\"\"\"\n",
    "    norma(v)\n",
    "Retorna a norma do vetor v de entrada. \n",
    "\"\"\"\n",
    "function norma(v)\n",
    "    return sqrt(v'*v)\n",
    "end"
   ]
  },
  {
   "cell_type": "code",
   "execution_count": 52,
   "id": "cb4aa492",
   "metadata": {},
   "outputs": [
    {
     "data": {
      "text/plain": [
       "true"
      ]
     },
     "execution_count": 52,
     "metadata": {},
     "output_type": "execute_result"
    }
   ],
   "source": [
    "# A norma de um vetor unitário é 1\n",
    "v = [1;0]\n",
    "norma(v) ≈ 1"
   ]
  },
  {
   "cell_type": "code",
   "execution_count": 53,
   "id": "7c13e55a",
   "metadata": {},
   "outputs": [
    {
     "data": {
      "text/plain": [
       "true"
      ]
     },
     "execution_count": 53,
     "metadata": {},
     "output_type": "execute_result"
    }
   ],
   "source": [
    "v = [3;4]\n",
    "norma(v) ≈ 5"
   ]
  },
  {
   "cell_type": "code",
   "execution_count": 54,
   "id": "3b88116d",
   "metadata": {},
   "outputs": [
    {
     "data": {
      "text/plain": [
       "true"
      ]
     },
     "execution_count": 54,
     "metadata": {},
     "output_type": "execute_result"
    }
   ],
   "source": [
    "# A norma do vetor nulo é 0\n",
    "v = [0;0]\n",
    "norma(v) ≈ 0"
   ]
  },
  {
   "cell_type": "markdown",
   "id": "5e386a3a",
   "metadata": {},
   "source": [
    "## Resolver um sistema linear denso aproximadamente"
   ]
  },
  {
   "cell_type": "markdown",
   "id": "04b14023",
   "metadata": {},
   "source": [
    "O método de mínimos quadrados pode ser utilizado para calcular a média aritmética de $n$ valores."
   ]
  },
  {
   "cell_type": "code",
   "execution_count": 168,
   "id": "68f36606",
   "metadata": {},
   "outputs": [
    {
     "data": {
      "text/plain": [
       "true"
      ]
     },
     "execution_count": 168,
     "metadata": {},
     "output_type": "execute_result"
    }
   ],
   "source": [
    "A = [1;1;1;1;1;1]\n",
    "b = [10; 15; 20; 79; 100; -10]\n",
    "\n",
    "x = minimos_quadrados(A,b) \n",
    "media = (10+15+20+79+100-10)/6\n",
    "x[1] ≈ media"
   ]
  },
  {
   "cell_type": "markdown",
   "id": "7d7838a5",
   "metadata": {},
   "source": [
    "Vamos resolver o sistema de teste\n",
    "\\begin{align*}\n",
    "2x + y &= 6\\\\\n",
    "x + y &= 10\\\\\n",
    "x + y &= 11\\\\\n",
    "\\end{align*}\n",
    "ou seja, precisamos minimizar a função\n",
    "$$\n",
    "F(x,y) = \\left(6-\\left(2x+y\\right)\\right)^2+\\left(10-\\left(x+y\\right)\\right)^2+\\left(11-\\left(x+y\\right)\\right)^2\n",
    "$$\n",
    "O gradiente será\n",
    "\\begin{align*}\n",
    "F_x &= 12x+8y-66\\\\\n",
    "F_y &= 8x+6y-54\\\\\n",
    "\\end{align*}\n",
    "Igualando o gradiente igual a 0, formamos o sistema\n",
    "\\begin{align*}\n",
    "12x+8y &= 66\\\\\n",
    "8x+6y &= 54\\\\\n",
    "\\end{align*}\n",
    "Então o método de mínimos quadrados deve retornar o mesmo vetor resultado do sistema acima."
   ]
  },
  {
   "cell_type": "code",
   "execution_count": 171,
   "id": "470648d3",
   "metadata": {},
   "outputs": [
    {
     "data": {
      "text/plain": [
       "true"
      ]
     },
     "execution_count": 171,
     "metadata": {},
     "output_type": "execute_result"
    }
   ],
   "source": [
    "# Sistema teste\n",
    "A1 = [2 1;\n",
    "1 1;\n",
    "1 1]\n",
    "b1 = [6; 10; 11]\n",
    "\n",
    "# Sistema feito pelo método de mínimos quadrados realizado na força bruta\n",
    "A2 = [12 8;\n",
    "8 6]\n",
    "b2 = [66; 54]\n",
    "\n",
    "minimos_quadrados(A1,b1) ≈ resolve(A2,b2)"
   ]
  },
  {
   "cell_type": "markdown",
   "id": "dffca78d",
   "metadata": {},
   "source": [
    "Vamos resolver o sistema de teste\n",
    "\\begin{align*}\n",
    "x + 2y + z &= 10\\\\\n",
    "3x + y + 4z &= 3\\\\\n",
    "5x + y + \\frac{z}{2} &= 7\\\\\n",
    "7x + 2y + z &= 0\\\\\n",
    "\\end{align*}\n",
    "ou seja, precisamos minimizar a função\n",
    "$$\n",
    "F(x,y,z) = \\left(10-\\left(x+2y+z\\right)\\right)^2+\\left(3-\\left(3x+y+4z\\right)\\right)^2+\\left(7-\\left(5x+y+\\frac{z}{2}\\right)\\right)^2+\\left(0-\\left(7x+2y+z\\right)\\right)^2\n",
    "$$\n",
    "O gradiente será\n",
    "\\begin{align*}\n",
    "F_x &= 3(56x+16y+15z-36)\\\\\n",
    "F_y &= 48x+20y+17z-60\\\\\n",
    "F_z &= \\frac{90x+34y+73z-102}{2}\\\n",
    "\\end{align*}\n",
    "Igualando o gradiente igual a 0, formamos o sistema\n",
    "\\begin{align*}\n",
    "56x+16y+15z &= 36\\\\\n",
    "48x+20y+17z &= 60\\\\\n",
    "90x+34y+73z &= 102\\\n",
    "\\end{align*}\n",
    "Então o método de mínimos quadrados deve retornar o mesmo vetor resultado do sistema acima."
   ]
  },
  {
   "cell_type": "code",
   "execution_count": 167,
   "id": "34163bfe",
   "metadata": {},
   "outputs": [
    {
     "data": {
      "text/plain": [
       "true"
      ]
     },
     "execution_count": 167,
     "metadata": {},
     "output_type": "execute_result"
    }
   ],
   "source": [
    "# Sistema teste\n",
    "A1 = [1 2 1;\n",
    "3 1 4;\n",
    "5 1 1/2;\n",
    "7 2 1]\n",
    "b1 = [10; 3; 7; 0]\n",
    "\n",
    "# Sistema feito pelo método de mínimos quadrados realizado na força bruta\n",
    "A2 = [56 16 15;\n",
    "48 20 17;\n",
    "90 34 73]\n",
    "b2 = [36; 60; 102]\n",
    "\n",
    "minimos_quadrados(A1,b1) ≈ resolve(A2,b2)"
   ]
  },
  {
   "cell_type": "markdown",
   "id": "0b6041a4",
   "metadata": {},
   "source": [
    "## Resolver exatamente uma sistema linear denso"
   ]
  },
  {
   "cell_type": "markdown",
   "id": "4dd08551",
   "metadata": {},
   "source": [
    "A função *resolve* soluciona o sistema $Ax=b$ através de decomposição LU, onde A é uma matriz $nxn$. Isso pode ser feito através dos passos\n",
    "\\begin{align*}\n",
    "Ax&=b\\\\\n",
    "LUx&=b\\\\\n",
    "LY&=b &\\text{onde } Y &= Ux\\\\\n",
    "UX &= Y\n",
    "\\end{align*}\n",
    "Dessa forma $X$ é o vetor coluna que procuramos."
   ]
  },
  {
   "cell_type": "code",
   "execution_count": 164,
   "id": "2b8fcec8",
   "metadata": {},
   "outputs": [
    {
     "data": {
      "text/plain": [
       "resolve"
      ]
     },
     "execution_count": 164,
     "metadata": {},
     "output_type": "execute_result"
    }
   ],
   "source": [
    "\"\"\"\n",
    "    resolve(A,b)\n",
    "    \n",
    "Retorna a matriz coluna x que é o resultado do sistema linear Ax=b, onde\n",
    "A é uma matriz nxn e b possui tamanho nx1.\n",
    "\"\"\"\n",
    "function resolve(A,b)\n",
    "    # Força todos os valores a matriz A serem float\n",
    "    A = 1.0*A\n",
    "    L,U = decomposicao_LU(A)\n",
    "    Y = resolve_triangular_inferior(L,b)\n",
    "    return resolve_triangular_superior(U,Y)\n",
    "end"
   ]
  },
  {
   "cell_type": "markdown",
   "id": "636bfb52",
   "metadata": {},
   "source": [
    "Aqui geramos a matriz $A$ e $b$ randomicamente."
   ]
  },
  {
   "cell_type": "code",
   "execution_count": 114,
   "id": "8bed9385",
   "metadata": {},
   "outputs": [
    {
     "data": {
      "text/plain": [
       "true"
      ]
     },
     "execution_count": 114,
     "metadata": {},
     "output_type": "execute_result"
    }
   ],
   "source": [
    "n = 3\n",
    "A = rand(n,n)\n",
    "b = randn(n)\n",
    "x = resolve(A,b)\n",
    "A*x ≈ b"
   ]
  },
  {
   "cell_type": "code",
   "execution_count": 115,
   "id": "aaff3034",
   "metadata": {},
   "outputs": [
    {
     "data": {
      "text/plain": [
       "true"
      ]
     },
     "execution_count": 115,
     "metadata": {},
     "output_type": "execute_result"
    }
   ],
   "source": [
    "n = 10\n",
    "A = rand(n,n)\n",
    "b = randn(n)\n",
    "x = resolve(A,b)\n",
    "A*x ≈ b"
   ]
  },
  {
   "cell_type": "code",
   "execution_count": 116,
   "id": "50e543bb",
   "metadata": {},
   "outputs": [
    {
     "data": {
      "text/plain": [
       "true"
      ]
     },
     "execution_count": 116,
     "metadata": {},
     "output_type": "execute_result"
    }
   ],
   "source": [
    "n = 30\n",
    "A = rand(n,n)\n",
    "b = randn(n)\n",
    "x = resolve(A,b)\n",
    "A*x ≈ b"
   ]
  },
  {
   "cell_type": "markdown",
   "id": "0f59956d",
   "metadata": {},
   "source": [
    "## Resolver um sistema triangular superior\n",
    "Utilizamos a função [UpperTriangular](https://docs.julialang.org/en/v1/stdlib/LinearAlgebra/#LinearAlgebra.UpperTriangular) para gerar a matriz A triangular superior."
   ]
  },
  {
   "cell_type": "code",
   "execution_count": 62,
   "id": "07c7ff6a",
   "metadata": {},
   "outputs": [
    {
     "data": {
      "text/plain": [
       "true"
      ]
     },
     "execution_count": 62,
     "metadata": {},
     "output_type": "execute_result"
    }
   ],
   "source": [
    "n = 3\n",
    "A = UpperTriangular(rand(n,n))\n",
    "b = randn(n)\n",
    "x = resolve_triangular_superior(A,b)\n",
    "A*x ≈ b"
   ]
  },
  {
   "cell_type": "code",
   "execution_count": 63,
   "id": "40db6afa",
   "metadata": {},
   "outputs": [
    {
     "data": {
      "text/plain": [
       "true"
      ]
     },
     "execution_count": 63,
     "metadata": {},
     "output_type": "execute_result"
    }
   ],
   "source": [
    "n = 10\n",
    "A = UpperTriangular(rand(n,n))\n",
    "b = randn(n)\n",
    "x = resolve_triangular_superior(A,b)\n",
    "A*x ≈ b"
   ]
  },
  {
   "cell_type": "code",
   "execution_count": 64,
   "id": "64362191",
   "metadata": {},
   "outputs": [
    {
     "data": {
      "text/plain": [
       "true"
      ]
     },
     "execution_count": 64,
     "metadata": {},
     "output_type": "execute_result"
    }
   ],
   "source": [
    "n = 30\n",
    "A = UpperTriangular(rand(n,n))\n",
    "b = randn(n)\n",
    "x = resolve_triangular_superior(A,b)\n",
    "A*x ≈ b"
   ]
  },
  {
   "cell_type": "markdown",
   "id": "ae3e2995",
   "metadata": {},
   "source": [
    "## Resolver um sistema triangular inferior\n",
    "Utilizamos a função [LowerTriangular](https://docs.julialang.org/en/v1/stdlib/LinearAlgebra/#LinearAlgebra.LowerTriangular) para gerar a matriz A triangular inferior."
   ]
  },
  {
   "cell_type": "code",
   "execution_count": 172,
   "id": "a9ef6dad",
   "metadata": {},
   "outputs": [
    {
     "data": {
      "text/plain": [
       "true"
      ]
     },
     "execution_count": 172,
     "metadata": {},
     "output_type": "execute_result"
    }
   ],
   "source": [
    "n = 3\n",
    "A = LowerTriangular(rand(n,n))\n",
    "b = randn(n)\n",
    "x = resolve_triangular_inferior(A,b)\n",
    "A*x ≈ b"
   ]
  },
  {
   "cell_type": "code",
   "execution_count": 173,
   "id": "bc12771b",
   "metadata": {},
   "outputs": [
    {
     "data": {
      "text/plain": [
       "true"
      ]
     },
     "execution_count": 173,
     "metadata": {},
     "output_type": "execute_result"
    }
   ],
   "source": [
    "n = 10\n",
    "A = LowerTriangular(rand(n,n))\n",
    "b = randn(n)\n",
    "x = resolve_triangular_inferior(A,b)\n",
    "A*x ≈ b"
   ]
  },
  {
   "cell_type": "code",
   "execution_count": 174,
   "id": "54fd06d9",
   "metadata": {},
   "outputs": [
    {
     "data": {
      "text/plain": [
       "true"
      ]
     },
     "execution_count": 174,
     "metadata": {},
     "output_type": "execute_result"
    }
   ],
   "source": [
    "n = 30\n",
    "A = LowerTriangular(rand(n,n))\n",
    "b = randn(n)\n",
    "x = resolve_triangular_inferior(A,b)\n",
    "A*x ≈ b"
   ]
  },
  {
   "cell_type": "markdown",
   "id": "7ef74d63",
   "metadata": {},
   "source": [
    "## Resolver um sistema diagonal"
   ]
  },
  {
   "cell_type": "code",
   "execution_count": 68,
   "id": "7802f370",
   "metadata": {},
   "outputs": [
    {
     "data": {
      "text/plain": [
       "resolve_diagonal"
      ]
     },
     "execution_count": 68,
     "metadata": {},
     "output_type": "execute_result"
    }
   ],
   "source": [
    "\"\"\"\n",
    "    resolve_diagonal(A,b)\n",
    "    \n",
    "Retorna a matriz coluna x que é o resultado do sistema linear diagonal Ax=b.\n",
    "A é uma matriz diagonal nxn e b nx1.\n",
    "\"\"\"\n",
    "function resolve_diagonal(A, b)\n",
    "    # Computa n, que será o número de linhas da matriz x\n",
    "    n = length(b)\n",
    "    x = zeros(n)\n",
    "    # Computa o vetor x\n",
    "    for i=1:n\n",
    "        x[i] = b[i] / A[i,i]\n",
    "    end\n",
    "    return x\n",
    "end"
   ]
  },
  {
   "cell_type": "markdown",
   "id": "b22c7d81",
   "metadata": {},
   "source": [
    "A matriz identidade $I$ concedida pela biblioteca LinearAlgebra foi usada para gerar as matrizes diagonais."
   ]
  },
  {
   "cell_type": "code",
   "execution_count": 120,
   "id": "97fadc45",
   "metadata": {},
   "outputs": [
    {
     "data": {
      "text/plain": [
       "true"
      ]
     },
     "execution_count": 120,
     "metadata": {},
     "output_type": "execute_result"
    }
   ],
   "source": [
    "n = 3\n",
    "A = randn()*I\n",
    "b = randn(n)\n",
    "x = resolve_diagonal(A,b)\n",
    "A*x ≈ b"
   ]
  },
  {
   "cell_type": "code",
   "execution_count": 121,
   "id": "6c9eaad1",
   "metadata": {},
   "outputs": [
    {
     "data": {
      "text/plain": [
       "true"
      ]
     },
     "execution_count": 121,
     "metadata": {},
     "output_type": "execute_result"
    }
   ],
   "source": [
    "n = 19\n",
    "A = randn()*I\n",
    "b = randn(n)\n",
    "x = resolve_diagonal(A,b)\n",
    "A*x ≈ b"
   ]
  },
  {
   "cell_type": "code",
   "execution_count": 122,
   "id": "fbf6d20b",
   "metadata": {},
   "outputs": [
    {
     "data": {
      "text/plain": [
       "true"
      ]
     },
     "execution_count": 122,
     "metadata": {},
     "output_type": "execute_result"
    }
   ],
   "source": [
    "n = 57\n",
    "A = randn()*I\n",
    "b = randn(n)\n",
    "x = resolve_diagonal(A,b)\n",
    "A*x ≈ b"
   ]
  },
  {
   "cell_type": "markdown",
   "id": "c2b903c5",
   "metadata": {},
   "source": [
    "## Achar a inversa de uma matriz"
   ]
  },
  {
   "cell_type": "markdown",
   "id": "f0d6f241",
   "metadata": {},
   "source": [
    "Aqui tbm geramos as matrizes randomicamente"
   ]
  },
  {
   "cell_type": "code",
   "execution_count": 175,
   "id": "59a8e90c",
   "metadata": {},
   "outputs": [
    {
     "data": {
      "text/plain": [
       "true"
      ]
     },
     "execution_count": 175,
     "metadata": {},
     "output_type": "execute_result"
    }
   ],
   "source": [
    "n = 3\n",
    "A = randn(n,n)\n",
    "A_inv = inversa_LU(A)\n",
    "Ident = Matrix{Float64}(I,n,n)\n",
    "A*A_inv ≈ A_inv*A ≈ Ident"
   ]
  },
  {
   "cell_type": "code",
   "execution_count": 176,
   "id": "016dcef1",
   "metadata": {},
   "outputs": [
    {
     "data": {
      "text/plain": [
       "true"
      ]
     },
     "execution_count": 176,
     "metadata": {},
     "output_type": "execute_result"
    }
   ],
   "source": [
    "n = 11\n",
    "A = randn(n,n)\n",
    "A_inv = inversa_LU(A)\n",
    "Ident = Matrix{Float64}(I,n,n)\n",
    "A*A_inv ≈ A_inv*A ≈ Ident"
   ]
  },
  {
   "cell_type": "code",
   "execution_count": 177,
   "id": "396070ed",
   "metadata": {},
   "outputs": [
    {
     "data": {
      "text/plain": [
       "true"
      ]
     },
     "execution_count": 177,
     "metadata": {},
     "output_type": "execute_result"
    }
   ],
   "source": [
    "n = 37\n",
    "A = randn(n,n)\n",
    "A_inv = inversa_LU(A)\n",
    "Ident = Matrix{Float64}(I,n,n)\n",
    "A*A_inv ≈ A_inv*A ≈ Ident"
   ]
  }
 ],
 "metadata": {
  "kernelspec": {
   "display_name": "Julia 1.6.4",
   "language": "julia",
   "name": "julia-1.6"
  },
  "language_info": {
   "file_extension": ".jl",
   "mimetype": "application/julia",
   "name": "julia",
   "version": "1.6.4"
  }
 },
 "nbformat": 4,
 "nbformat_minor": 5
}
