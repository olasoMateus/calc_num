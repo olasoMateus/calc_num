{
 "cells": [
  {
   "cell_type": "markdown",
   "id": "2333f427",
   "metadata": {},
   "source": [
    "Questão 1"
   ]
  },
  {
   "cell_type": "code",
   "execution_count": 91,
   "id": "961cd4bb",
   "metadata": {},
   "outputs": [],
   "source": [
    "using LinearAlgebra"
   ]
  },
  {
   "cell_type": "code",
   "execution_count": 5,
   "id": "a6dd3726",
   "metadata": {},
   "outputs": [
    {
     "data": {
      "text/plain": [
       "resolve_diagonal"
      ]
     },
     "execution_count": 5,
     "metadata": {},
     "output_type": "execute_result"
    }
   ],
   "source": [
    "\"\"\"\n",
    "Função que resolve e retorna Ax = b, quando A é uma matriz quadrada diagonal.\n",
    "Entradas: Matriz A, uma matriz quadrada diagonal; Vetor B, uma matriz coluna.\n",
    "Saídas: Vetor x, cujo elementos respeitam a equação Ax = b.\n",
    "Complexidade: O(n)\n",
    "\"\"\"\n",
    "function resolve_diagonal(A, b)\n",
    "    n = length(b) # Obtém o tamanho de b e armazena em n\n",
    "    x = zeros(n) # Cria um vetor x de tamanho n\n",
    "    for i = 1:n \n",
    "        x[i] = b[i]/A[i,i] # Para cada i, de 1 a n, faz x_1 = b_1/A_1,1\n",
    "    end\n",
    "    return x # Retorna o vetor x\n",
    "end"
   ]
  },
  {
   "cell_type": "code",
   "execution_count": 7,
   "id": "dfa06598",
   "metadata": {},
   "outputs": [
    {
     "data": {
      "text/plain": [
       "true"
      ]
     },
     "execution_count": 7,
     "metadata": {},
     "output_type": "execute_result"
    }
   ],
   "source": [
    "A = [1 0 0; \n",
    "     0 2 0; \n",
    "     0 0 -4]\n",
    "b = [1, 1, 1]\n",
    "x = resolve_diagonal(A, b)\n",
    "A*x ≈ b"
   ]
  },
  {
   "cell_type": "code",
   "execution_count": 17,
   "id": "f7671140",
   "metadata": {},
   "outputs": [
    {
     "data": {
      "text/plain": [
       "true"
      ]
     },
     "execution_count": 17,
     "metadata": {},
     "output_type": "execute_result"
    }
   ],
   "source": [
    "A = [7 0 0 0; \n",
    "     0 -8 0 0; \n",
    "     0 0 6 0;\n",
    "     0 0 0 5]\n",
    "b = [5, 14, 16, 8]\n",
    "x = resolve_diagonal(A, b)\n",
    "A*x ≈ b"
   ]
  },
  {
   "cell_type": "code",
   "execution_count": 18,
   "id": "a0fdd69c",
   "metadata": {},
   "outputs": [
    {
     "data": {
      "text/plain": [
       "true"
      ]
     },
     "execution_count": 18,
     "metadata": {},
     "output_type": "execute_result"
    }
   ],
   "source": [
    "A = [5 0; \n",
    "     0 4]\n",
    "b = [0, -10]\n",
    "x = resolve_diagonal(A, b)\n",
    "A*x ≈ b"
   ]
  },
  {
   "cell_type": "code",
   "execution_count": 19,
   "id": "b5410dc5",
   "metadata": {},
   "outputs": [
    {
     "data": {
      "text/plain": [
       "resolve_triangular_superior"
      ]
     },
     "execution_count": 19,
     "metadata": {},
     "output_type": "execute_result"
    }
   ],
   "source": [
    "\"\"\"\n",
    "Função que resolve e retorna Ax = b, quando A é uma matriz quadrada triangular superior.\n",
    "Entradas: Matriz A, uma matriz quadrada triangular superior; Vetor B, uma matriz coluna.\n",
    "Saídas: Vetor x, cujo elementos respeitam a equação Ax = b.\n",
    "Complexidade: O(n^2)\n",
    "\"\"\"\n",
    "function resolve_triangular_superior(A, b)\n",
    "    n = length(b) # Obtém o tamanho de b e armazena em n\n",
    "    x = zeros(n) # Cria um vetor x de tamanho n\n",
    "    for i = n:-1:1 # Faz i, que começa com valor n e diminui até 1\n",
    "        x[i] = b[i] # Armazenda em x_i o valor b_i\n",
    "        for j = i+1:n # Dentro do for, faz o b_i menos o somatório de A_i,j * x_j, e armazenar em x_i,\n",
    "                      # Com j que começa com valor i+1 e cresce até n\n",
    "            x[i] = x[i] - (A[i,j]*x[j])\n",
    "        end\n",
    "        x[i] = x[i]/A[i, i] # Por fim, dividir o o x_i atual por A_i,i, e armazenar em x_i\n",
    "    end\n",
    "    return x # Retorna o vetor x\n",
    "end"
   ]
  },
  {
   "cell_type": "code",
   "execution_count": 21,
   "id": "41cf5bda",
   "metadata": {},
   "outputs": [
    {
     "data": {
      "text/plain": [
       "true"
      ]
     },
     "execution_count": 21,
     "metadata": {},
     "output_type": "execute_result"
    }
   ],
   "source": [
    "A = [1 2 3;\n",
    "     0 4 5;\n",
    "     0 0 6]\n",
    "b = [1, 1, 1]\n",
    "x = resolve_triangular_superior(A, b)\n",
    "A*x ≈ b"
   ]
  },
  {
   "cell_type": "code",
   "execution_count": 22,
   "id": "1ffe0ce9",
   "metadata": {},
   "outputs": [
    {
     "data": {
      "text/plain": [
       "true"
      ]
     },
     "execution_count": 22,
     "metadata": {},
     "output_type": "execute_result"
    }
   ],
   "source": [
    "A = [10 -2 34 5;\n",
    "     0 -20 1 52;\n",
    "     0 0 -5 7;\n",
    "     0 0 0 3]\n",
    "b = [11, 0, 10, -24]\n",
    "x = resolve_triangular_superior(A, b)\n",
    "A*x ≈ b"
   ]
  },
  {
   "cell_type": "code",
   "execution_count": 23,
   "id": "13741ff3",
   "metadata": {},
   "outputs": [
    {
     "data": {
      "text/plain": [
       "true"
      ]
     },
     "execution_count": 23,
     "metadata": {},
     "output_type": "execute_result"
    }
   ],
   "source": [
    "A = [-1 20;\n",
    "     0 5]\n",
    "b = [17, -41]\n",
    "x = resolve_triangular_superior(A, b)\n",
    "A*x ≈ b"
   ]
  },
  {
   "cell_type": "code",
   "execution_count": 25,
   "id": "52325d5b",
   "metadata": {},
   "outputs": [
    {
     "data": {
      "text/plain": [
       "resolve_triangular_inferior"
      ]
     },
     "execution_count": 25,
     "metadata": {},
     "output_type": "execute_result"
    }
   ],
   "source": [
    "\"\"\"\n",
    "Função que resolve e retorna Ax = b, quando A é uma matriz quadrada triangular inferior.\n",
    "Entradas: Matriz A, uma matriz quadrada triangular inferior; Vetor B, uma matriz coluna.\n",
    "Saídas: Vetor x, cujo elementos respeitam a equação Ax = b.\n",
    "Complexidade: O(n^2)\n",
    "\"\"\"\n",
    "function resolve_triangular_inferior(A, b)\n",
    "    n = length(b) # Obtém o tamanho de b e armazena em n\n",
    "    x = zeros(n) # Cria um vetor x de tamanho n\n",
    "    for i = 1:n # Faz i, que começa com valor 1 e cresce até n\n",
    "        x[i] = b[i] # Armazenda em x_i o valor b_i\n",
    "        for j = 1:(i - 1)# Dentro do for, faz o b_i menos o somatório de A_i,j * x_j, e armazenar em x_i,\n",
    "                         # Com j que começa com valor 1 e cresce até i - 1\n",
    "            x[i] = x[i] - (A[i,j]*x[j])\n",
    "        end\n",
    "        x[i] = x[i]/A[i, i] # Por fim, dividir o o x_i atual por A_i,i, e armazenar em x_i\n",
    "    end \n",
    "    return x # Retorna o vetor x\n",
    "end"
   ]
  },
  {
   "cell_type": "code",
   "execution_count": 26,
   "id": "9837353e",
   "metadata": {
    "scrolled": true
   },
   "outputs": [
    {
     "data": {
      "text/plain": [
       "true"
      ]
     },
     "execution_count": 26,
     "metadata": {},
     "output_type": "execute_result"
    }
   ],
   "source": [
    "A = [1 0 0;\n",
    "     2 3 0;\n",
    "     4 5 6]\n",
    "b = [1, 1, 1]\n",
    "x = resolve_triangular_inferior(A, b)\n",
    "A*x ≈ b"
   ]
  },
  {
   "cell_type": "code",
   "execution_count": 27,
   "id": "3515eef4",
   "metadata": {},
   "outputs": [
    {
     "data": {
      "text/plain": [
       "true"
      ]
     },
     "execution_count": 27,
     "metadata": {},
     "output_type": "execute_result"
    }
   ],
   "source": [
    "A = [11 0 0 0;\n",
    "     -2 34 0 0;\n",
    "     14 55 89 0;\n",
    "    -5 12 19 3]\n",
    "b = [41, 17, -1, 5]\n",
    "x = resolve_triangular_inferior(A, b)\n",
    "A*x ≈ b"
   ]
  },
  {
   "cell_type": "code",
   "execution_count": 28,
   "id": "bd83a96f",
   "metadata": {},
   "outputs": [
    {
     "data": {
      "text/plain": [
       "true"
      ]
     },
     "execution_count": 28,
     "metadata": {},
     "output_type": "execute_result"
    }
   ],
   "source": [
    "A = [-24 0 ;\n",
    "     1 58]\n",
    "b = [7, 62]\n",
    "x = resolve_triangular_inferior(A, b)\n",
    "A*x ≈ b"
   ]
  },
  {
   "cell_type": "code",
   "execution_count": 98,
   "id": "cce7044d",
   "metadata": {},
   "outputs": [
    {
     "data": {
      "text/plain": [
       "decomposicao_LU"
      ]
     },
     "execution_count": 98,
     "metadata": {},
     "output_type": "execute_result"
    }
   ],
   "source": [
    "\"\"\"\n",
    "Função que recebe uma matriz A e retorna duas matrizes: L, uma matriz quadrada triangular inferior,\n",
    "e U, uma matriz quadrada triangular superior. Essas, quando multiplicadas, equivalem a A (L*U = A)\n",
    "Entradas: Matriz A, uma matriz quadrada;\n",
    "Saídas: Uma matriz quadrada triangular inferior, L; Uma matriz quadrada triangular superior, U.\n",
    "Complexidade: O(n^3)\n",
    "\"\"\"\n",
    "function decomposicao_LU(A)\n",
    "    n, = size(A) # Obtém o número de linhas e colunas em A e armazena em n\n",
    "    L = zeros(n, n) # Cria uma matriz quadrada L de tamanho nxn vazia\n",
    "    U = copy(A) # Copia a matriz A em U\n",
    "    v = 0 # Variável auxiliar\n",
    "    for i = 1:n # Preenche a diagonal principal da matriz L com o número 1\n",
    "        L[i,i] = 1\n",
    "    end\n",
    "    for i = 1:(n - 1) # For que seleciona o 'pivo' para realiza a eliminação de Gauss, e formular valores de L\n",
    "        pivo = U[i,i] # Salva o pivo retirado da matriz A\n",
    "        for j = i + 1:n # Realiza o for, com j representando as linhas abaixo da linha do pivo, até n\n",
    "            v = U[j, i]/pivo # Atualiza a variável auxiliar v para zerar os elementos em A de mesma coluna do pivo\n",
    "            for k = 1:n # Realiza o for, passando por todos os itens da linha para realizar a eliminação gaussiana\n",
    "                U[j,k] = U[j,k] - U[i,k]*(v) # Realiza a eliminação gaussiana, zerando sempre os elementos da coluna do pivo\n",
    "            end\n",
    "            L[j, i] = v # Armazena o valor calculado para a eliminação gaussiana \n",
    "        end\n",
    "    end\n",
    "    return L, U # Retorna L, como uma matriz quadrada triangular inferior,\n",
    "                # e U, como uma matriz quadrada triangular superior\n",
    "end         "
   ]
  },
  {
   "cell_type": "code",
   "execution_count": 99,
   "id": "fbe29780",
   "metadata": {},
   "outputs": [
    {
     "data": {
      "text/plain": [
       "true"
      ]
     },
     "execution_count": 99,
     "metadata": {},
     "output_type": "execute_result"
    }
   ],
   "source": [
    "A = [3.0 2.0 4.0; \n",
    "    1.0 1.0 2.0; \n",
    "    4.0 3.0 -2.0]\n",
    "L, U = decomposicao_LU(A)\n",
    "L*U ≈ A"
   ]
  },
  {
   "cell_type": "code",
   "execution_count": 100,
   "id": "9c0df1fd",
   "metadata": {},
   "outputs": [
    {
     "data": {
      "text/plain": [
       "true"
      ]
     },
     "execution_count": 100,
     "metadata": {},
     "output_type": "execute_result"
    }
   ],
   "source": [
    "A = [1.0 2.0 3.0; \n",
    "    4.0 -2.0 6.0; \n",
    "    1.0 4.0 5.0]\n",
    "L, U = decomposicao_LU(A)\n",
    "L*U ≈ A"
   ]
  },
  {
   "cell_type": "code",
   "execution_count": 101,
   "id": "a686e9d5",
   "metadata": {},
   "outputs": [
    {
     "data": {
      "text/plain": [
       "true"
      ]
     },
     "execution_count": 101,
     "metadata": {},
     "output_type": "execute_result"
    }
   ],
   "source": [
    "A = [8.0 -4.0 -2.0; \n",
    "    -4.0 10.0 -2.0; \n",
    "    -2.0 -2.0 10.0]\n",
    "L, U = decomposicao_LU(A)\n",
    "L*U ≈ A"
   ]
  },
  {
   "cell_type": "code",
   "execution_count": 88,
   "id": "d7886a92",
   "metadata": {},
   "outputs": [
    {
     "data": {
      "text/plain": [
       "inversa_LU (generic function with 1 method)"
      ]
     },
     "execution_count": 88,
     "metadata": {},
     "output_type": "execute_result"
    }
   ],
   "source": [
    "\"\"\"\n",
    "Função que recebe uma matriz A e retorna A invertida. \n",
    "(Utiliza o método A*A^(-1) = I <-> L*U*A^(-1) = I, onde temos U*A^(-1) = y)\n",
    "Entradas: Matriz A, uma matriz quadrada;\n",
    "Saídas: A_inv, Uma matriz quadrada que é a inversa de A.\n",
    "Complexidade: O(n^3)\n",
    "\"\"\"\n",
    "\n",
    "function inversa_LU(A)\n",
    "    L, U = decomposicao_LU(A) # 'Desmonta' a matriz A em duas matrizes, \n",
    "                              # L (quadrada triangular inferior) e U (quadrada triangular superior)\n",
    "    n, = size(A) # Obtém o número de linhas e colunas em A e armazena em n\n",
    "    y = zeros(n, n) # Cria uma matiz y, que será intermediária, e a preenche com zeros\n",
    "    A_inv = zeros(n, n) # Cria a matriz que sera retornada, a inversa de A, e preenche com zeros\n",
    "    ident = zeros(n, n) # Cria uma matriz identidade, e a preenche com zeros\n",
    "    for i = 1:n # For para preencher a diagonal da matriz identidade com 1's\n",
    "        ident[i,i] = 1\n",
    "    end\n",
    "    for i = 1:n # For que completa a matriz A invertida, das colunas 1 a n\n",
    "        y[:,i] = resolve_triangular_inferior(L, ident[:,i]) # Resolve o triangular inferior com a coluna i da matriz identidade,\n",
    "                                                            # no molde L*y_:,i = I_:,i\n",
    "        A_inv[:, i] = resolve_triangular_superior(U, y[:,i])# Resolve o triangular superior com a coluna i da matriz y,\n",
    "                                                            # no molde U*A_:,i = y_:,i\n",
    "    end\n",
    "    return A_inv # Retorna a matriz A invertida\n",
    "end           "
   ]
  },
  {
   "cell_type": "code",
   "execution_count": 105,
   "id": "ad6b79e8",
   "metadata": {},
   "outputs": [
    {
     "data": {
      "text/plain": [
       "3×3 Matrix{Int64}:\n",
       " 1  0  0\n",
       " 0  1  0\n",
       " 0  0  1"
      ]
     },
     "execution_count": 105,
     "metadata": {},
     "output_type": "execute_result"
    }
   ],
   "source": [
    "# Matriz identidade usada para os testes\n",
    "ident = [1 0 0;\n",
    "         0 1 0;\n",
    "         0 0 1]"
   ]
  },
  {
   "cell_type": "code",
   "execution_count": 106,
   "id": "b43c6b14",
   "metadata": {},
   "outputs": [
    {
     "data": {
      "text/plain": [
       "true"
      ]
     },
     "execution_count": 106,
     "metadata": {},
     "output_type": "execute_result"
    }
   ],
   "source": [
    "A = [3.0 2.0 4.0; \n",
    "    1.0 1.0 2.0; \n",
    "    4.0 3.0 -2.0]\n",
    "A_inv = inversa_LU(A)\n",
    "A*A_inv ≈ ident"
   ]
  },
  {
   "cell_type": "code",
   "execution_count": 107,
   "id": "f255449c",
   "metadata": {},
   "outputs": [
    {
     "data": {
      "text/plain": [
       "true"
      ]
     },
     "execution_count": 107,
     "metadata": {},
     "output_type": "execute_result"
    }
   ],
   "source": [
    "A = [1.0 2.0 3.0; \n",
    "    4.0 -2.0 6.0; \n",
    "    1.0 4.0 5.0]\n",
    "A_inv = inversa_LU(A)\n",
    "A*A_inv ≈ ident"
   ]
  },
  {
   "cell_type": "code",
   "execution_count": 108,
   "id": "cf33d574",
   "metadata": {},
   "outputs": [
    {
     "data": {
      "text/plain": [
       "true"
      ]
     },
     "execution_count": 108,
     "metadata": {},
     "output_type": "execute_result"
    }
   ],
   "source": [
    "A = [8.0 -4.0 -2.0; \n",
    "    -4.0 10.0 -2.0; \n",
    "    -2.0 -2.0 10.0]\n",
    "A_inv = inversa_LU(A)\n",
    "A*A_inv ≈ ident"
   ]
  },
  {
   "cell_type": "markdown",
   "id": "f700ba6f",
   "metadata": {},
   "source": [
    "Questão 3"
   ]
  },
  {
   "cell_type": "code",
   "execution_count": 144,
   "id": "ace2351e",
   "metadata": {},
   "outputs": [
    {
     "data": {
      "text/plain": [
       "4×4 Matrix{Float64}:\n",
       "  1.0   -0.25  -0.25   0.0\n",
       " -0.25   1.0    0.0   -0.25\n",
       " -0.25   0.0    1.0   -0.25\n",
       "  0.0   -0.25  -0.25   1.0"
      ]
     },
     "execution_count": 144,
     "metadata": {},
     "output_type": "execute_result"
    }
   ],
   "source": [
    "A = [1 -1/4 -1/4 0; -1/4 1 0 -1/4; -1/4 0 1 -1/4; 0 -1/4 -1/4 1]"
   ]
  },
  {
   "cell_type": "code",
   "execution_count": 145,
   "id": "f4e718a1",
   "metadata": {},
   "outputs": [
    {
     "data": {
      "text/plain": [
       "1×4 Matrix{Float64}:\n",
       " 5.0  12.5  3.75  11.25"
      ]
     },
     "execution_count": 145,
     "metadata": {},
     "output_type": "execute_result"
    }
   ],
   "source": [
    "b = [5 50/4 15/4 45/4]"
   ]
  },
  {
   "cell_type": "code",
   "execution_count": 146,
   "id": "2b49c552",
   "metadata": {},
   "outputs": [
    {
     "name": "stdout",
     "output_type": "stream",
     "text": [
      "  0.000030 seconds (7 allocations: 736 bytes)\n"
     ]
    },
    {
     "data": {
      "text/plain": [
       "4-element Vector{Float64}:\n",
       " 13.125\n",
       " 20.625\n",
       " 11.875\n",
       " 19.375"
      ]
     },
     "execution_count": 146,
     "metadata": {},
     "output_type": "execute_result"
    }
   ],
   "source": [
    "# A*x = b, onde A = L*U\n",
    "# L*y = b, onde obtemos y para achar x\n",
    "# U*x = y, obtendo x\n",
    "@time begin\n",
    "    L, U = decomposicao_LU(A)\n",
    "    y = resolve_triangular_inferior(L, b)\n",
    "    x = resolve_triangular_superior(U, y)\n",
    "end"
   ]
  },
  {
   "cell_type": "code",
   "execution_count": 149,
   "id": "6c6713fe",
   "metadata": {},
   "outputs": [
    {
     "data": {
      "text/plain": [
       "25×25 Matrix{Float64}:\n",
       "  1.0   -0.25   0.0    0.0    0.0   …   0.0    0.0    0.0    0.0    0.0\n",
       " -0.25   1.0   -0.25   0.0    0.0       0.0    0.0    0.0    0.0    0.0\n",
       "  0.0   -0.25   1.0   -0.25   0.0       0.0    0.0    0.0    0.0    0.0\n",
       "  0.0    0.0   -0.25   1.0   -0.25      0.0    0.0    0.0    0.0    0.0\n",
       "  0.0    0.0    0.0   -0.25   1.0       0.0    0.0    0.0    0.0    0.0\n",
       " -0.25   0.0    0.0    0.0    0.0   …   0.0    0.0    0.0    0.0    0.0\n",
       "  0.0   -0.25   0.0    0.0    0.0       0.0    0.0    0.0    0.0    0.0\n",
       "  0.0    0.0   -0.25   0.0    0.0       0.0    0.0    0.0    0.0    0.0\n",
       "  0.0    0.0    0.0   -0.25   0.0       0.0    0.0    0.0    0.0    0.0\n",
       "  0.0    0.0    0.0    0.0   -0.25      0.0    0.0    0.0    0.0    0.0\n",
       "  0.0    0.0    0.0    0.0    0.0   …   0.0    0.0    0.0    0.0    0.0\n",
       "  0.0    0.0    0.0    0.0    0.0       0.0    0.0    0.0    0.0    0.0\n",
       "  0.0    0.0    0.0    0.0    0.0       0.0    0.0    0.0    0.0    0.0\n",
       "  0.0    0.0    0.0    0.0    0.0       0.0    0.0    0.0    0.0    0.0\n",
       "  0.0    0.0    0.0    0.0    0.0       0.0    0.0    0.0    0.0    0.0\n",
       "  0.0    0.0    0.0    0.0    0.0   …  -0.25   0.0    0.0    0.0    0.0\n",
       "  0.0    0.0    0.0    0.0    0.0       0.0   -0.25   0.0    0.0    0.0\n",
       "  0.0    0.0    0.0    0.0    0.0       0.0    0.0   -0.25   0.0    0.0\n",
       "  0.0    0.0    0.0    0.0    0.0       0.0    0.0    0.0   -0.25   0.0\n",
       "  0.0    0.0    0.0    0.0    0.0       0.0    0.0    0.0    0.0   -0.25\n",
       "  0.0    0.0    0.0    0.0    0.0   …   1.0   -0.25   0.0    0.0    0.0\n",
       "  0.0    0.0    0.0    0.0    0.0      -0.25   1.0   -0.25   0.0    0.0\n",
       "  0.0    0.0    0.0    0.0    0.0       0.0   -0.25   1.0   -0.25   0.0\n",
       "  0.0    0.0    0.0    0.0    0.0       0.0    0.0   -0.25   1.0   -0.25\n",
       "  0.0    0.0    0.0    0.0    0.0       0.0    0.0    0.0   -0.25   1.0"
      ]
     },
     "execution_count": 149,
     "metadata": {},
     "output_type": "execute_result"
    }
   ],
   "source": [
    "A = [1 -1/4 0 0 0 -1/4 0 0 0 0 0 0 0 0 0 0 0 0 0 0 0 0 0 0 0;\n",
    "     -1/4 1 -1/4 0 0 0 -1/4 0 0 0 0 0 0 0 0 0 0 0 0 0 0 0 0 0 0;\n",
    "     0 -1/4 1 -1/4 0 0 0 -1/4 0 0 0 0 0 0 0 0 0 0 0 0 0 0 0 0 0;\n",
    "     0 0 -1/4 1 -1/4 0 0 0 -1/4 0 0 0 0 0 0 0 0 0 0 0 0 0 0 0 0;\n",
    "     0 0 0 -1/4 1 0 0 0 0 -1/4 0 0 0 0 0 0 0 0 0 0 0 0 0 0 0;\n",
    "     -1/4 0 0 0 0 1 -1/4 0 0 0 -1/4 0 0 0 0 0 0 0 0 0 0 0 0 0 0;\n",
    "     0 -1/4 0 0 0 -1/4 1 -1/4 0 0 0 -1/4 0 0 0 0 0 0 0 0 0 0 0 0 0;\n",
    "     0 0 -1/4 0 0 0 -1/4 1 -1/4 0 0 0 -1/4 0 0 0 0 0 0 0 0 0 0 0 0;\n",
    "     0 0 0 -1/4 0 0 0 -1/4 1 -1/4 0 0 0 -1/4 0 0 0 0 0 0 0 0 0 0 0;\n",
    "     0 0 0 0 -1/4 0 0 0 -1/4 1 0 0 0 0 -1/4 0 0 0 0 0 0 0 0 0 0;\n",
    "     0 0 0 0 0 -1/4 0 0 0 0 1 -1/4 0 0 0 -1/4 0 0 0 0 0 0 0 0 0;\n",
    "     0 0 0 0 0 0 -1/4 0 0 0 -1/4 1 -1/4 0 0 0 -1/4 0 0 0 0 0 0 0 0;\n",
    "     0 0 0 0 0 0 0 -1/4 0 0 0 -1/4 1 -1/4 0 0 0 -1/4 0 0 0 0 0 0 0;\n",
    "     0 0 0 0 0 0 0 0 -1/4 0 0 0 -1/4 1 -1/4 0 0 0 -1/4 0 0 0 0 0 0;\n",
    "     0 0 0 0 0 0 0 0 0 -1/4 0 0 -1/4 1 0 0 0 0 0 -1/4 0 0 0 0 0;\n",
    "     0 0 0 0 0 0 0 0 0 0 -1/4 0 0 0 0 1 -1/4 0 0 0 -1/4 0 0 0 0;\n",
    "     0 0 0 0 0 0 0 0 0 0 0 -1/4 0 0 0 -1/4 1 -1/4 0 0 0 -1/4 0 0 0;\n",
    "     0 0 0 0 0 0 0 0 0 0 0 0 -1/4 0 0 0 -1/4 1 -1/4 0 0 0 -1/4 0 0;\n",
    "     0 0 0 0 0 0 0 0 0 0 0 0 0 -1/4 0 0 0 -1/4 1 -1/4 0 0 0 -1/4 0;\n",
    "     0 0 0 0 0 0 0 0 0 0 0 0 0 0 -1/4 0 0 0 -1/4 1 0 0 0 0 -1/4;\n",
    "     0 0 0 0 0 0 0 0 0 0 0 0 0 0 0 -1/4 0 0 0 0 1 -1/4 0 0 0;\n",
    "     0 0 0 0 0 0 0 0 0 0 0 0 0 0 0 0 -1/4 0 0 0 -1/4 1 -1/4 0 0;\n",
    "     0 0 0 0 0 0 0 0 0 0 0 0 0 0 0 0 0 -1/4 0 0 0 -1/4 1 -1/4 0;\n",
    "     0 0 0 0 0 0 0 0 0 0 0 0 0 0 0 0 0 0 -1/4 0 0 0 -1/4 1 -1/4;\n",
    "     0 0 0 0 0 0 0 0 0 0 0 0 0 0 0 0 0 0 0 -1/4 0 0 0 -1/4 1;]"
   ]
  },
  {
   "cell_type": "code",
   "execution_count": 150,
   "id": "ec96f3fc",
   "metadata": {},
   "outputs": [
    {
     "data": {
      "text/plain": [
       "25-element Vector{Float64}:\n",
       " 11.25\n",
       "  5.0\n",
       "  5.0\n",
       "  5.0\n",
       " 10.0\n",
       "  6.25\n",
       "  0.0\n",
       "  0.0\n",
       "  0.0\n",
       "  5.0\n",
       "  6.25\n",
       "  0.0\n",
       "  0.0\n",
       "  0.0\n",
       "  5.0\n",
       "  6.25\n",
       "  0.0\n",
       "  0.0\n",
       "  0.0\n",
       "  5.0\n",
       " 13.75\n",
       "  7.5\n",
       "  7.5\n",
       "  7.5\n",
       " 12.5"
      ]
     },
     "execution_count": 150,
     "metadata": {},
     "output_type": "execute_result"
    }
   ],
   "source": [
    "b = [45/4 ; \n",
    "    20/4; \n",
    "    20/4 ; \n",
    "    20/4; \n",
    "    40/4; \n",
    "    25/4; \n",
    "    0; \n",
    "    0; \n",
    "    0; \n",
    "    20/4; \n",
    "    25/4; \n",
    "    0; \n",
    "    0; \n",
    "    0; \n",
    "    20/4; \n",
    "    25/4; \n",
    "    0; \n",
    "    0; \n",
    "    0; \n",
    "    20/4; \n",
    "    55/4; \n",
    "    30/4; \n",
    "    30/4; \n",
    "    30/4; \n",
    "    50/4]"
   ]
  },
  {
   "cell_type": "code",
   "execution_count": 152,
   "id": "5c308e9f",
   "metadata": {},
   "outputs": [
    {
     "data": {
      "text/plain": [
       "25-element Vector{Float64}:\n",
       " 22.544910929891554\n",
       " 21.518050214897478\n",
       " 20.87762318174459\n",
       " 20.320043856439405\n",
       " 19.899858605080322\n",
       " 23.661593504668744\n",
       " 22.64966674795377\n",
       " 21.672398655641462\n",
       " 20.502693638932705\n",
       " 19.27939056388188\n",
       " 24.45179634082966\n",
       " 23.74662461660739\n",
       " 22.659611053934803\n",
       " 20.738941479768073\n",
       " 16.715010011514508\n",
       " 25.398967242042485\n",
       " 25.225424323711348\n",
       " 24.48047946372228\n",
       " 23.078451214690272\n",
       " 21.016764301255613\n",
       " 26.918648303628935\n",
       " 27.275625972473247\n",
       " 26.958431262552672\n",
       " 26.07761961401516\n",
       " 24.27359597881769"
      ]
     },
     "execution_count": 152,
     "metadata": {},
     "output_type": "execute_result"
    }
   ],
   "source": [
    "# A*x = b, onde A = L*U\n",
    "# L*y = b, onde obtemos y para achar x\n",
    "# U*x = y, obtendo x\n",
    "L, U = decomposicao_LU(A)\n",
    "y = resolve_triangular_inferior(L, b)\n",
    "x = resolve_triangular_superior(U, y)"
   ]
  }
 ],
 "metadata": {
  "kernelspec": {
   "display_name": "Julia 1.6.4",
   "language": "julia",
   "name": "julia-1.6"
  },
  "language_info": {
   "file_extension": ".jl",
   "mimetype": "application/julia",
   "name": "julia",
   "version": "1.6.4"
  }
 },
 "nbformat": 4,
 "nbformat_minor": 5
}
